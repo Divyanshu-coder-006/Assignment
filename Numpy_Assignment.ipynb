{
 "cells": [
  {
   "cell_type": "markdown",
   "id": "fd0d00c3-6005-44d3-a777-290e741a36a0",
   "metadata": {},
   "source": [
    "# NUMPY ASSIGNMENT"
   ]
  },
  {
   "cell_type": "markdown",
   "id": "7fb0d5ef-b5d2-4feb-ae11-79a1f26be9f8",
   "metadata": {},
   "source": [
    "## Theoretical Questions:"
   ]
  },
  {
   "cell_type": "code",
   "execution_count": 1,
   "id": "a97c395d-f995-475e-b84c-07f1adc418f6",
   "metadata": {},
   "outputs": [],
   "source": [
    "#1. Explain the purpose and advantages of Numpy in scientific computing and data analysis.How does it enhance\n",
    "#   python's capabilities for numerical operations?\n",
    "#Ans.NumPy enhances Python's capabilities for numerical operations by providing a high-performance multidimensional array object and a        suite of tools for manipulating these arrays. This library is fundamental for scientific computing and data analysis, offering           speed, simplicity, and interoperability. \n",
    "#Purpose of NumPy:\n",
    "#Efficient Numerical Operations:\n",
    "#   NumPy provides a fast and efficient way to perform numerical computations, especially on large datasets. It uses compiled C code for     array operations, making them significantly faster than using Python lists for the same tasks. \n",
    "#Multidimensional Arrays (ndarrays):\n",
    "#   NumPy's core data structure is the ndarray, which is a homogeneous, N-dimensional array that can store data of the same type. \n",
    "#   Vectorized Operations:\n",
    "#   NumPy's array operations are vectorized, meaning they operate on entire arrays at once rather than individual elements, reducing the     need for explicit looping and making code more concise. \n",
    "#Advantages of NumPy:\n",
    "#Efficiency:\n",
    "#   NumPy's C-based implementation and vectorized operations lead to significant speed gains when performing numerical computations. \n",
    "#Memory Efficiency:\n",
    "#   NumPy arrays store data in contiguous memory blocks, reducing memory overhead compared to Python lists. \n",
    "#Interoperability:\n",
    "#   NumPy seamlessly integrates with other Python libraries like Pandas, SciPy, and Matplotlib, facilitating a cohesive data science         workflow. \n",
    "#Simplicity:\n",
    "#   NumPy's intuitive syntax and vectorized operations simplify complex numerical computations, reducing the need for explicit looping. \n",
    "#   Wide Range of Functions:\n",
    "#   NumPy provides a comprehensive set of functions for performing various mathematical, statistical, and linear algebra operations on       arrays. \n",
    "#How NumPy Enhances Python's Capabilities:\n",
    "#Speed:\n",
    "#   NumPy's array operations are much faster than traditional Python list operations, making it suitable for computationally intensive       tasks. \n",
    "#Data Analysis:\n",
    "#   NumPy is a cornerstone of data analysis, providing tools for data cleaning, transformation, and aggregation. \n",
    "#   Scientific Computing:\n",
    "#   NumPy is essential for scientific computing, enabling tasks like linear algebra, statistical analysis, and signal processing. \n",
    "#Machine Learning:\n",
    "#   NumPy is widely used by machine learning libraries like TensorFlow and scikit-learn for mathematical computations. "
   ]
  },
  {
   "cell_type": "code",
   "execution_count": 2,
   "id": "946bbc78-4d17-40b1-9b67-3587d26c427f",
   "metadata": {},
   "outputs": [],
   "source": [
    "#2. Compare and contrast np.mean() and np.average() functions in NumPy.when would you use one over the other?\n",
    "#Ans.In NumPy, both np.mean() and np.average() calculate averages, but np.average() offers more flexibility, including the ability to \n",
    "#    compute weighted averages, while np.mean() always calculates an unweighted arithmetic mean. np.average() can be used for weighted\n",
    "#    averages by providing a weights parameter, while np.mean() does not have this feature. "
   ]
  },
  {
   "cell_type": "code",
   "execution_count": 3,
   "id": "64bbd9f5-9913-4931-81ec-77d35080bf59",
   "metadata": {},
   "outputs": [],
   "source": [
    "#3. Describe the methods for reversing a NumPy array along different axes.Provide examples for 1D and 2D arrays.\n",
    "#Ans.NumPy provides several methods to reverse arrays along specified axes:\n",
    "#Slicing:\n",
    "#   It creates a reversed view of the array without modifying the original. For a 1D array, arr[::-1] reverses the order of elements. In\n",
    "#   2D arrays, arr[::-1, :] reverses rows, and arr[:, ::-1] reverses columns.\n",
    "#numpy.flip():\n",
    "#   This function reverses the elements along a given axis. It takes the array and the axis as input. If no axis is specified, it     \n",
    "#   reverses the order of all elements, flattening the array if necessary.\n",
    "#numpy.flipud():\n",
    "#   Specifically for 2D arrays, it flips the array vertically (up-down), equivalent to numpy.flip(arr, axis=0).\n",
    "#numpy.fliplr():\n",
    "#   Also for 2D arrays, it flips the array horizontally (left-right), equivalent to numpy.flip(arr, axis=1)."
   ]
  },
  {
   "cell_type": "code",
   "execution_count": 6,
   "id": "3e8d211a-3e40-4477-b7ca-f7d7aa94d4c9",
   "metadata": {},
   "outputs": [
    {
     "name": "stdout",
     "output_type": "stream",
     "text": [
      "Original 1D array: [1 2 3 4 5]\n",
      "Reversed 1D array (slice): [5 4 3 2 1]\n",
      "Reversed 1D array (flip): [5 4 3 2 1]\n",
      "Original 2D array:\n",
      " [[1 2 3]\n",
      " [4 5 6]\n",
      " [7 8 9]]\n",
      "Reversed 2D array (rows, slice):\n",
      " [[7 8 9]\n",
      " [4 5 6]\n",
      " [1 2 3]]\n",
      "Reversed 2D array (columns, slice):\n",
      " [[3 2 1]\n",
      " [6 5 4]\n",
      " [9 8 7]]\n",
      "Reversed 2D array (rows, flip):\n",
      " [[7 8 9]\n",
      " [4 5 6]\n",
      " [1 2 3]]\n",
      "Reversed 2D array (columns, flip):\n",
      " [[3 2 1]\n",
      " [6 5 4]\n",
      " [9 8 7]]\n",
      "Reversed 2D array (flipud):\n",
      " [[7 8 9]\n",
      " [4 5 6]\n",
      " [1 2 3]]\n",
      "Reversed 2D array (fliplr):\n",
      " [[3 2 1]\n",
      " [6 5 4]\n",
      " [9 8 7]]\n"
     ]
    }
   ],
   "source": [
    "import numpy as np\n",
    "\n",
    "# 1D array\n",
    "arr_1d = np.array([1, 2, 3, 4, 5])\n",
    "print(\"Original 1D array:\", arr_1d)\n",
    "\n",
    "# Reverse using slicing\n",
    "reversed_1d_slice = arr_1d[::-1]\n",
    "print(\"Reversed 1D array (slice):\", reversed_1d_slice)\n",
    "\n",
    "# Reverse using numpy.flip()\n",
    "reversed_1d_flip = np.flip(arr_1d)\n",
    "print(\"Reversed 1D array (flip):\", reversed_1d_flip)\n",
    "\n",
    "# 2D array\n",
    "arr_2d = np.array([[1, 2, 3], [4, 5, 6], [7, 8, 9]])\n",
    "print(\"Original 2D array:\\n\", arr_2d)\n",
    "\n",
    "# Reverse rows using slicing\n",
    "reversed_2d_rows_slice = arr_2d[::-1, :]\n",
    "print(\"Reversed 2D array (rows, slice):\\n\", reversed_2d_rows_slice)\n",
    "\n",
    "# Reverse columns using slicing\n",
    "reversed_2d_cols_slice = arr_2d[:, ::-1]\n",
    "print(\"Reversed 2D array (columns, slice):\\n\", reversed_2d_cols_slice)\n",
    "\n",
    "# Reverse using numpy.flip() along axis 0 (rows)\n",
    "reversed_2d_rows_flip = np.flip(arr_2d, axis=0)\n",
    "print(\"Reversed 2D array (rows, flip):\\n\", reversed_2d_rows_flip)\n",
    "\n",
    "# Reverse using numpy.flip() along axis 1 (columns)\n",
    "reversed_2d_cols_flip = np.flip(arr_2d, axis=1)\n",
    "print(\"Reversed 2D array (columns, flip):\\n\", reversed_2d_cols_flip)\n",
    "\n",
    "# Reverse using numpy.flipud()\n",
    "reversed_2d_flipud = np.flipud(arr_2d)\n",
    "print(\"Reversed 2D array (flipud):\\n\", reversed_2d_flipud)\n",
    "\n",
    "# Reverse using numpy.fliplr()\n",
    "reversed_2d_fliplr = np.fliplr(arr_2d)\n",
    "print(\"Reversed 2D array (fliplr):\\n\", reversed_2d_fliplr)"
   ]
  },
  {
   "cell_type": "code",
   "execution_count": 10,
   "id": "61ab0795-877c-46b8-8083-c1cc6f05a040",
   "metadata": {},
   "outputs": [
    {
     "name": "stdout",
     "output_type": "stream",
     "text": [
      "int32\n",
      "float64\n",
      "d\n",
      "f\n",
      "Integer array data type: int32\n",
      "Integer array item size: 4 bytes\n",
      "Integer array memory size: 124 bytes\n",
      "Float array data type: float64\n",
      "Float array item size: 8 bytes\n",
      "Float array memory size: 136 bytes\n"
     ]
    }
   ],
   "source": [
    "#4.How can you determine  the data type of elements in a NumPy array? Discuss the importance of datatypes in a memory management and \n",
    "#  performance.\n",
    "#Ans.To determine the data type of elements in a NumPy array, you can use the dtype attribute of the array. This attribute reveals the  \n",
    "     #data type of the array's elements. Data types are crucial for memory management and performance because they directly influence how \n",
    "     #much memory each element occupies and how efficiently operations can be performed on the array. \n",
    "#Determining Data Type:\n",
    "#dtype Attribute: The most straightforward way to get the data type is by accessing the dtype attribute of the NumPy array. \n",
    "#example.\n",
    "arr = np.array((1, 2, 3))\n",
    "print(arr.dtype) # Output: int64 (or int32, depending on the system)\n",
    "#Data Type Objects: NumPy provides data type objects (dtypes) that store information about the data type, including its name, character \n",
    "#code, and more.\n",
    "#example:\n",
    "arr = np.array([1.0, 2.0, 3.0])\n",
    "print(arr.dtype.name)  # Output: float64\n",
    "print(arr.dtype.char) # Output: f\n",
    "print(arr.dtype.kind) # Output: f (floating-point)\n",
    "#Importance of Data Types:\n",
    "#Memory Management:\n",
    "#Choosing the right data type can significantly impact memory usage. Smaller data types (e.g., int8, float32) require less memory per \n",
    "#element than larger ones (e.g., int64, float64). This is particularly important for large datasets.\n",
    "#Performance:\n",
    "#Certain operations can be faster with specific data types. For example, some hardware instructions are optimized for particular data \n",
    "#types, and using an appropriate type can lead to faster computations.\n",
    "\n",
    "import sys\n",
    "\n",
    "# Integer array (int32)\n",
    "arr_int = np.array([1, 2, 3], dtype=np.int32)\n",
    "print(f\"Integer array data type: {arr_int.dtype}\")\n",
    "print(f\"Integer array item size: {arr_int.itemsize} bytes\")\n",
    "print(f\"Integer array memory size: {sys.getsizeof(arr_int)} bytes\")\n",
    "\n",
    "# Floating-point array (float64)\n",
    "arr_float = np.array([1.0, 2.0, 3.0])\n",
    "print(f\"Float array data type: {arr_float.dtype}\")\n",
    "print(f\"Float array item size: {arr_float.itemsize} bytes\")\n",
    "print(f\"Float array memory size: {sys.getsizeof(arr_float)} bytes\")\n",
    "#In this example, you can see how the int32 array uses 4 bytes per element (or 12 bytes total) while the default float64 array uses 8 \n",
    "#bytes per element (or 24 bytes total). This demonstrates the difference in memory usage based on the data type. "
   ]
  },
  {
   "cell_type": "code",
   "execution_count": null,
   "id": "683b129b-5db5-4ff5-b7c6-a766ded87d64",
   "metadata": {},
   "outputs": [],
   "source": [
    "#5.Define ndarrays in NumPy and explain their key features. How do they differ from standard python lists?\n",
    "#Ans.In NumPy, an ndarray (N-dimensional array) is a powerful data structure used for storing and manipulating large, homogeneous      \n",
    "#collections of data. It's a multi-dimensional container of items of the same type and size. Compared to Python lists, ndarrays offer   \n",
    "#significant advantages in speed and efficiency for numerical computations, making them essential for scientific computing and data analysis. \n",
    "\n",
    "#Key Features of NumPy ndarrays:\n",
    "#Homogeneous:\n",
    "#   All elements within an ndarray must be of the same data type (dtype). \n",
    "#Multidimensional:\n",
    "#   ndarrays can have multiple dimensions, allowing for the representation of complex data structures like matrices and tensors. \n",
    "#Fixed Size:\n",
    "#   The size of an ndarray is typically fixed at creation, although it can be adjusted with some operations that might create new arrays and delete \n",
    "#   the original. \n",
    "#Efficient Storage:\n",
    "#   ndarrays store data in contiguous memory blocks, which improves performance for vectorized operations. \n",
    "#Data Type Object (dtype):\n",
    "#   Each ndarray has an associated dtype that specifies the type of elements it stores. \n",
    "#Vectorized Operations:\n",
    "#   NumPy enables efficient element-wise operations on entire arrays without explicit loops. \n",
    "#Array Slicing and Indexing:\n",
    "#   ndarrays can be accessed and modified using various indexing and slicing techniques. \n",
    "\n",
    "#Differences from Python Lists:\n",
    "#Homogeneity:\n",
    "#   Python lists can contain elements of different data types, while ndarrays must be homogeneous. \n",
    "#Size:\n",
    "#   Python lists are dynamic and can grow or shrink as needed. NumPy arrays typically have a fixed size at creation. \n",
    "#Performance:\n",
    "#   ndarrays are optimized for numerical computations and offer significantly faster performance than Python lists for vectorized \n",
    "#   operations. \n",
    "#Memory Usage:\n",
    "#   NumPy arrays can be more memory-efficient than Python lists, especially for large datasets. \n",
    "#Methods and Functions:\n",
    "#   NumPy provides a rich set of built-in functions and methods for working with arrays, such as linear algebra operations, Fourier \n",
    "#   transforms, and random number generation. Python lists have more general-purpose methods for list manipulation. "
   ]
  },
  {
   "cell_type": "code",
   "execution_count": 4,
   "id": "abeb8efd-5605-4728-bb7a-826b3c553bf3",
   "metadata": {},
   "outputs": [],
   "source": [
    "#6. Analyze the performance benefits of NumPy arrays over Python lists for large-scale numerical operations.\n",
    "#Ans.NumPy arrays significantly outperform Python lists for numerical operations, especially with large datasets, due to their optimized storage,\n",
    "#    vectorized operations, and efficient memory usage. NumPy arrays store elements of the same data type in contiguous memory,      while Python lists\n",
    "#    can hold objects of different types, leading to increased overhead. NumPy's vectorized operations, which perform      operations on entire arrays\n",
    "#    at once, avoid explicit looping, resulting in substantial speed gains. "
   ]
  },
  {
   "cell_type": "code",
   "execution_count": 7,
   "id": "22b45607-59cf-446e-bf42-9133ef79d14c",
   "metadata": {},
   "outputs": [
    {
     "name": "stdout",
     "output_type": "stream",
     "text": [
      "[[1 2]\n",
      " [3 4]\n",
      " [5 6]\n",
      " [7 8]]\n",
      "[[1 2 5 6]\n",
      " [3 4 7 8]]\n"
     ]
    }
   ],
   "source": [
    "#7. Compare vstack() and hstack() functions in NumPy.Provide examples demonstrating their usage and output.\n",
    "#Ans.In NumPy, vstack() stacks arrays vertically along the rows, while hstack() stacks them horizontally along the columns. Both          \n",
    "    #functions are used to combine arrays, but they do so in different directions. \n",
    "    #vstack() (Vertical Stack)\n",
    "    #Combines arrays vertically, creating a new array where the arrays are stacked on top of each other. \n",
    "    #The arrays being stacked must have the same number of columns. \n",
    "    #Effectively concatenates along the first axis (axis=0). \n",
    "\n",
    "#Example:\n",
    "arr1 = np.array([[1, 2], [3, 4]])\n",
    "arr2 = np.array([[5, 6], [7, 8]])\n",
    "\n",
    "stacked_vertical = np.vstack((arr1, arr2))\n",
    "print(stacked_vertical)\n",
    "\n",
    "#hstack() (Horizontal Stack)\n",
    "#Combines arrays horizontally, placing them side by side.\n",
    "#The arrays being stacked must have the same number of rows.\n",
    "#Effectively concatenates along the second axis (axis=1).\n",
    "\n",
    "#Example:\n",
    "\n",
    "arr1 = np.array([[1, 2], [3, 4]])\n",
    "arr2 = np.array([[5, 6], [7, 8]])\n",
    "\n",
    "stacked_horizontal = np.hstack((arr1, arr2))\n",
    "print(stacked_horizontal)"
   ]
  },
  {
   "cell_type": "code",
   "execution_count": 8,
   "id": "750123b6-071f-4f61-ac07-f48f00023a9d",
   "metadata": {},
   "outputs": [],
   "source": [
    "#8.Explain the differences between fliplr() and flipud() methods in NumPy,including their effects on various array dimensions.\n",
    "#Ans.In NumPy, fliplr() flips a 2D array horizontally (left to right), while flipud() flips a 2D array vertically (up to down). Both fliplr() and\n",
    "#    flipud() are specialized versions of the more general np.flip() function, which can flip along any axis. For fliplr(),this corresponds to flipping\n",
    "#    along the second axis (axis=1), and for flipud(), it corresponds to flipping along the first axis(axis=0). \n",
    "#Effects on Various Array Dimensions:\n",
    "#1D Arrays:\n",
    "#    fliplr() raises a ValueError because it's designed for 2D arrays and only works with the second axis. \n",
    "#    flipud() works the same way as np.flip(a, axis=0) and reverses the order of elements in the 1D array. \n",
    "#2D Arrays:\n",
    "#    fliplr() flips the array horizontally, reversing the order of elements within each row. \n",
    "#    flipud() flips the array vertically, reversing the order of elements within each column. \n",
    "#3D+ Arrays:\n",
    "#    fliplr() flips the array along the second axis (the \"columns\" axis). \n",
    "#    flipud() flips the array along the first axis (the \"rows\" axis). \n",
    "#    For example, in a 3D array a.shape = (4, 17, 17), fliplr(a) would flip each of the 4 \"planes\" (the 17x17 matrices within the 3D array) horizontally,\n",
    "#    while flipud(a) would flip the entire 3D array vertically. \n",
    "#In essence:\n",
    "#    fliplr() is equivalent to np.flip(a, axis=1) for 2D arrays and flips horizontally along the second axis for multi-dimensional arrays.\n",
    "#    flipud() is equivalent to np.flip(a, axis=0) for 2D arrays and flips vertically along the first axis for multi-dimensional arrays. "
   ]
  },
  {
   "cell_type": "code",
   "execution_count": 12,
   "id": "a8a9c0e5-4999-4516-83c1-211b9dd47563",
   "metadata": {},
   "outputs": [
    {
     "name": "stdout",
     "output_type": "stream",
     "text": [
      "[array([0., 1., 2.]), array([3., 4., 5.]), array([6., 7.])]\n"
     ]
    }
   ],
   "source": [
    "#9.Discuss the functionality of the array_split() method in NumPy.How does it handle uneven splits?\n",
    "#Ans.The NumPy function array_split() divides an array into multiple sub-arrays, even if the division doesn't result in equal-sized \n",
    "    #chunks. It handles uneven splits by distributing the \"remainder\" elements across the first few sub-arrays, ensuring that all \n",
    "    #elements of the original array are included in the split. \n",
    "#How it works:\n",
    "#1. Input:\n",
    " #The function takes a NumPy array and an integer indices_or_sections as input. This integer specifies how many sections or splits to \n",
    " #create. \n",
    "#2. Uneven Split:\n",
    " #If the length of the array is not divisible by the number of desired sections, the resulting sub-arrays will have different sizes. \n",
    " #Some sub-arrays will be larger than others. \n",
    "#3. Distribution of Remainder:\n",
    " #array_split() distributes the \"remainder\" elements (elements not divisible evenly) across the first few sub-arrays, making them \n",
    " #slightly larger than the others. \n",
    "\n",
    "#Example\n",
    "# Original array\n",
    "x = np.arange(8.0)\n",
    "\n",
    "# Splitting into 3 sections\n",
    "splits = np.array_split(x, 3)\n",
    "\n",
    "# Output: [array([0., 1., 2.]), array([3., 4., 5.]), array([6., 7.])]\n",
    "print(splits)\n",
    "#In this example, the 8 elements of x are split into 3 sub-arrays. The first two sub-arrays have 3 elements each, while the third \n",
    "#sub-array has only 2 elements. The uneven split is managed by ensuring that all elements are included in the sub-arrays. "
   ]
  },
  {
   "cell_type": "code",
   "execution_count": 9,
   "id": "cd202b57-133c-4230-a8f6-5c8db1e66fec",
   "metadata": {},
   "outputs": [],
   "source": [
    "#10.Explain the concepts of vectorisation and broadcasting in NumPy.How do they contribute to efficient array operations?\n",
    "#Ans.In NumPy, vectorization involves performing operations on entire arrays at once, instead of iterating through individual elements. Broadcasting is\n",
    "#   a mechanism that enables NumPy to handle operations on arrays with different shapes by conceptually \"stretching\" the smaller array to match the\n",
    "#   larger one. Both significantly enhance efficiency in array operations. \n",
    "#Vectorization:\n",
    "#Definition:\n",
    "#Vectorization replaces loops with vectorized operations, enabling NumPy to perform operations on all elements of an array simultaneously. \n",
    "#Benefits:\n",
    "#Speed: Vectorized operations are significantly faster than explicit Python loops due to C implementation and efficient memory usage. \n",
    "#Conciseness: Code becomes more readable and compact. \n",
    "#Memory Efficiency: NumPy arrays are designed for efficient storage and manipulation, further enhancing performance. \n",
    "\n",
    "#Broadcasting:\n",
    "#Definition:\n",
    "#Broadcasting allows NumPy to perform operations on arrays with different shapes by implicitly expanding the smaller array to match the larger one. \n",
    "#Benefits:\n",
    "#Efficiency: Broadcasting avoids explicit reshaping or looping, leading to faster execution. \n",
    "#Flexibility: It enables operations on arrays with varying shapes without the need for manual reshaping. \n",
    "#Code Readability: It simplifies operations, making code more concise and understandable. "
   ]
  },
  {
   "cell_type": "markdown",
   "id": "deed3456-4f62-4782-9563-07a9b96cc374",
   "metadata": {},
   "source": [
    "# Practical Questions"
   ]
  },
  {
   "cell_type": "code",
   "execution_count": 22,
   "id": "f33f5f28-b8a8-40fa-8f94-ca9922ab4901",
   "metadata": {},
   "outputs": [
    {
     "name": "stdout",
     "output_type": "stream",
     "text": [
      "Original array:\n",
      " [[44 27  2]\n",
      " [30 27 91]\n",
      " [15 90 83]]\n",
      "\n",
      "Transposed array:\n",
      " [[44 30 15]\n",
      " [27 27 90]\n",
      " [ 2 91 83]]\n"
     ]
    }
   ],
   "source": [
    "#1.Create a 3x3 NumPy array with random integers between 1 and 100.Then,interchange itd rows and columns.\n",
    "#Ans.\n",
    "random_array = np.random.randint(1,101, size=(3, 3))\n",
    "transposed_array = random_array.T\n",
    "print(\"Original array:\\n\",random_array)\n",
    "print(\"\\nTransposed array:\\n\",transposed_array)"
   ]
  },
  {
   "cell_type": "code",
   "execution_count": 23,
   "id": "c28516b9-c601-417c-804c-d013c518f294",
   "metadata": {},
   "outputs": [
    {
     "name": "stdout",
     "output_type": "stream",
     "text": [
      "1D Array:\n",
      "[0 1 2 3 4 5 6 7 8 9]\n",
      "\n",
      "2x5 Array:\n",
      "[[0 1 2 3 4]\n",
      " [5 6 7 8 9]]\n",
      "\n",
      "5x2 Array:\n",
      "[[0 1]\n",
      " [2 3]\n",
      " [4 5]\n",
      " [6 7]\n",
      " [8 9]]\n"
     ]
    }
   ],
   "source": [
    "#2.Generate a 1D NumPy array with 10 elements.Reshape it into a 2x5 array,then into a 5x2 array.\n",
    "#Ans.\n",
    "arr_1d = np.arange(10)\n",
    "print(\"1D Array:\")\n",
    "print(arr_1d)\n",
    "\n",
    "arr_2x5 = arr_1d.reshape(2, 5)\n",
    "print(\"\\n2x5 Array:\")\n",
    "print(arr_2x5)\n",
    "\n",
    "arr_5x2 = arr_2x5.reshape(5,2)\n",
    "print(\"\\n5x2 Array:\")\n",
    "print(arr_5x2)"
   ]
  },
  {
   "cell_type": "code",
   "execution_count": 24,
   "id": "7f849c7e-c0b6-43d1-9690-51abea4a6ccb",
   "metadata": {},
   "outputs": [
    {
     "name": "stdout",
     "output_type": "stream",
     "text": [
      "[[0.         0.         0.         0.         0.         0.        ]\n",
      " [0.         0.70019038 0.03519422 0.50229108 0.39670831 0.        ]\n",
      " [0.         0.09375583 0.83813604 0.86993053 0.72610768 0.        ]\n",
      " [0.         0.09898591 0.17241086 0.14390155 0.6877647  0.        ]\n",
      " [0.         0.42776432 0.54972532 0.8290364  0.11354253 0.        ]\n",
      " [0.         0.         0.         0.         0.         0.        ]]\n"
     ]
    }
   ],
   "source": [
    "#3.Create a 4x4 NumPy array with random float values.Add a border of zeroes around it,resulting in a 6x6 array.\n",
    "#Ans.\n",
    "random_array = np.random.rand(4, 4)\n",
    "bordered_array = np.zeros((6, 6))\n",
    "bordered_array[1:5,1:5] = random_array\n",
    "print(bordered_array)"
   ]
  },
  {
   "cell_type": "code",
   "execution_count": 25,
   "id": "c59a167a-e0be-4e5f-b6dc-59dfaf60571f",
   "metadata": {},
   "outputs": [
    {
     "name": "stdout",
     "output_type": "stream",
     "text": [
      "[10 15 20 25 30 35 40 45 50 55 60]\n"
     ]
    }
   ],
   "source": [
    "#4.Using NumPy,create an array of integers from 10 to 60 with a step of 5.\n",
    "#Ans.\n",
    "arr = np.arange(10, 61, 5)\n",
    "print(arr)"
   ]
  },
  {
   "cell_type": "code",
   "execution_count": 17,
   "id": "8f7ae6e4-def1-42ac-b06c-794c267299f1",
   "metadata": {},
   "outputs": [
    {
     "name": "stdout",
     "output_type": "stream",
     "text": [
      "Original_array: ['python' 'numpy' 'pandas']\n",
      "Uppercase: ['PYTHON' 'NUMPY' 'PANDAS']\n",
      "Lowercase: ['python' 'numpy' 'pandas']\n",
      "Titlecase: ['Python' 'Numpy' 'Pandas']\n"
     ]
    }
   ],
   "source": [
    "#5.Create a NumPy array of strings['python','numpy','pandas'].Apply different case transformations (uppercase,lowercase,title case,etc.)\n",
    "  #to each element.\n",
    "#Ans.\n",
    "x = np.array(['python','numpy','pandas'])\n",
    "print(\"Original_array:\",x)\n",
    "#Converting all characters to Uppercase\n",
    "uppered_case =np.char.upper(x)\n",
    "#Converting all characters to Lowercase\n",
    "lowered_case = np.char.lower(x)\n",
    "#Converting all characters to Titlecase\n",
    "title_case = np.char.title(x)\n",
    "#Displaying the modifying arrays\n",
    "print(\"Uppercase:\",uppered_case)\n",
    "print(\"Lowercase:\",lowered_case)\n",
    "print(\"Titlecase:\",title_case)"
   ]
  },
  {
   "cell_type": "code",
   "execution_count": 26,
   "id": "93041046-18e8-4975-83c0-3bdcd478fe0e",
   "metadata": {},
   "outputs": [
    {
     "name": "stdout",
     "output_type": "stream",
     "text": [
      "['a p p l e' 'b a n a n a' 'c h e r r y']\n"
     ]
    }
   ],
   "source": [
    "#6.Generate a NumPy array of words.insert a space between each character of every word in the array.\n",
    "#Ans.\n",
    "word_list = ['apple','banana','cherry']\n",
    "word_array = np.array(word_list)\n",
    "spaced_array = np.array([' '.join(word) for word in word_array])\n",
    "print(spaced_array)"
   ]
  },
  {
   "cell_type": "code",
   "execution_count": 14,
   "id": "265ab916-15de-4c76-be46-15cb1497cded",
   "metadata": {},
   "outputs": [
    {
     "name": "stdout",
     "output_type": "stream",
     "text": [
      "Addition: [[ 5  7]\n",
      " [10 12]]\n",
      "Subtraction: [[-3 -3]\n",
      " [-4 -4]]\n",
      "Multiplication: [[ 4 10]\n",
      " [21 32]]\n",
      "Division: [[0.25       0.4       ]\n",
      " [0.42857143 0.5       ]]\n"
     ]
    }
   ],
   "source": [
    "#7.Create two 2D NumPy arrays and perform element-wise addition,subtraction,multiplication,and division.\n",
    "#Ans.\n",
    "#create a 2D array\n",
    "arr1 = np.array([[1, 2], [3, 4]])\n",
    "arr2 = np.array([[4, 5], [7, 8]])\n",
    "#addition\n",
    "addition = arr1 + arr2\n",
    "print(\"Addition:\", addition)\n",
    "#subraction\n",
    "subtraction = arr1 - arr2\n",
    "print(\"Subtraction:\",subtraction)\n",
    "#multiplication\n",
    "multiplication = arr1 * arr2\n",
    "print(\"Multiplication:\",multiplication)\n",
    "#Division\n",
    "division =  arr1 / arr2\n",
    "print(\"Division:\",division)"
   ]
  },
  {
   "cell_type": "code",
   "execution_count": 13,
   "id": "4cd8afd4-7f36-468f-9be7-21c9a5b4ec32",
   "metadata": {},
   "outputs": [
    {
     "name": "stdout",
     "output_type": "stream",
     "text": [
      "identity matrix\n",
      "[[1. 0. 0. 0. 0.]\n",
      " [0. 1. 0. 0. 0.]\n",
      " [0. 0. 1. 0. 0.]\n",
      " [0. 0. 0. 1. 0.]\n",
      " [0. 0. 0. 0. 1.]]\n",
      "Extracting diagonal elements\n",
      "[1. 1. 1. 1. 1.]\n"
     ]
    }
   ],
   "source": [
    "#8.Use NumPy to create a 5x5 identity matrix,then extract its diagonal elements.\n",
    "#Ans.\n",
    "#Create a 5x5 identity matrix\n",
    "identity_matrix = np.eye(5, 5)\n",
    "#extract the diagonal elements using np.diag()\n",
    "diagonal_elements = np.diag(identity_matrix)\n",
    "print('identity matrix')\n",
    "print(identity_matrix)\n",
    "print('Extracting diagonal elements')\n",
    "print(diagonal_elements)"
   ]
  },
  {
   "cell_type": "code",
   "execution_count": 35,
   "id": "f34ae994-3454-457d-bcea-f3bc73751347",
   "metadata": {},
   "outputs": [
    {
     "name": "stdout",
     "output_type": "stream",
     "text": [
      "Prime numbers in the array: [769, 827, 701, 319, 97, 223, 971, 11, 635, 515, 193, 577, 193, 887, 781, 869, 905, 235, 101, 205, 139, 953, 421, 167, 745, 79, 955]\n"
     ]
    }
   ],
   "source": [
    "#9.Generate a NumPy array of 100 random integers between 0 and 1000.find and display all prime numbersin this array.\n",
    "#Ans.\n",
    "def is_prime(n):\n",
    "    if n <= 1:\n",
    "        return False\n",
    "    if n <= 3:\n",
    "        return True\n",
    "    if n % 2 == 0 or n % 3 == 0:\n",
    "        return False\n",
    "    i = 5\n",
    "    while i * i <= n:\n",
    "        if n % (i + 2) == 0:\n",
    "            return False\n",
    "        i += 6\n",
    "    return True\n",
    "\n",
    "random_array = np.random.randint(0, 1001, 100)\n",
    "prime_numbers = [num for num in random_array if is_prime(num)]\n",
    "print(\"Prime numbers in the array:\",prime_numbers)      "
   ]
  },
  {
   "cell_type": "code",
   "execution_count": 8,
   "id": "ba9521ab-de0f-4141-807b-e3d286f91593",
   "metadata": {},
   "outputs": [
    {
     "name": "stdout",
     "output_type": "stream",
     "text": [
      "Week 1: 20.619721 degree Celsius\n",
      "Week 2: 22.819760 degree Celsius\n",
      "Week 3: 19.697188 degree Celsius\n",
      "Week 4: 20.113001 degree Celsius\n"
     ]
    }
   ],
   "source": [
    "#10.Create a NumPy array representing daily temperatures for a month.Calculate and display the weekly averages.\n",
    "#Ans.\n",
    "np.random.seed(42)\n",
    "daily_temps = np.random.uniform(15, 28, 28)\n",
    "weekly_temps = daily_temps.reshape(4, 7)\n",
    "weekly_avg_temps = np.mean(weekly_temps, axis = 1)\n",
    "\n",
    "for i, avg_temps in enumerate(weekly_avg_temps):\n",
    "    print(f\"Week {i + 1}: {avg_temps:2f} degree Celsius\")"
   ]
  },
  {
   "cell_type": "code",
   "execution_count": null,
   "id": "5a20e711-38dd-458a-a8c0-a7441aef3d33",
   "metadata": {},
   "outputs": [],
   "source": []
  }
 ],
 "metadata": {
  "kernelspec": {
   "display_name": "Python 3 (ipykernel)",
   "language": "python",
   "name": "python3"
  },
  "language_info": {
   "codemirror_mode": {
    "name": "ipython",
    "version": 3
   },
   "file_extension": ".py",
   "mimetype": "text/x-python",
   "name": "python",
   "nbconvert_exporter": "python",
   "pygments_lexer": "ipython3",
   "version": "3.12.4"
  }
 },
 "nbformat": 4,
 "nbformat_minor": 5
}
