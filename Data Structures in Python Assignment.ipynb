{
 "cells": [
  {
   "cell_type": "markdown",
   "id": "28710def-10fb-4130-a2b3-ef174130c119",
   "metadata": {},
   "source": [
    "# Data Structures in Python Assignment"
   ]
  },
  {
   "cell_type": "code",
   "execution_count": 37,
   "id": "5ba084ae-a050-4872-80ce-9fa2cce32348",
   "metadata": {},
   "outputs": [
    {
     "name": "stdout",
     "output_type": "stream",
     "text": [
      "nohtyP olleh\n"
     ]
    }
   ],
   "source": [
    "#1. Write a code to reverse a string.\n",
    "#Ans.\n",
    "def reverse_string_slicing(s):\n",
    "  return s[::-1]\n",
    "\n",
    "string = \"hello Python\"\n",
    "reversed_string = reverse_string_slicing(string)\n",
    "print(reversed_string)"
   ]
  },
  {
   "cell_type": "code",
   "execution_count": 38,
   "id": "de76176e-1372-4e22-b74a-8039a531dab2",
   "metadata": {},
   "outputs": [
    {
     "name": "stdout",
     "output_type": "stream",
     "text": [
      "The number of vowels in the string is: 3\n"
     ]
    }
   ],
   "source": [
    "#2.  Write a code to count the number of vowels in a string.\n",
    "#Ans. \n",
    "def count_vowels(input_string):\n",
    "    vowels = \"aeiouAEIOU\"\n",
    "    vowel_count = 0\n",
    "    for char in input_string:\n",
    "        if char in vowels:\n",
    "            vowel_count += 1\n",
    "    return vowel_count\n",
    "\n",
    "input_str = \"Hello World\"\n",
    "num_vowels = count_vowels(input_str)\n",
    "print(f\"The number of vowels in the string is: {num_vowels}\")"
   ]
  },
  {
   "cell_type": "code",
   "execution_count": 40,
   "id": "4a4f66db-6e2a-4617-bb0c-6e0c4f1cbf21",
   "metadata": {},
   "outputs": [
    {
     "name": "stdout",
     "output_type": "stream",
     "text": [
      "\"Racecar\" is a palindrome: True\n",
      "\"A man, a plan, a canal: Panama\" is a palindrome: True\n",
      "\"hello\" is a palindrome: False\n"
     ]
    }
   ],
   "source": [
    "#3.  Write a code to check if a given string is a palindrome or not.\n",
    "#Ans.\n",
    "def is_palindrome(input_string):\n",
    "    \"\"\"\n",
    "    Checks if a given string is a palindrome.\n",
    "\n",
    "    Args:\n",
    "        input_string: The string to check.\n",
    "\n",
    "    Returns:\n",
    "        True if the string is a palindrome, False otherwise.\n",
    "    \"\"\"\n",
    "    processed_string = ''.join(filter(str.isalnum, input_string)).lower()\n",
    "    return processed_string == processed_string[::-1]\n",
    "\n",
    "# Example\n",
    "string1 = \"Racecar\"\n",
    "string2 = \"A man, a plan, a canal: Panama\"\n",
    "string3 = \"hello\"\n",
    "\n",
    "print(f'\"{string1}\" is a palindrome: {is_palindrome(string1)}')\n",
    "print(f'\"{string2}\" is a palindrome: {is_palindrome(string2)}')\n",
    "print(f'\"{string3}\" is a palindrome: {is_palindrome(string3)}')"
   ]
  },
  {
   "cell_type": "code",
   "execution_count": 44,
   "id": "7eebc4d2-633c-438f-a5de-002bd5dc0583",
   "metadata": {},
   "outputs": [
    {
     "name": "stdout",
     "output_type": "stream",
     "text": [
      "True\n",
      "False\n"
     ]
    }
   ],
   "source": [
    "#4.  Write a code to check if two given strings are anagrams of each other.\n",
    "#Ans.\n",
    "def are_anagrams(str1, str2):\n",
    "    # If lengths are not the same, they can't be anagrams\n",
    "    if len(str1) != len(str2):\n",
    "        return False\n",
    "\n",
    "    # Create a dictionary to count character frequencies\n",
    "    char_count = {}\n",
    "\n",
    "    # Count characters in the first string\n",
    "    for char in str1:\n",
    "        char_count[char] = char_count.get(char, 0) + 1\n",
    "\n",
    "    # Subtract the count using the second string\n",
    "    for char in str2:\n",
    "        if char not in char_count:\n",
    "            return False\n",
    "        char_count[char] -= 1\n",
    "        if char_count[char] < 0:\n",
    "            return False\n",
    "\n",
    "    return True\n",
    "\n",
    "# Example usage\n",
    "s1 = \"listen\"\n",
    "s2 = \"silent\"\n",
    "print(are_anagrams(s1, s2))  # Output: True\n",
    "\n",
    "s3 = \"hello\"\n",
    "s4 = \"world\"\n",
    "print(are_anagrams(s3, s4))  # Output: False"
   ]
  },
  {
   "cell_type": "code",
   "execution_count": 46,
   "id": "56b2c072-9dc4-433c-97c3-8d04fdca0427",
   "metadata": {},
   "outputs": [
    {
     "name": "stdout",
     "output_type": "stream",
     "text": [
      "Occurrences of substring: [0, 33, 50]\n"
     ]
    }
   ],
   "source": [
    "#5.  Write a code to find all occurrences of a given substring within another string.\n",
    "#Ans.\n",
    "def manual_find_all(haystack: str, needle: str):\n",
    "    positions = []\n",
    "    h_len = len(haystack)\n",
    "    n_len = len(needle)\n",
    "\n",
    "    for i in range(h_len - n_len + 1):\n",
    "        if haystack[i:i+n_len] == needle:\n",
    "            positions.append(i)\n",
    "\n",
    "    return positions\n",
    "\n",
    "\n",
    "# Example usage\n",
    "text = \"data structures are important in data science and database systems\"\n",
    "substring = \"data\"\n",
    "positions = find_all_occurrences(text, substring)\n",
    "print(\"Occurrences of substring:\", positions)"
   ]
  },
  {
   "cell_type": "code",
   "execution_count": 47,
   "id": "a7c9a261-4ab5-422c-8b56-406dae8b7962",
   "metadata": {},
   "outputs": [
    {
     "name": "stdout",
     "output_type": "stream",
     "text": [
      "a2b1c5a3\n",
      "abc\n"
     ]
    }
   ],
   "source": [
    "#6.  Write a code to perform basic string compression using the counts of repeated characters.\n",
    "#Ans.\n",
    "def compress_string(s):\n",
    "    if not s:\n",
    "        return \"\"\n",
    "\n",
    "    compressed = []\n",
    "    count = 1\n",
    "\n",
    "    for i in range(1, len(s)):\n",
    "        if s[i] == s[i - 1]:\n",
    "            count += 1\n",
    "        else:\n",
    "            compressed.append(s[i - 1] + str(count))\n",
    "            count = 1  # reset count for new character\n",
    "\n",
    "    # Add the last repeated character\n",
    "    compressed.append(s[-1] + str(count))\n",
    "\n",
    "    compressed_str = ''.join(compressed)\n",
    "    \n",
    "    # Return the original string if compression doesn't reduce the size\n",
    "    return compressed_str if len(compressed_str) < len(s) else s\n",
    "#Example:\n",
    "print(compress_string(\"aabcccccaaa\"))  \n",
    "print(compress_string(\"abc\"))        \n"
   ]
  },
  {
   "cell_type": "code",
   "execution_count": 49,
   "id": "6b9b70d1-9590-4c87-ba90-b66823de66b6",
   "metadata": {},
   "outputs": [
    {
     "name": "stdout",
     "output_type": "stream",
     "text": [
      "False\n",
      "True\n"
     ]
    }
   ],
   "source": [
    "#7.  Write a code to determine if a string has all unique characters.\n",
    "#Ans.\n",
    "def has_unique_characters(s):\n",
    "    return len(set(s)) == len(s)\n",
    "\n",
    "# Example usage\n",
    "print(has_unique_characters(\"hello\")) \n",
    "print(has_unique_characters(\"world\")) "
   ]
  },
  {
   "cell_type": "code",
   "execution_count": 50,
   "id": "267cd288-d272-48a9-a3a9-34ab72348fd8",
   "metadata": {},
   "outputs": [
    {
     "name": "stdin",
     "output_type": "stream",
     "text": [
      "Enter a string:  Anil\n",
      "Convert to (U)ppercase or (L)owercase?  U\n"
     ]
    },
    {
     "name": "stdout",
     "output_type": "stream",
     "text": [
      "Result: ANIL\n"
     ]
    }
   ],
   "source": [
    "#8.  Write a code to convert a given string to uppercase or lowercase.\n",
    "#Ans.\n",
    "def convert_string_case(text, to_upper=True):\n",
    "    if to_upper:\n",
    "        return text.upper()\n",
    "    else:\n",
    "        return text.lower()\n",
    "\n",
    "# Example usage:\n",
    "input_text = input(\"Enter a string: \")\n",
    "choice = input(\"Convert to (U)ppercase or (L)owercase? \").strip().lower()\n",
    "\n",
    "if choice == 'u':\n",
    "    result = convert_string_case(input_text, to_upper=True)\n",
    "elif choice == 'l':\n",
    "    result = convert_string_case(input_text, to_upper=False)\n",
    "else:\n",
    "    result = \"Invalid choice!\"\n",
    "\n",
    "print(\"Result:\", result)\n"
   ]
  },
  {
   "cell_type": "code",
   "execution_count": 51,
   "id": "72bf8cab-97df-4250-9f8d-e236b2797e49",
   "metadata": {},
   "outputs": [
    {
     "name": "stdout",
     "output_type": "stream",
     "text": [
      "Total number of words: 6\n"
     ]
    }
   ],
   "source": [
    "#9. Write a code to count the number of words in a string.\n",
    "#Ans.\n",
    "def count_words(text):\n",
    "    # Split the string into words using whitespace as the delimiter\n",
    "    words = text.split()\n",
    "    return len(words)\n",
    "\n",
    "# Example usage\n",
    "input_string = \"Python is a powerful programming language\"\n",
    "word_count = count_words(input_string)\n",
    "print(f\"Total number of words: {word_count}\")"
   ]
  },
  {
   "cell_type": "code",
   "execution_count": 52,
   "id": "1b47b1dc-e5c4-4896-a258-43a30bb4f0d0",
   "metadata": {},
   "outputs": [
    {
     "name": "stdout",
     "output_type": "stream",
     "text": [
      "HelloWorld\n"
     ]
    }
   ],
   "source": [
    "#10.  Write a code to concatenate two strings without using the + operator.\n",
    "#Ans.\n",
    "def concatenate_strings(str1, str2):\n",
    "    # Convert both strings to lists of characters\n",
    "    char_list = list(str1)\n",
    "    \n",
    "    # Extend the first list with characters from the second string\n",
    "    char_list.extend(str2)\n",
    "    \n",
    "    # Join the list back into a single string\n",
    "    result = ''.join(char_list)\n",
    "    \n",
    "    return result\n",
    "\n",
    "# Test\n",
    "s1 = \"Hello\"\n",
    "s2 = \"World\"\n",
    "print(concatenate_strings(s1, s2))"
   ]
  },
  {
   "cell_type": "code",
   "execution_count": 53,
   "id": "9950cbbd-d17c-4a97-8ec6-81ab320c3bee",
   "metadata": {},
   "outputs": [
    {
     "name": "stdout",
     "output_type": "stream",
     "text": [
      "[1, 3, 4, 5]\n"
     ]
    }
   ],
   "source": [
    "#11.  Write a code to remove all occurrences of a specific element from a list.\n",
    "#Ans.\n",
    "def remove_all_occurrences(lst, target):\n",
    "    # Use list comprehension to filter out the target element\n",
    "    return [element for element in lst if element != target]\n",
    "\n",
    "# Test\n",
    "my_list = [1, 2, 3, 2, 4, 2, 5]\n",
    "target_element = 2\n",
    "updated_list = remove_all_occurrences(my_list, target_element)\n",
    "print(updated_list)"
   ]
  },
  {
   "cell_type": "code",
   "execution_count": 54,
   "id": "86a325ca-66ae-4e05-af40-f6bbebac9e8d",
   "metadata": {},
   "outputs": [
    {
     "name": "stdout",
     "output_type": "stream",
     "text": [
      "45\n"
     ]
    }
   ],
   "source": [
    "#12.  Implement a code to find the second largest number in a given list of integers.\n",
    "#Ans.\n",
    "def find_second_largest_with_sort(nums):\n",
    "    unique_nums = list(set(nums))  # Remove duplicates\n",
    "    if len(unique_nums) < 2:\n",
    "        return None  # Not enough unique elements\n",
    "    unique_nums.sort(reverse=True)\n",
    "    return unique_nums[1]\n",
    "\n",
    "# Test\n",
    "numbers = [10, 20, 4, 45, 99, 99, 23]\n",
    "print(find_second_largest_with_sort(numbers))"
   ]
  },
  {
   "cell_type": "code",
   "execution_count": 55,
   "id": "6507c176-f21f-4ddf-904d-8830f06b5fed",
   "metadata": {},
   "outputs": [
    {
     "name": "stdout",
     "output_type": "stream",
     "text": [
      "{'apple': 3, 'banana': 2, 'orange': 1}\n"
     ]
    }
   ],
   "source": [
    "#13.  Create a code to count the occurrences of each element in a list and return a dictionary with elements as keys and their\n",
    "#     counts as values.\n",
    "#Ans.\n",
    "def count_occurrences(elements):\n",
    "    counts = {}\n",
    "    for element in elements:\n",
    "        if element in counts:\n",
    "            counts[element] += 1\n",
    "        else:\n",
    "            counts[element] = 1\n",
    "    return counts\n",
    "\n",
    "# Example usage:\n",
    "my_list = ['apple', 'banana', 'apple', 'orange', 'banana', 'apple']\n",
    "result = count_occurrences(my_list)\n",
    "print(result)"
   ]
  },
  {
   "cell_type": "code",
   "execution_count": 56,
   "id": "f9669ec2-d4dd-4ec1-b238-8d5a67a8f0bb",
   "metadata": {},
   "outputs": [
    {
     "name": "stdout",
     "output_type": "stream",
     "text": [
      "[5, 4, 3, 2, 1]\n"
     ]
    }
   ],
   "source": [
    "#14.  Write a code to reverse a list in-place without using any built-in reverse functions.\n",
    "#Ans.\n",
    "def reverse_list_in_place(lst):\n",
    "    left = 0\n",
    "    right = len(lst) - 1\n",
    "\n",
    "    while left < right:\n",
    "        # Swap elements at left and right indices\n",
    "        lst[left], lst[right] = lst[right], lst[left]\n",
    "        left += 1\n",
    "        right -= 1\n",
    "\n",
    "# Example usage:\n",
    "my_list = [1, 2, 3, 4, 5]\n",
    "reverse_list_in_place(my_list)\n",
    "print(my_list)"
   ]
  },
  {
   "cell_type": "code",
   "execution_count": 57,
   "id": "96fa9813-fd69-46ca-be62-bbbba0281240",
   "metadata": {},
   "outputs": [
    {
     "name": "stdout",
     "output_type": "stream",
     "text": [
      "[3, 5, 2, 7, 8, 9]\n"
     ]
    }
   ],
   "source": [
    "#15.  Implement a code to find and remove duplicates from a list while preserving the original order of elements.\n",
    "#Ans.\n",
    "def remove_duplicates_preserve_order(lst):\n",
    "    seen = set()\n",
    "    result = []\n",
    "    for item in lst:\n",
    "        if item not in seen:\n",
    "            seen.add(item)\n",
    "            result.append(item)\n",
    "    return result\n",
    "\n",
    "# Example usage:\n",
    "data = [3, 5, 2, 3, 5, 7, 8, 2, 9]\n",
    "print(remove_duplicates_preserve_order(data))"
   ]
  },
  {
   "cell_type": "code",
   "execution_count": 58,
   "id": "e537454c-1dda-4679-a840-391e87656250",
   "metadata": {},
   "outputs": [
    {
     "name": "stdout",
     "output_type": "stream",
     "text": [
      "True\n",
      "True\n",
      "False\n",
      "True\n"
     ]
    }
   ],
   "source": [
    "#16. Create a code to check if a given list is sorted (either in ascending or descending order) or not.\n",
    "#Ans.\n",
    "def is_sorted(lst):\n",
    "    if not lst:  # empty list is considered sorted\n",
    "        return True\n",
    "    \n",
    "    ascending = True\n",
    "    descending = True\n",
    "    \n",
    "    for i in range(1, len(lst)):\n",
    "        if lst[i] < lst[i-1]:\n",
    "            ascending = False\n",
    "        if lst[i] > lst[i-1]:\n",
    "            descending = False\n",
    "    \n",
    "    return ascending or descending\n",
    "\n",
    "# Examples\n",
    "print(is_sorted([1, 2, 3, 4, 5]))\n",
    "print(is_sorted([5, 4, 4, 2, 1]))   \n",
    "print(is_sorted([1, 3, 2, 4, 5]))   \n",
    "print(is_sorted([]))                 "
   ]
  },
  {
   "cell_type": "code",
   "execution_count": 59,
   "id": "4ec0de75-e0f0-40b5-b02f-98ab2d8c82d2",
   "metadata": {},
   "outputs": [
    {
     "name": "stdout",
     "output_type": "stream",
     "text": [
      "Merged List: [1, 2, 3, 4, 5, 6, 7, 8]\n"
     ]
    }
   ],
   "source": [
    "#17.  Write a code to merge two sorted lists into a single sorted list.\n",
    "#Ans.\n",
    "def merge_sorted_lists(list1, list2):\n",
    "    # Initialize pointers for both lists\n",
    "    i = j = 0\n",
    "    merged_list = []\n",
    "\n",
    "    # Traverse both lists and append the smaller element to the merged_list\n",
    "    while i < len(list1) and j < len(list2):\n",
    "        if list1[i] <= list2[j]:\n",
    "            merged_list.append(list1[i])\n",
    "            i += 1\n",
    "        else:\n",
    "            merged_list.append(list2[j])\n",
    "            j += 1\n",
    "\n",
    "    # Append remaining elements (if any) from list1\n",
    "    while i < len(list1):\n",
    "        merged_list.append(list1[i])\n",
    "        i += 1\n",
    "\n",
    "    # Append remaining elements (if any) from list2\n",
    "    while j < len(list2):\n",
    "        merged_list.append(list2[j])\n",
    "        j += 1\n",
    "\n",
    "    return merged_list\n",
    "\n",
    "# Example usage\n",
    "list1 = [1, 3, 5, 7]\n",
    "list2 = [2, 4, 6, 8]\n",
    "merged = merge_sorted_lists(list1, list2)\n",
    "print(\"Merged List:\", merged)"
   ]
  },
  {
   "cell_type": "code",
   "execution_count": 60,
   "id": "bd5e2322-0903-45b7-b680-69091b058652",
   "metadata": {},
   "outputs": [
    {
     "name": "stdout",
     "output_type": "stream",
     "text": [
      "Intersection: [3, 4, 5]\n"
     ]
    }
   ],
   "source": [
    "#18.  Implement a code to find the intersection of two given lists.\n",
    "#Ans.\n",
    "def find_intersection(list1, list2):\n",
    "    # Convert lists to sets\n",
    "    set1 = set(list1)\n",
    "    set2 = set(list2)\n",
    "\n",
    "    # Use set intersection\n",
    "    intersection = set1 & set2\n",
    "\n",
    "    # Return result as a list\n",
    "    return list(intersection)\n",
    "\n",
    "# Example usage\n",
    "list1 = [1, 2, 3, 4, 5]\n",
    "list2 = [3, 4, 5, 6, 7]\n",
    "result = find_intersection(list1, list2)\n",
    "print(\"Intersection:\", result)"
   ]
  },
  {
   "cell_type": "code",
   "execution_count": 61,
   "id": "8c3a8f13-dc6c-44c9-8007-e462fd5591be",
   "metadata": {},
   "outputs": [
    {
     "name": "stdout",
     "output_type": "stream",
     "text": [
      "[1, 2, 3, 4, 5, 6]\n"
     ]
    }
   ],
   "source": [
    "#19.  Create a code to find the union of two lists without duplicates.\n",
    "#Ans.\n",
    "def union_lists_set(list1, list2):\n",
    "    return list(set(list1) | set(list2))\n",
    "\n",
    "# Example\n",
    "list1 = [1, 2, 3, 4]\n",
    "list2 = [3, 4, 5, 6]\n",
    "print(union_lists_set(list1, list2))"
   ]
  },
  {
   "cell_type": "code",
   "execution_count": 62,
   "id": "5d054680-235d-4950-9369-2533e07f66f5",
   "metadata": {},
   "outputs": [
    {
     "name": "stdout",
     "output_type": "stream",
     "text": [
      "Original list: [1, 2, 3, 4, 5, 6, 7]\n",
      "Shuffled list: [2, 5, 3, 1, 6, 4, 7]\n"
     ]
    }
   ],
   "source": [
    "#20.  Write a code to shuffle a given list randomly without using any built-in shuffle functions.\n",
    "#Ans.\n",
    "import random\n",
    "\n",
    "def custom_shuffle(lst):\n",
    "    n = len(lst)\n",
    "    for i in range(n - 1, 0, -1):\n",
    "        # Generate a random index from 0 to i\n",
    "        j = random.randint(0, i)\n",
    "        # Swap elements at indices i and j\n",
    "        lst[i], lst[j] = lst[j], lst[i]\n",
    "\n",
    "# Example usage\n",
    "data = [1, 2, 3, 4, 5, 6, 7]\n",
    "print(\"Original list:\", data)\n",
    "custom_shuffle(data)\n",
    "print(\"Shuffled list:\", data)"
   ]
  },
  {
   "cell_type": "code",
   "execution_count": 63,
   "id": "a40dfb88-4422-47cc-99ad-de975b705b5e",
   "metadata": {},
   "outputs": [
    {
     "name": "stdout",
     "output_type": "stream",
     "text": [
      "Common elements: (3, 4, 5)\n"
     ]
    }
   ],
   "source": [
    "#21.  Write a code that takes two tuples as input and returns a new tuple containing elements that are common to both input tuples.\n",
    "#Ans.\n",
    "def common_elements(tuple1, tuple2):\n",
    "    # Convert both tuples to sets to find common elements\n",
    "    set1 = set(tuple1)\n",
    "    set2 = set(tuple2)\n",
    "    \n",
    "    # Find intersection of both sets\n",
    "    common_set = set1 & set2\n",
    "    \n",
    "    # Convert the result back to a tuple\n",
    "    return tuple(common_set)\n",
    "\n",
    "# Example usage:\n",
    "tuple1 = (1, 2, 3, 4, 5)\n",
    "tuple2 = (3, 4, 5, 6, 7)\n",
    "\n",
    "result = common_elements(tuple1, tuple2)\n",
    "print(\"Common elements:\", result)"
   ]
  },
  {
   "cell_type": "code",
   "execution_count": 66,
   "id": "1c755ca5-615e-4cab-8b47-ca34d2c5bc60",
   "metadata": {},
   "outputs": [
    {
     "name": "stdin",
     "output_type": "stream",
     "text": [
      "Enter the first set of integers, separated by commas:  1,2,3\n",
      "Enter the second set of integers, separated by commas:  2,3,4\n"
     ]
    },
    {
     "name": "stdout",
     "output_type": "stream",
     "text": [
      "The intersection of the two sets is: {2, 3}\n"
     ]
    }
   ],
   "source": [
    "#22.  Create a code that prompts the user to enter two sets of integers separated by commas. Then, print the intersection of these\n",
    "#     two sets.\n",
    "#Ans.\n",
    "# Prompt the user to enter two sets of integers\n",
    "input1 = input(\"Enter the first set of integers, separated by commas: \")\n",
    "input2 = input(\"Enter the second set of integers, separated by commas: \")\n",
    "\n",
    "# Convert the input strings into sets of integers\n",
    "set1 = set(map(int, input1.split(',')))\n",
    "set2 = set(map(int, input2.split(',')))\n",
    "\n",
    "# Find the intersection of the two sets\n",
    "intersection = set1.intersection(set2)\n",
    "\n",
    "# Print the result\n",
    "print(\"The intersection of the two sets is:\", intersection)"
   ]
  },
  {
   "cell_type": "code",
   "execution_count": 67,
   "id": "577eb410-63c2-45eb-bf7f-768b561f95f6",
   "metadata": {},
   "outputs": [
    {
     "name": "stdout",
     "output_type": "stream",
     "text": [
      "(1, 2, 3, 4, 5, 6)\n"
     ]
    }
   ],
   "source": [
    "#23.  Write a code to concatenate two tuples. The function should take two tuples as input and return a new tuple containing \n",
    "#    elements from both input tuples.\n",
    "#Ans.\n",
    "def concatenate_tuples(tuple1, tuple2):\n",
    "    if not isinstance(tuple1, tuple) or not isinstance(tuple2, tuple):\n",
    "        raise TypeError(\"Both inputs must be tuples\")\n",
    "\n",
    "    return tuple1 + tuple2\n",
    "\n",
    "# Example usage:\n",
    "t1 = (1, 2, 3)\n",
    "t2 = (4, 5, 6)\n",
    "result = concatenate_tuples(t1, t2)\n",
    "print(result)"
   ]
  },
  {
   "cell_type": "code",
   "execution_count": 68,
   "id": "8ee8ab8f-d8e5-4f46-8ca8-784005e74764",
   "metadata": {},
   "outputs": [
    {
     "name": "stdin",
     "output_type": "stream",
     "text": [
      "Enter elements of the first set, separated by commas:  Ajay, Digvijay, Vijay\n",
      "Enter elements of the second set, separated by commas:  Aditya, Vijay, Dev\n"
     ]
    },
    {
     "name": "stdout",
     "output_type": "stream",
     "text": [
      "Elements in the first set but not in the second set:\n",
      "Ajay\n",
      " Digvijay\n"
     ]
    }
   ],
   "source": [
    "#24. Develop a code that prompts the user to input two sets of strings. Then, print the elements that are present in the first set \n",
    "#    but not in the second set.\n",
    "#Ans. \n",
    "# Prompt the user to input two sets of strings\n",
    "set1_input = input(\"Enter elements of the first set, separated by commas: \")\n",
    "set2_input = input(\"Enter elements of the second set, separated by commas: \")\n",
    "\n",
    "# Convert the comma-separated strings to sets\n",
    "set1 = set(set1_input.strip().split(','))\n",
    "set2 = set(set2_input.strip().split(','))\n",
    "\n",
    "# Find elements present in the first set but not in the second set\n",
    "difference = set1 - set2\n",
    "\n",
    "# Print the result\n",
    "print(\"Elements in the first set but not in the second set:\")\n",
    "for item in difference:\n",
    "    print(item)"
   ]
  },
  {
   "cell_type": "code",
   "execution_count": 69,
   "id": "d0cf7bac-e3a3-428f-b172-61b94f0750a9",
   "metadata": {},
   "outputs": [
    {
     "name": "stdout",
     "output_type": "stream",
     "text": [
      "(20, 30, 40)\n"
     ]
    }
   ],
   "source": [
    "#25.  Create a code that takes a tuple and two integers as input. The function should return a new tuple containing elements \n",
    "#     from the original tuple within the specified range of indices.\n",
    "#Ans.\n",
    "def slice_tuple(input_tuple, start_index, end_index):\n",
    "    # Validate that input is a tuple\n",
    "    if not isinstance(input_tuple, tuple):\n",
    "        raise TypeError(\"First argument must be a tuple.\")\n",
    "    \n",
    "    # Validate that indices are integers\n",
    "    if not isinstance(start_index, int) or not isinstance(end_index, int):\n",
    "        raise TypeError(\"Start and end indices must be integers.\")\n",
    "    \n",
    "    # Slice and return the new tuple\n",
    "    return input_tuple[start_index:end_index]\n",
    "\n",
    "# Example usage\n",
    "original_tuple = (10, 20, 30, 40, 50, 60)\n",
    "start = 1\n",
    "end = 4\n",
    "result = slice_tuple(original_tuple, start, end)\n",
    "print(result)"
   ]
  },
  {
   "cell_type": "code",
   "execution_count": 71,
   "id": "c123752f-6796-4525-a4b6-cde52e3598a3",
   "metadata": {},
   "outputs": [
    {
     "name": "stdin",
     "output_type": "stream",
     "text": [
      "Enter the first set of characters (e.g., abcde):  abcde\n",
      "Enter the second set of characters (e.g., defgh):  defgh\n"
     ]
    },
    {
     "name": "stdout",
     "output_type": "stream",
     "text": [
      "The union of the two sets is: abcdefgh\n"
     ]
    }
   ],
   "source": [
    "#26.  Write a code that prompts the user to input two sets of characters. Then, print the union of these two sets.\n",
    "#Ans.\n",
    "# Prompt the user for the first set of characters\n",
    "input1 = input(\"Enter the first set of characters (e.g., abcde): \")\n",
    "# Convert the input string to a set of characters\n",
    "set1 = set(input1)\n",
    "\n",
    "# Prompt the user for the second set of characters\n",
    "input2 = input(\"Enter the second set of characters (e.g., defgh): \")\n",
    "# Convert the input string to a set of characters\n",
    "set2 = set(input2)\n",
    "\n",
    "# Compute the union of the two sets\n",
    "union_set = set1.union(set2)\n",
    "\n",
    "# Print the result\n",
    "print(\"The union of the two sets is:\", ''.join(sorted(union_set)))"
   ]
  },
  {
   "cell_type": "code",
   "execution_count": 72,
   "id": "7ee0012e-0e2e-41f2-929e-b8fa74beb356",
   "metadata": {},
   "outputs": [
    {
     "name": "stdout",
     "output_type": "stream",
     "text": [
      "Maximum: 99\n",
      "Minimum: 2\n"
     ]
    }
   ],
   "source": [
    "#27.  Develop a code that takes a tuple of integers as input. The function should return the maximum and minimum values from \n",
    "#     the tuple using tuple unpacking.\n",
    "#Ans.\n",
    "def max_min_from_tuple(numbers: tuple) -> tuple:\n",
    "    # Find max and min\n",
    "    maximum = max(numbers)\n",
    "    minimum = min(numbers)\n",
    "    # Return using tuple unpacking\n",
    "    return maximum, minimum\n",
    "\n",
    "# Example usage:\n",
    "nums = (10, 2, 45, 7, 99, 23)\n",
    "max_val, min_val = max_min_from_tuple(nums)\n",
    "print(\"Maximum:\", max_val)\n",
    "print(\"Minimum:\", min_val)"
   ]
  },
  {
   "cell_type": "code",
   "execution_count": 73,
   "id": "ff7bd6d8-a3f8-418b-b8e7-c1ea00b6bc3f",
   "metadata": {},
   "outputs": [
    {
     "name": "stdout",
     "output_type": "stream",
     "text": [
      "Set 1: {1, 2, 3, 4, 5}\n",
      "Set 2: {4, 5, 6, 7, 8}\n",
      "Union: {1, 2, 3, 4, 5, 6, 7, 8}\n",
      "Intersection: {4, 5}\n",
      "Difference (set1 - set2): {1, 2, 3}\n"
     ]
    }
   ],
   "source": [
    "#28.  Create a code that defines two sets of integers. Then, print the union, intersection, and difference of these two sets.\n",
    "#Ans.\n",
    "# Define two sets of integers\n",
    "set1 = {1, 2, 3, 4, 5}\n",
    "set2 = {4, 5, 6, 7, 8}\n",
    "\n",
    "# Union of set1 and set2\n",
    "union_set = set1.union(set2)\n",
    "\n",
    "# Intersection of set1 and set2\n",
    "intersection_set = set1.intersection(set2)\n",
    "\n",
    "# Difference of set1 and set2 (elements in set1 but not in set2)\n",
    "difference_set = set1.difference(set2)\n",
    "\n",
    "# Print results\n",
    "print(\"Set 1:\", set1)\n",
    "print(\"Set 2:\", set2)\n",
    "print(\"Union:\", union_set)\n",
    "print(\"Intersection:\", intersection_set)\n",
    "print(\"Difference (set1 - set2):\", difference_set)"
   ]
  },
  {
   "cell_type": "code",
   "execution_count": 74,
   "id": "2950bcba-f5f7-4187-8af0-a48d12958345",
   "metadata": {},
   "outputs": [
    {
     "name": "stdout",
     "output_type": "stream",
     "text": [
      "The element 2 appears 3 times.\n"
     ]
    }
   ],
   "source": [
    "#29.  Write a code that takes a tuple and an element as input. The function should return the count of occurrences of the given\n",
    "#    element in the tuple.\n",
    "#Ans.\n",
    "def count_element_in_tuple(input_tuple, element):\n",
    "    if not isinstance(input_tuple, tuple):\n",
    "        raise TypeError(\"The first argument must be a tuple.\")\n",
    "    return input_tuple.count(element)\n",
    "\n",
    "# Example usage:\n",
    "my_tuple = (1, 2, 3, 2, 4, 2, 5)\n",
    "element_to_count = 2\n",
    "\n",
    "print(f\"The element {element_to_count} appears {count_element_in_tuple(my_tuple, element_to_count)} times.\")"
   ]
  },
  {
   "cell_type": "code",
   "execution_count": 75,
   "id": "d1663060-f1af-41fa-8a15-5f922a454da4",
   "metadata": {},
   "outputs": [
    {
     "name": "stdin",
     "output_type": "stream",
     "text": [
      "Enter the first set of strings (comma-separated):   apple,banana,cherry \n",
      "Enter the second set of strings (comma-separated):   banana,kiwi,grape\n"
     ]
    },
    {
     "name": "stdout",
     "output_type": "stream",
     "text": [
      "Symmetric Difference between the two sets:\n",
      "{'cherry', 'kiwi', 'grape', 'apple'}\n"
     ]
    }
   ],
   "source": [
    "#30.  Develop a code that prompts the user to input two sets of strings. Then, print the symmetric difference of these two sets.\n",
    "#Ans.\n",
    "# Prompt the user for input\n",
    "set1_input = input(\"Enter the first set of strings (comma-separated): \")\n",
    "set2_input = input(\"Enter the second set of strings (comma-separated): \")\n",
    "\n",
    "# Convert the comma-separated input strings into Python sets\n",
    "set1 = set(set1_input.strip().split(','))\n",
    "set2 = set(set2_input.strip().split(','))\n",
    "\n",
    "# Compute the symmetric difference\n",
    "symmetric_diff = set1.symmetric_difference(set2)\n",
    "\n",
    "# Display the result\n",
    "print(\"Symmetric Difference between the two sets:\")\n",
    "print(symmetric_diff)"
   ]
  },
  {
   "cell_type": "code",
   "execution_count": 76,
   "id": "a02f24a8-f40b-43e4-a2c1-1fb0bc7c1fe0",
   "metadata": {},
   "outputs": [
    {
     "name": "stdout",
     "output_type": "stream",
     "text": [
      "{'apple': 3, 'banana': 2, 'orange': 1}\n"
     ]
    }
   ],
   "source": [
    "#31.  Write a code that takes a list of words as input and returns a dictionary where the keys are unique words and the values\n",
    "#     are the frequencies of those words in the input list.\n",
    "#Ans.\n",
    "def word_frequencies(word_list):\n",
    "    frequency_dict = {}\n",
    "    for word in word_list:\n",
    "        if word in frequency_dict:\n",
    "            frequency_dict[word] += 1\n",
    "        else:\n",
    "            frequency_dict[word] = 1\n",
    "    return frequency_dict\n",
    "\n",
    "# Example usage:\n",
    "words = ['apple', 'banana', 'apple', 'orange', 'banana', 'apple']\n",
    "frequencies = word_frequencies(words)\n",
    "print(frequencies)"
   ]
  },
  {
   "cell_type": "code",
   "execution_count": 77,
   "id": "1928036c-05d2-4671-96ff-5f97e2ec8dda",
   "metadata": {},
   "outputs": [
    {
     "name": "stdout",
     "output_type": "stream",
     "text": [
      "{'a': 100, 'b': 350, 'c': 350, 'd': 400}\n"
     ]
    }
   ],
   "source": [
    "#32.  Write a code that takes two dictionaries as input and merges them into a single dictionary. If there are common keys, the\n",
    "#     values should be added together.\n",
    "#Ans.\n",
    "def merge_dictionaries(dict1, dict2):\n",
    "    merged_dict = dict1.copy()  # Start with a copy of the first dictionary\n",
    "\n",
    "    for key, value in dict2.items():\n",
    "        if key in merged_dict:\n",
    "            merged_dict[key] += value  # Add values if key exists in both\n",
    "        else:\n",
    "            merged_dict[key] = value  # Add new key-value pair if not present\n",
    "\n",
    "    return merged_dict\n",
    "\n",
    "# Example usage:\n",
    "dict1 = {'a': 100, 'b': 200, 'c': 300}\n",
    "dict2 = {'b': 150, 'c': 50, 'd': 400}\n",
    "\n",
    "result = merge_dictionaries(dict1, dict2)\n",
    "print(result)"
   ]
  },
  {
   "cell_type": "code",
   "execution_count": 96,
   "id": "1fe0d386-1115-47fa-a789-9d8ec57ab2f8",
   "metadata": {},
   "outputs": [
    {
     "name": "stdout",
     "output_type": "stream",
     "text": [
      "42\n",
      "None\n"
     ]
    }
   ],
   "source": [
    "#33.  Write a code to access a value in a nested dictionary. The function should take the dictionary and a list of keys as input,\n",
    "#     and return the corresponding value. If any of the keys do not exist in the dictionary, the function should return None.\n",
    "#Ans.\n",
    "def get_nested_value(data_dict, keys):\n",
    "    current = data_dict\n",
    "    for key in keys:\n",
    "        if isinstance(current, dict) and key in current:\n",
    "            current = current[key]\n",
    "        else:\n",
    "            return None\n",
    "    return current\n",
    "\n",
    "# Example usage:\n",
    "nested_dict = {\n",
    "    'a': {\n",
    "        'b': {\n",
    "            'c': 42\n",
    "        }\n",
    "    }\n",
    "}\n",
    "\n",
    "print(get_nested_value(nested_dict, ['a', 'b', 'c']))\n",
    "print(get_nested_value(nested_dict, ['a', 'x', 'c']))"
   ]
  },
  {
   "cell_type": "code",
   "execution_count": 97,
   "id": "e2035b37-36c2-42a3-98a0-699de676bcca",
   "metadata": {},
   "outputs": [
    {
     "name": "stdout",
     "output_type": "stream",
     "text": [
      "Ascending: {'banana': 2, 'cherry': 5, 'apple': 10}\n",
      "Descending: {'apple': 10, 'cherry': 5, 'banana': 2}\n"
     ]
    }
   ],
   "source": [
    "#34.  Write a code that takes a dictionary as input and returns a sorted version of it based on the values. You can choose whether\n",
    "#     to sort in ascending or descending order.\n",
    "#Ans.\n",
    "def sort_dict_by_value(input_dict, ascending=True):\n",
    "    # Use sorted with a lambda function to sort by values\n",
    "    sorted_items = sorted(input_dict.items(), key=lambda item: item[1], reverse=not ascending)\n",
    "    \n",
    "    # Convert the sorted list of tuples back to a dictionary\n",
    "    sorted_dict = dict(sorted_items)\n",
    "    \n",
    "    return sorted_dict\n",
    "\n",
    "# Example usage:\n",
    "example_dict = {'apple': 10, 'banana': 2, 'cherry': 5}\n",
    "\n",
    "print(\"Ascending:\", sort_dict_by_value(example_dict, ascending=True))\n",
    "print(\"Descending:\", sort_dict_by_value(example_dict, ascending=False))"
   ]
  },
  {
   "cell_type": "code",
   "execution_count": 98,
   "id": "74db0e70-4f3c-4807-9b2d-21d88573134d",
   "metadata": {},
   "outputs": [
    {
     "name": "stdout",
     "output_type": "stream",
     "text": [
      "{1: ['a', 'c'], 2: ['b', 'e'], 3: ['d']}\n"
     ]
    }
   ],
   "source": [
    "#35.  Write a code that inverts a dictionary, swapping keys and values. Ensure that the inverted dictionary correctly handles cases\n",
    "#     where multiple keys have the same value by storing the keys as a list in the inverted dictionary.\n",
    "#Ans.\n",
    "def invert_dict(d):\n",
    "    inverted = {}\n",
    "    for key, value in d.items():\n",
    "        if value not in inverted:\n",
    "            inverted[value] = [key]\n",
    "        else:\n",
    "            inverted[value].append(key)\n",
    "    return inverted\n",
    "\n",
    "# Example usage\n",
    "original_dict = {\n",
    "    'a': 1,\n",
    "    'b': 2,\n",
    "    'c': 1,\n",
    "    'd': 3,\n",
    "    'e': 2\n",
    "}\n",
    "\n",
    "inverted = invert_dict(original_dict)\n",
    "print(inverted)"
   ]
  }
 ],
 "metadata": {
  "kernelspec": {
   "display_name": "Python 3 (ipykernel)",
   "language": "python",
   "name": "python3"
  },
  "language_info": {
   "codemirror_mode": {
    "name": "ipython",
    "version": 3
   },
   "file_extension": ".py",
   "mimetype": "text/x-python",
   "name": "python",
   "nbconvert_exporter": "python",
   "pygments_lexer": "ipython3",
   "version": "3.12.4"
  }
 },
 "nbformat": 4,
 "nbformat_minor": 5
}
