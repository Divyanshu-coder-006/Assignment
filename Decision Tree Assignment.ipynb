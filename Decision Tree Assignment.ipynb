{
 "cells": [
  {
   "cell_type": "markdown",
   "id": "4d479941-dfc3-41b7-9017-5855135b181c",
   "metadata": {},
   "source": [
    "# Decision Tree Assignment"
   ]
  },
  {
   "cell_type": "markdown",
   "id": "b522248d-4807-4c7e-a01b-09e636f53cda",
   "metadata": {},
   "source": [
    "# Theoretical Questions"
   ]
  },
  {
   "cell_type": "code",
   "execution_count": 1,
   "id": "7619ea61-cebf-46c5-af26-a6accea70a56",
   "metadata": {},
   "outputs": [],
   "source": [
    "#1.  What is a Decision Tree, and how does it work?\n",
    "#Ans. A decision tree is a type of supervised machine learning used to categorize or make predictions based on how a previous set of\n",
    "#     questions were answered. The model is a form of supervised learning, meaning that the model is trained and tested on a set of\n",
    "#    data that contains the desired categorization.\n",
    "\n",
    "#Decision Tree work in the following manner.\n",
    "#1.Start at the Root Node:\n",
    "#The entire dataset is considered.\n",
    "\n",
    "#2.Choose the Best Feature to Split:\n",
    "#The algorithm selects the feature that best separates the data using a splitting criterion:\n",
    "#For classification:\n",
    "#Gini Impurity\n",
    "#Entropy (Information Gain)\n",
    "#For regression:\n",
    "#Mean Squared Error (MSE)\n",
    "#Mean Absolute Error (MAE)\n",
    "\n",
    "#3.Split the Dataset:\n",
    "#Divide the dataset based on the selected feature and its threshold.\n",
    "\n",
    "#4.Repeat Recursively:\n",
    "#Apply the process to each subset (i.e., each child node).\n",
    "#Continue until:\n",
    "#All data points in a node belong to the same class (classification).\n",
    "#Nodes have a minimal number of samples.\n",
    "#The maximum depth is reached.\n",
    "\n",
    "#5.Make Predictions:\n",
    "#For classification: Return the majority class in a leaf.\n",
    "#For regression: Return the average target value in a leaf."
   ]
  },
  {
   "cell_type": "code",
   "execution_count": 44,
   "id": "c515b311-edfd-4e08-8e58-194e04a1c230",
   "metadata": {},
   "outputs": [],
   "source": [
    "#2.  What are impurity measures in Decision Trees?\n",
    "#Ans. Impurity measures in decision trees quantify the homogeneity of labels at a node.Common impurity measures include Gini impurity and entropy.\n",
    "#     Gini impurity measures the probability of misclassifying a randomly chosen element in the node,while entropy measures the disorder or uncertainity \n",
    "#     in the node's labels. These measures are used to guide the splitting process,aiming to reduce impurity and create more homogeneous child nodes."
   ]
  },
  {
   "cell_type": "code",
   "execution_count": 2,
   "id": "6a9842c9-60aa-4c5f-afb2-e7ff591d77d4",
   "metadata": {},
   "outputs": [],
   "source": [
    "#3.  What is the mathematical formula for Gini Impurity?\n",
    "#Ans. The Gini Impurity formula in a machine learning is used to measure the impurity of a node in a decision tree. It's calculated\n",
    "#     as follows: \n",
    "#Gini Impurity = 1 - Σ (pᵢ²) \n",
    "#Where: \n",
    "#pᵢ: is the probability of an element belonging to class i at the node.\n",
    "#Σ: represents the sum over all classes (i) at the node."
   ]
  },
  {
   "cell_type": "code",
   "execution_count": 3,
   "id": "08aadc35-b8d0-4d97-84d1-4646cab5e7cc",
   "metadata": {},
   "outputs": [],
   "source": [
    "#4.  What is the mathematical formula for Entropy?\n",
    "#Ans. In a machine learning context, entropy is calculated using the formula: H(X) = - Σ (pᵢ * log₂(pᵢ)), where 'pᵢ' represents the\n",
    "#     probability of each distinct outcome 'i' in a random variable 'X', and the sum is taken over all possible outcomes. "
   ]
  },
  {
   "cell_type": "code",
   "execution_count": 4,
   "id": "ccd60d5e-6e28-43a7-b3c0-35a04afe6b64",
   "metadata": {},
   "outputs": [],
   "source": [
    "#5.  What is Information Gain, and how is it used in Decision Trees?\n",
    "#Ans. Information Gain (IG) is a metric used in decision tree algorithms to determine the best attribute for splitting a dataset.\n",
    "#     It measures the reduction in entropy (uncertainty) of a target variable when a specific feature is known. In essence, it \n",
    "#     quantifies how much a feature helps in classifying the data. \n",
    "\n",
    "# Information Gain is used in decision trees in the following way:\n",
    "#Node Splitting:\n",
    "#When constructing a decision tree, the algorithm needs to decide which attribute to use to split a node at each step. \n",
    "\n",
    "#Feature Selection:\n",
    "#Information Gain helps in this decision-making process. The attribute with the highest information gain is chosen as the splitting\n",
    "#attribute, as it leads to the greatest reduction in uncertainty and creates more homogeneous subsets. \n",
    "\n",
    "#Root Node Selection:\n",
    "#The attribute with the highest information gain is usually selected as the root node of the decision tree, as it provides the most\n",
    "#significant initial split of the data. \n",
    "\n",
    "#Algorithm:\n",
    "#The algorithm recursively splits nodes based on the attribute with the highest IG until a stopping criterion is met (e.g., all \n",
    "#instances in a node belong to the same class, or a maximum tree depth is reached). \n",
    "\n",
    "#In essence, Information Gain helps a decision tree algorithm choose the most effective features for splitting the data at each step,\n",
    "#leading to a more accurate and well-structured classification or regression model. "
   ]
  },
  {
   "cell_type": "code",
   "execution_count": 5,
   "id": "7777dab7-ff87-4e9b-9571-a9c42b4898a9",
   "metadata": {},
   "outputs": [],
   "source": [
    "#6.  What is the difference between Gini Impurity and Entropy?\n",
    "#Ans. Calculation:\n",
    "#Gini impurity is calculated as 1 - (sum of squared probabilities of each class). Entropy, on the other hand, is calculated using \n",
    "#logarithms of probabilities. \n",
    "\n",
    "#Computational Efficiency:\n",
    "#Gini impurity is computationally more efficient, especially for large datasets, because it avoids the logarithmic calculations involved\n",
    "#in entropy. \n",
    "\n",
    "#Performance:\n",
    "#In practice, both metrics often perform similarly, but some studies suggest that entropy may slightly outperform Gini impurity,\n",
    "#particularly in certain scenarios like imbalanced datasets. \n",
    "\n",
    "#Interpretation:\n",
    "#Gini impurity is a measure of the probability of misclassifying a random element, while entropy quantifies the uncertainty or disorder\n",
    "#within a dataset. "
   ]
  },
  {
   "cell_type": "code",
   "execution_count": 6,
   "id": "f2332cc8-ba9d-4715-84d7-48e8c4a72726",
   "metadata": {},
   "outputs": [],
   "source": [
    "#7.  What is the mathematical explanation behind Decision Trees?\n",
    "#Ans. Decision trees in machine learning are built on mathematical principles like entropy, information gain, and Gini impurity to\n",
    "#    determine the best splits for predicting a target variable. These metrics quantify the disorder or homogeneity of data within a\n",
    "#    node, and splitting is performed to minimize impurity and maximize information gain. "
   ]
  },
  {
   "cell_type": "code",
   "execution_count": 7,
   "id": "cf59d0f5-891b-4bd5-b0ba-89da5ebd1e97",
   "metadata": {},
   "outputs": [],
   "source": [
    "#8.  What is Pre-Pruning in Decision Trees?\n",
    "#Ans. In the context of decision trees in machine learning, pre-pruning, also known as early stopping, is a technique that limits the\n",
    "#    growth of a decision tree during its construction. Instead of letting the tree grow fully, it restricts splits based on specific\n",
    "#    criteria, preventing it from becoming overly complex and potentially overfitting the training data. "
   ]
  },
  {
   "cell_type": "code",
   "execution_count": 8,
   "id": "182dde95-9300-42c1-8f9f-7388ab1af133",
   "metadata": {},
   "outputs": [],
   "source": [
    "#9.  What is Post-Pruning in Decision Trees?\n",
    "#Ans. In the context of machine learning and decision trees, post-pruning is a technique used to simplify a fully grown decision tree\n",
    "#     by removing branches that don't significantly contribute to the model's predictive accuracy. It's also known as cost-complexity\n",
    "#     pruning, and it's applied after the tree has been fully trained on the training data. This allows the tree to overfit the training\n",
    "#     data initially, and then, after pruning, the simplified tree generally generalizes better to unseen data, avoiding overfitting. "
   ]
  },
  {
   "cell_type": "code",
   "execution_count": 9,
   "id": "046857a7-6fea-475a-a335-e368379e83db",
   "metadata": {},
   "outputs": [],
   "source": [
    "#10.  What is the difference between Pre-Pruning and Post-Pruning?\n",
    "#Ans. The key difference lies in when the pruning is applied: pre-pruning occurs before the tree is fully grown, while post-pruning \n",
    "#     happens after the tree is fully constructed. "
   ]
  },
  {
   "cell_type": "code",
   "execution_count": 10,
   "id": "554106c6-1ae0-464a-8a88-fef35c37646f",
   "metadata": {},
   "outputs": [],
   "source": [
    "#11.  What is a Decision Tree Regressor?\n",
    "#Ans. A Decision Tree for regression is a model that predicts numerical values using a tree-like structure. It splits data based on \n",
    "#     key features, starting from a root question and branching out. Each node asks about a feature, dividing data further until\n",
    "#     reaching leaf nodes with final predictions."
   ]
  },
  {
   "cell_type": "code",
   "execution_count": 11,
   "id": "86c4178f-08cf-4d1e-b139-4df9388fdbaa",
   "metadata": {},
   "outputs": [],
   "source": [
    "#12.  What are the advantages and disadvantages of Decision Trees?\n",
    "#Ans. Advantages:\n",
    "#Interpretability: Decision trees are relatively easy to understand and visualize, making them suitable for scenarios where transparency\n",
    "#is important. \n",
    "#Versatility: They can be used for both classification and regression problems. \n",
    "#Handles Non-Linear Relationships: Decision trees can capture non-linear relationships between features and target variables. \n",
    "#Handles Missing Values: They can deal with missing data without requiring imputation techniques. \n",
    "#Feature Importance: They provide information about the importance of different features in the prediction process. \n",
    "#Minimal Data Preparation: They generally require less data preprocessing compared to some other algorithms. \n",
    "#Non-Parametric: Decision trees don't make assumptions about the underlying data distribution. \n",
    "\n",
    "#Disadvantages:\n",
    "#Overfitting: Decision trees can overfit the training data, leading to poor generalization to unseen data. \n",
    "#Instability: Small changes in the training data can lead to significant changes in the tree structure, making them unstable. \n",
    "#Bias Towards Dominant Classes: They may be biased towards the majority class in imbalanced datasets. \n",
    "#Computational Costs: Training decision trees can be computationally expensive on large datasets. \n",
    "#Complex Calculations: The splitting process can be computationally complex, especially on large datasets. \n",
    "#Not Well-Suited for High-Dimensional Data: They may not perform well with high-dimensional datasets. "
   ]
  },
  {
   "cell_type": "code",
   "execution_count": 12,
   "id": "d3acab59-fa37-4606-8a3e-d1b18772595c",
   "metadata": {},
   "outputs": [],
   "source": [
    "#13.  How does a Decision Tree handle missing values?\n",
    "#Ans. Decision Trees handle missing values in several ways. A common approach is to impute the missing values with a mean, median, or\n",
    "#     a constant value. Another strategy is to use surrogate splits, where alternative features are used to split the data when the\n",
    "#     primary feature has missing values. Alternatively, missing values can be treated as a separate category or a new interval for\n",
    "#    numerical variables. Some algorithms also ignore missing values during training or use them as a factor in the split decision. "
   ]
  },
  {
   "cell_type": "code",
   "execution_count": 13,
   "id": "fca0cc7e-450e-48e0-b97b-57c044c51eae",
   "metadata": {},
   "outputs": [],
   "source": [
    "#14.  How does a Decision Tree handle categorical features?\n",
    "#Ans. Decision Trees can naturally handle categorical features without explicit preprocessing like one-hot encoding. The algorithm can \n",
    "#     directly use categorical features to split data, and metrics like Gini impurity or information gain are used to determine the best\n",
    "#     split."
   ]
  },
  {
   "cell_type": "code",
   "execution_count": 14,
   "id": "3eb93750-ceea-4f83-9cae-95d270cd9c68",
   "metadata": {},
   "outputs": [],
   "source": [
    "#15.  What are some real-world applications of Decision Trees?\n",
    "#Ans. Decision trees find applications in various fields due to their ability to make predictions and decisions based on data. They are\n",
    "#     used in areas like medical diagnosis, customer churn prediction, financial risk assessment, and manufacturing quality control. "
   ]
  },
  {
   "cell_type": "markdown",
   "id": "9304f3fe-499e-4174-b4ee-0e76ece7f614",
   "metadata": {},
   "source": [
    "# Practical Questions"
   ]
  },
  {
   "cell_type": "code",
   "execution_count": 15,
   "id": "efbf0ba5-bc09-47ba-bb43-8936981fa56d",
   "metadata": {},
   "outputs": [
    {
     "name": "stdout",
     "output_type": "stream",
     "text": [
      "Decision Tree Classifier Accuracy: 1.00\n"
     ]
    }
   ],
   "source": [
    "#16.  Write a Python program to train a Decision Tree Classifier on the Iris dataset and print the model accuracy.\n",
    "#Ans. # Import necessary libraries\n",
    "from sklearn.datasets import load_iris\n",
    "from sklearn.tree import DecisionTreeClassifier\n",
    "from sklearn.model_selection import train_test_split\n",
    "from sklearn.metrics import accuracy_score\n",
    "\n",
    "# Load the Iris dataset\n",
    "iris = load_iris()\n",
    "X = iris.data\n",
    "y = iris.target\n",
    "\n",
    "# Split the dataset into training and testing sets (80% train, 20% test)\n",
    "X_train, X_test, y_train, y_test = train_test_split(X, y, test_size=0.2, random_state=42)\n",
    "\n",
    "# Create a Decision Tree Classifier\n",
    "clf = DecisionTreeClassifier(random_state=42)\n",
    "\n",
    "# Train the classifier\n",
    "clf.fit(X_train, y_train)\n",
    "\n",
    "# Predict on the test set\n",
    "y_pred = clf.predict(X_test)\n",
    "\n",
    "# Calculate and print the accuracy\n",
    "accuracy = accuracy_score(y_test, y_pred)\n",
    "print(f\"Decision Tree Classifier Accuracy: {accuracy:.2f}\")"
   ]
  },
  {
   "cell_type": "code",
   "execution_count": 18,
   "id": "bc9e59db-e550-4149-bd61-172fb6579b53",
   "metadata": {},
   "outputs": [
    {
     "name": "stdout",
     "output_type": "stream",
     "text": [
      "Feature importances using Gini Impurity:\n",
      "sepal length (cm): 0.0000\n",
      "sepal width (cm): 0.0167\n",
      "petal length (cm): 0.9061\n",
      "petal width (cm): 0.0772\n"
     ]
    }
   ],
   "source": [
    "#17.  Write a Python program to train a Decision Tree Classifier using Gini Impurity as the criterion and print the feature importances.\n",
    "#Ans.\n",
    "# Load the Iris dataset\n",
    "iris = load_iris()\n",
    "X = iris.data\n",
    "y = iris.target\n",
    "feature_names = iris.feature_names\n",
    "\n",
    "# Split the dataset into training and testing sets (80% train, 20% test)\n",
    "X_train, X_test, y_train, y_test = train_test_split(X, y, test_size=0.2, random_state=42)\n",
    "\n",
    "# Create a Decision Tree Classifier with Gini impurity\n",
    "clf = DecisionTreeClassifier(criterion='gini', random_state=42)\n",
    "\n",
    "# Train the classifier\n",
    "clf.fit(X_train, y_train)\n",
    "\n",
    "# Print feature importances\n",
    "print(\"Feature importances using Gini Impurity:\")\n",
    "for feature_name, importance in zip(feature_names, clf.feature_importances_):\n",
    "    print(f\"{feature_name}: {importance:.4f}\")"
   ]
  },
  {
   "cell_type": "code",
   "execution_count": 19,
   "id": "34887a28-a067-413b-85d5-d97fbb6d01cd",
   "metadata": {},
   "outputs": [
    {
     "name": "stdout",
     "output_type": "stream",
     "text": [
      "Model Accuracy: 1.00\n"
     ]
    }
   ],
   "source": [
    "#18.  Write a Python program to train a Decision Tree Classifier using Entropy as the splitting criterion and print the model accuracy.\n",
    "#Ans.\n",
    "from sklearn.model_selection import train_test_split\n",
    "\n",
    "# Load dataset\n",
    "data = load_iris()\n",
    "X = data.data\n",
    "y = data.target\n",
    "\n",
    "# Split into training and test data (80% train, 20% test)\n",
    "X_train, X_test, y_train, y_test = train_test_split(X, y, test_size=0.2, random_state=42)\n",
    "\n",
    "# Create Decision Tree Classifier with 'entropy' criterion\n",
    "clf = DecisionTreeClassifier(criterion='entropy', random_state=42)\n",
    "\n",
    "# Train the model\n",
    "clf.fit(X_train, y_train)\n",
    "\n",
    "# Make predictions\n",
    "y_pred = clf.predict(X_test)\n",
    "\n",
    "# Evaluate accuracy\n",
    "accuracy = accuracy_score(y_test, y_pred)\n",
    "print(f\"Model Accuracy: {accuracy:.2f}\")"
   ]
  },
  {
   "cell_type": "code",
   "execution_count": 21,
   "id": "e600d867-3c49-4870-9345-3d862f8a8d1c",
   "metadata": {},
   "outputs": [
    {
     "name": "stdout",
     "output_type": "stream",
     "text": [
      "Mean Squared Error: 0.51\n"
     ]
    }
   ],
   "source": [
    "#19.  Write a Python program to train a Decision Tree Regressor on a housing dataset and evaluate using Mean Squared Error (MSE).\n",
    "#Ans.\n",
    "from sklearn.datasets import fetch_california_housing\n",
    "from sklearn.model_selection import train_test_split\n",
    "from sklearn.metrics import mean_squared_error\n",
    "\n",
    "# Load the California housing dataset\n",
    "housing = fetch_california_housing()\n",
    "X = housing.data\n",
    "y = housing.target\n",
    "\n",
    "# Split into training and test data (80% train, 20% test)\n",
    "X_train, X_test, y_train, y_test = train_test_split(X, y, test_size=0.2, random_state=42)\n",
    "\n",
    "# Create a Decision Tree Regressor\n",
    "regressor = DecisionTreeRegressor(random_state=42)\n",
    "\n",
    "# Train the model\n",
    "regressor.fit(X_train, y_train)\n",
    "\n",
    "# Make predictions on test data\n",
    "y_pred = regressor.predict(X_test)\n",
    "\n",
    "# Evaluate using Mean Squared Error\n",
    "mse = mean_squared_error(y_test, y_pred)\n",
    "print(f\"Mean Squared Error: {mse:.2f}\")"
   ]
  },
  {
   "cell_type": "code",
   "execution_count": 43,
   "id": "7cd20394-0474-499a-bcb2-9075f322d6ca",
   "metadata": {},
   "outputs": [
    {
     "ename": "ModuleNotFoundError",
     "evalue": "No module named 'graphviz'",
     "output_type": "error",
     "traceback": [
      "\u001b[1;31m---------------------------------------------------------------------------\u001b[0m",
      "\u001b[1;31mModuleNotFoundError\u001b[0m                       Traceback (most recent call last)",
      "Cell \u001b[1;32mIn[43], line 5\u001b[0m\n\u001b[0;32m      1\u001b[0m \u001b[38;5;66;03m#20.  Write a Python program to train a Decision Tree Classifier and visualize the tree using graphviz.\u001b[39;00m\n\u001b[0;32m      2\u001b[0m \u001b[38;5;66;03m#Ans.\u001b[39;00m\n\u001b[0;32m      4\u001b[0m \u001b[38;5;28;01mfrom\u001b[39;00m \u001b[38;5;21;01msklearn\u001b[39;00m\u001b[38;5;21;01m.\u001b[39;00m\u001b[38;5;21;01mtree\u001b[39;00m \u001b[38;5;28;01mimport\u001b[39;00m DecisionTreeClassifier,  export_graphviz\n\u001b[1;32m----> 5\u001b[0m \u001b[38;5;28;01mimport\u001b[39;00m \u001b[38;5;21;01mgraphviz\u001b[39;00m\n\u001b[0;32m      7\u001b[0m \u001b[38;5;66;03m# Load dataset\u001b[39;00m\n\u001b[0;32m      8\u001b[0m iris \u001b[38;5;241m=\u001b[39m load_iris()\n",
      "\u001b[1;31mModuleNotFoundError\u001b[0m: No module named 'graphviz'"
     ]
    }
   ],
   "source": [
    "#20.  Write a Python program to train a Decision Tree Classifier and visualize the tree using graphviz.\n",
    "#Ans.\n",
    "\n",
    "from sklearn.tree import DecisionTreeClassifier,  export_graphviz\n",
    "import graphviz\n",
    "\n",
    "# Load dataset\n",
    "iris = load_iris()\n",
    "X = iris.data\n",
    "y = iris.target\n",
    "\n",
    "# Train/test split\n",
    "X_train, X_test, y_train, y_test = train_test_split(X, y, test_size=0.2, random_state=42)\n",
    "\n",
    "# Create and train the classifier\n",
    "clf = DecisionTreeClassifier(criterion='entropy', random_state=42)\n",
    "clf.fit(X_train, y_train)\n",
    "\n",
    "# Export the tree in DOT format\n",
    "dot_data = export_graphviz(\n",
    "    clf,\n",
    "    out_file=None,\n",
    "    feature_names=iris.feature_names,\n",
    "    class_names=iris.target_names,\n",
    "    filled=True,\n",
    "    rounded=True,\n",
    "    special_characters=True\n",
    ")\n",
    "\n",
    "# Generate and render the graph\n",
    "graph = graphviz.Source(dot_data)\n",
    "graph.render(\"decision_tree_iris\", format='png', cleanup=True)  # Saves as PNG file\n",
    "graph.view()  # Opens the image viewer"
   ]
  },
  {
   "cell_type": "code",
   "execution_count": 30,
   "id": "a7347bbd-e4c3-4dc0-9b22-71ec6821f1cf",
   "metadata": {},
   "outputs": [
    {
     "name": "stdout",
     "output_type": "stream",
     "text": [
      "Accuracy with max_depth=3: 1.00\n",
      "Accuracy with fully grown tree: 1.00\n"
     ]
    }
   ],
   "source": [
    "#21.  Write a Python program to train a Decision Tree Classifier with a maximum depth of 3 and compare its accuracy with a fully\n",
    "#     grown tree.\n",
    "#Ans.\n",
    "from sklearn.model_selection import train_test_split\n",
    "from sklearn.metrics import accuracy_score\n",
    "\n",
    "# Load Iris dataset\n",
    "iris = load_iris()\n",
    "X = iris.data\n",
    "y = iris.target\n",
    "\n",
    "# Split into train/test sets\n",
    "X_train, X_test, y_train, y_test = train_test_split(X, y, test_size=0.2, random_state=42)\n",
    "\n",
    "# Model 1: Decision Tree with max depth = 3\n",
    "clf_limited = DecisionTreeClassifier(max_depth=3, random_state=42)\n",
    "clf_limited.fit(X_train, y_train)\n",
    "y_pred_limited = clf_limited.predict(X_test)\n",
    "accuracy_limited = accuracy_score(y_test, y_pred_limited)\n",
    "\n",
    "# Model 2: Fully grown Decision Tree\n",
    "clf_full = DecisionTreeClassifier(random_state=42)\n",
    "clf_full.fit(X_train, y_train)\n",
    "y_pred_full = clf_full.predict(X_test)\n",
    "accuracy_full = accuracy_score(y_test, y_pred_full)\n",
    "\n",
    "# Print results\n",
    "print(f\"Accuracy with max_depth=3: {accuracy_limited:.2f}\")\n",
    "print(f\"Accuracy with fully grown tree: {accuracy_full:.2f}\")"
   ]
  },
  {
   "cell_type": "code",
   "execution_count": 31,
   "id": "fee833e0-c4bf-4edd-8128-822070962a93",
   "metadata": {},
   "outputs": [
    {
     "name": "stdout",
     "output_type": "stream",
     "text": [
      "Accuracy with min_samples_split=5: 1.00\n",
      "Accuracy with default settings:    1.00\n"
     ]
    }
   ],
   "source": [
    "#22.  Write a Python program to train a Decision Tree Classifier using min_samples_split=5 and compare its accuracy with a default tree.\n",
    "#Ans.\n",
    "from sklearn.model_selection import train_test_split\n",
    "from sklearn.metrics import accuracy_score\n",
    "\n",
    "# Load dataset\n",
    "iris = load_iris()\n",
    "X = iris.data\n",
    "y = iris.target\n",
    "\n",
    "# Split into train and test sets\n",
    "X_train, X_test, y_train, y_test = train_test_split(X, y, test_size=0.2, random_state=42)\n",
    "\n",
    "# Model 1: Decision Tree with min_samples_split=5\n",
    "clf_split5 = DecisionTreeClassifier(min_samples_split=5, random_state=42)\n",
    "clf_split5.fit(X_train, y_train)\n",
    "y_pred_split5 = clf_split5.predict(X_test)\n",
    "accuracy_split5 = accuracy_score(y_test, y_pred_split5)\n",
    "\n",
    "# Model 2: Default Decision Tree\n",
    "clf_default = DecisionTreeClassifier(random_state=42)\n",
    "clf_default.fit(X_train, y_train)\n",
    "y_pred_default = clf_default.predict(X_test)\n",
    "accuracy_default = accuracy_score(y_test, y_pred_default)\n",
    "\n",
    "# Print accuracy comparison\n",
    "print(f\"Accuracy with min_samples_split=5: {accuracy_split5:.2f}\")\n",
    "print(f\"Accuracy with default settings:    {accuracy_default:.2f}\")"
   ]
  },
  {
   "cell_type": "code",
   "execution_count": 32,
   "id": "2a742b75-b70d-49b1-aff3-81f5112c667f",
   "metadata": {},
   "outputs": [
    {
     "name": "stdout",
     "output_type": "stream",
     "text": [
      "Accuracy on unscaled data: 1.00\n",
      "Accuracy on scaled data:   1.00\n"
     ]
    }
   ],
   "source": [
    "#23.  Write a Python program to apply feature scaling before training a Decision Tree Classifier and compare its accuracy with\n",
    "#     unscaled data.\n",
    "#Ans.\n",
    "from sklearn.model_selection import train_test_split\n",
    "from sklearn.preprocessing import StandardScaler\n",
    "from sklearn.metrics import accuracy_score\n",
    "\n",
    "# Load Iris dataset\n",
    "iris = load_iris()\n",
    "X = iris.data\n",
    "y = iris.target\n",
    "\n",
    "# Split dataset\n",
    "X_train, X_test, y_train, y_test = train_test_split(X, y, test_size=0.2, random_state=42)\n",
    "\n",
    "# Train on unscaled data\n",
    "clf_unscaled = DecisionTreeClassifier(random_state=42)\n",
    "clf_unscaled.fit(X_train, y_train)\n",
    "y_pred_unscaled = clf_unscaled.predict(X_test)\n",
    "accuracy_unscaled = accuracy_score(y_test, y_pred_unscaled)\n",
    "\n",
    "# Scale the features\n",
    "scaler = StandardScaler()\n",
    "X_train_scaled = scaler.fit_transform(X_train)\n",
    "X_test_scaled = scaler.transform(X_test)\n",
    "\n",
    "# Train on scaled data\n",
    "clf_scaled = DecisionTreeClassifier(random_state=42)\n",
    "clf_scaled.fit(X_train_scaled, y_train)\n",
    "y_pred_scaled = clf_scaled.predict(X_test_scaled)\n",
    "accuracy_scaled = accuracy_score(y_test, y_pred_scaled)\n",
    "\n",
    "# Print comparison\n",
    "print(f\"Accuracy on unscaled data: {accuracy_unscaled:.2f}\")\n",
    "print(f\"Accuracy on scaled data:   {accuracy_scaled:.2f}\")"
   ]
  },
  {
   "cell_type": "code",
   "execution_count": 33,
   "id": "61973010-84b9-44b8-9260-3ad5550e9e5d",
   "metadata": {},
   "outputs": [
    {
     "name": "stdout",
     "output_type": "stream",
     "text": [
      "Accuracy: 1.0\n",
      "\n",
      "Classification Report:\n",
      "               precision    recall  f1-score   support\n",
      "\n",
      "      setosa       1.00      1.00      1.00        19\n",
      "  versicolor       1.00      1.00      1.00        13\n",
      "   virginica       1.00      1.00      1.00        13\n",
      "\n",
      "    accuracy                           1.00        45\n",
      "   macro avg       1.00      1.00      1.00        45\n",
      "weighted avg       1.00      1.00      1.00        45\n",
      "\n"
     ]
    }
   ],
   "source": [
    "#24.  Write a Python program to train a Decision Tree Classifier using One-vs-Rest (OvR) strategy for multiclass classification.\n",
    "#Ans.\n",
    "\n",
    "from sklearn.model_selection import train_test_split\n",
    "from sklearn.multiclass import OneVsRestClassifier\n",
    "from sklearn.metrics import classification_report, accuracy_score\n",
    "\n",
    "# Load the Iris dataset\n",
    "iris = load_iris()\n",
    "X = iris.data\n",
    "y = iris.target\n",
    "\n",
    "# Split into training and test sets (70% train, 30% test)\n",
    "X_train, X_test, y_train, y_test = train_test_split(X, y, test_size=0.3, random_state=42)\n",
    "\n",
    "# Create a base Decision Tree Classifier\n",
    "base_classifier = DecisionTreeClassifier(random_state=42)\n",
    "\n",
    "# Wrap it with the One-vs-Rest strategy\n",
    "ovr_classifier = OneVsRestClassifier(base_classifier)\n",
    "\n",
    "# Train the OvR Decision Tree Classifier\n",
    "ovr_classifier.fit(X_train, y_train)\n",
    "\n",
    "# Make predictions on the test set\n",
    "y_pred = ovr_classifier.predict(X_test)\n",
    "\n",
    "# Evaluate the classifier\n",
    "print(\"Accuracy:\", accuracy_score(y_test, y_pred))\n",
    "print(\"\\nClassification Report:\\n\", classification_report(y_test, y_pred, target_names=iris.target_names))"
   ]
  },
  {
   "cell_type": "code",
   "execution_count": 34,
   "id": "619165a2-c394-4f80-ab8d-c45e2698f041",
   "metadata": {},
   "outputs": [
    {
     "name": "stdout",
     "output_type": "stream",
     "text": [
      "Feature importance scores:\n",
      "             Feature  Importance\n",
      "2  petal length (cm)    0.893264\n",
      "3   petal width (cm)    0.087626\n",
      "1   sepal width (cm)    0.019110\n",
      "0  sepal length (cm)    0.000000\n"
     ]
    }
   ],
   "source": [
    "#25.  Write a Python program to train a Decision Tree Classifier and display the feature importance scores.\n",
    "#Ans.\n",
    "import pandas as pd\n",
    "\n",
    "# Load the Iris dataset\n",
    "iris = load_iris()\n",
    "X = iris.data\n",
    "y = iris.target\n",
    "feature_names = iris.feature_names\n",
    "\n",
    "# Split the data into train and test sets\n",
    "X_train, X_test, y_train, y_test = train_test_split(X, y, test_size=0.3, random_state=42)\n",
    "\n",
    "# Train the Decision Tree Classifier\n",
    "clf = DecisionTreeClassifier(random_state=42)\n",
    "clf.fit(X_train, y_train)\n",
    "\n",
    "# Get feature importance scores\n",
    "importances = clf.feature_importances_\n",
    "\n",
    "# Create a DataFrame to display feature names and their importance\n",
    "feature_importance_df = pd.DataFrame({\n",
    "    'Feature': feature_names,\n",
    "    'Importance': importances\n",
    "}).sort_values(by='Importance', ascending=False)\n",
    "\n",
    "print(\"Feature importance scores:\")\n",
    "print(feature_importance_df)"
   ]
  },
  {
   "cell_type": "code",
   "execution_count": 35,
   "id": "6d3f0c12-99a8-443e-a0b8-1b9d66378c15",
   "metadata": {},
   "outputs": [
    {
     "name": "stdout",
     "output_type": "stream",
     "text": [
      "Decision Tree Regressor with max_depth=5\n",
      "  Mean Squared Error: 0.5211\n",
      "  R² Score: 0.6030\n",
      "\n",
      "Unrestricted Decision Tree Regressor\n",
      "  Mean Squared Error: 0.5236\n",
      "  R² Score: 0.6010\n"
     ]
    }
   ],
   "source": [
    "#26.  Write a Python program to train a Decision Tree Regressor with max_depth=5 and compare its performance with an unrestricted tree.\n",
    "#Ans.\n",
    "from sklearn.datasets import fetch_california_housing\n",
    "from sklearn.tree import DecisionTreeRegressor\n",
    "from sklearn.model_selection import train_test_split\n",
    "from sklearn.metrics import mean_squared_error, r2_score\n",
    "\n",
    "# Load California housing dataset\n",
    "data = fetch_california_housing()\n",
    "X = data.data\n",
    "y = data.target\n",
    "\n",
    "# Split into training and testing sets\n",
    "X_train, X_test, y_train, y_test = train_test_split(X, y, test_size=0.3, random_state=42)\n",
    "\n",
    "# Train Decision Tree Regressor with max_depth=5\n",
    "regressor_limited = DecisionTreeRegressor(max_depth=5, random_state=42)\n",
    "regressor_limited.fit(X_train, y_train)\n",
    "\n",
    "# Train unrestricted Decision Tree Regressor\n",
    "regressor_unrestricted = DecisionTreeRegressor(random_state=42)\n",
    "regressor_unrestricted.fit(X_train, y_train)\n",
    "\n",
    "# Predictions\n",
    "y_pred_limited = regressor_limited.predict(X_test)\n",
    "y_pred_unrestricted = regressor_unrestricted.predict(X_test)\n",
    "\n",
    "# Evaluate performance\n",
    "mse_limited = mean_squared_error(y_test, y_pred_limited)\n",
    "r2_limited = r2_score(y_test, y_pred_limited)\n",
    "\n",
    "mse_unrestricted = mean_squared_error(y_test, y_pred_unrestricted)\n",
    "r2_unrestricted = r2_score(y_test, y_pred_unrestricted)\n",
    "\n",
    "print(\"Decision Tree Regressor with max_depth=5\")\n",
    "print(f\"  Mean Squared Error: {mse_limited:.4f}\")\n",
    "print(f\"  R² Score: {r2_limited:.4f}\\n\")\n",
    "\n",
    "print(\"Unrestricted Decision Tree Regressor\")\n",
    "print(f\"  Mean Squared Error: {mse_unrestricted:.4f}\")\n",
    "print(f\"  R² Score: {r2_unrestricted:.4f}\")"
   ]
  },
  {
   "cell_type": "code",
   "execution_count": 36,
   "id": "d98b3431-31c6-4ed9-8517-d8b5310191bf",
   "metadata": {},
   "outputs": [
    {
     "name": "stdout",
     "output_type": "stream",
     "text": [
      "Number of alphas obtained for pruning: 8\n"
     ]
    },
    {
     "data": {
      "image/png": "[encoded data removed]",
      "text/plain": [
       "<Figure size 1000x600 with 1 Axes>"
      ]
     },
     "metadata": {},
     "output_type": "display_data"
    }
   ],
   "source": [
    "#27.  Write a Python program to train a Decision Tree Classifier, apply Cost Complexity Pruning (CCP), and visualize its effect on\n",
    "#     accuracy.\n",
    "#Ans.\n",
    "import matplotlib.pyplot as plt\n",
    "from sklearn.model_selection import train_test_split\n",
    "from sklearn.metrics import accuracy_score\n",
    "\n",
    "# Load data\n",
    "iris = load_iris()\n",
    "X, y = iris.data, iris.target\n",
    "\n",
    "# Split dataset\n",
    "X_train, X_test, y_train, y_test = train_test_split(X, y, test_size=0.3, random_state=42)\n",
    "\n",
    "# Train initial tree without pruning\n",
    "clf = DecisionTreeClassifier(random_state=42)\n",
    "clf.fit(X_train, y_train)\n",
    "\n",
    "# Get the effective alphas and the corresponding total leaf impurities for pruning\n",
    "path = clf.cost_complexity_pruning_path(X_train, y_train)\n",
    "ccp_alphas, impurities = path.ccp_alphas, path.impurities\n",
    "\n",
    "print(f\"Number of alphas obtained for pruning: {len(ccp_alphas)}\")\n",
    "\n",
    "# For each alpha, train a pruned tree and record accuracy\n",
    "train_scores = []\n",
    "test_scores = []\n",
    "\n",
    "for ccp_alpha in ccp_alphas:\n",
    "    clf_pruned = DecisionTreeClassifier(random_state=42, ccp_alpha=ccp_alpha)\n",
    "    clf_pruned.fit(X_train, y_train)\n",
    "    \n",
    "    y_train_pred = clf_pruned.predict(X_train)\n",
    "    y_test_pred = clf_pruned.predict(X_test)\n",
    "    \n",
    "    train_scores.append(accuracy_score(y_train, y_train_pred))\n",
    "    test_scores.append(accuracy_score(y_test, y_test_pred))\n",
    "\n",
    "# Plot the accuracy vs alpha\n",
    "plt.figure(figsize=(10, 6))\n",
    "plt.plot(ccp_alphas, train_scores, marker='o', label='Train Accuracy', drawstyle=\"steps-post\")\n",
    "plt.plot(ccp_alphas, test_scores, marker='o', label='Test Accuracy', drawstyle=\"steps-post\")\n",
    "plt.xlabel(\"ccp_alpha (pruning parameter)\")\n",
    "plt.ylabel(\"Accuracy\")\n",
    "plt.title(\"Effect of Cost Complexity Pruning on Decision Tree Accuracy\")\n",
    "plt.legend()\n",
    "plt.grid(True)\n",
    "plt.show()"
   ]
  },
  {
   "cell_type": "code",
   "execution_count": 37,
   "id": "655fe7b0-4981-461a-8f65-1f09de9dd27d",
   "metadata": {},
   "outputs": [
    {
     "name": "stdout",
     "output_type": "stream",
     "text": [
      "Precision: 1.0000\n",
      "Recall:    1.0000\n",
      "F1-Score:  1.0000\n",
      "\n",
      "Classification Report:\n",
      "               precision    recall  f1-score   support\n",
      "\n",
      "           0       1.00      1.00      1.00        26\n",
      "           1       1.00      1.00      1.00        19\n",
      "\n",
      "    accuracy                           1.00        45\n",
      "   macro avg       1.00      1.00      1.00        45\n",
      "weighted avg       1.00      1.00      1.00        45\n",
      "\n"
     ]
    }
   ],
   "source": [
    "#28.  Write a Python program to train a Decision Tree Classifier and evaluate its performance using Precision,Recall, and F1-Score.\n",
    "#Ans.\n",
    "from sklearn.model_selection import train_test_split\n",
    "from sklearn.metrics import precision_score, recall_score, f1_score, classification_report\n",
    "\n",
    "# Load dataset (you can replace this with your own data)\n",
    "data = load_iris()\n",
    "X = data.data\n",
    "y = data.target\n",
    "\n",
    "# For simplicity, convert to a binary classification problem (class 0 vs rest)\n",
    "y_binary = (y == 0).astype(int)\n",
    "\n",
    "# Split the data into training and testing sets\n",
    "X_train, X_test, y_train, y_test = train_test_split(X, y_binary, test_size=0.3, random_state=42)\n",
    "\n",
    "# Initialize and train the Decision Tree Classifier\n",
    "clf = DecisionTreeClassifier(random_state=42)\n",
    "clf.fit(X_train, y_train)\n",
    "\n",
    "# Predict on test data\n",
    "y_pred = clf.predict(X_test)\n",
    "\n",
    "# Evaluate performance\n",
    "precision = precision_score(y_test, y_pred)\n",
    "recall = recall_score(y_test, y_pred)\n",
    "f1 = f1_score(y_test, y_pred)\n",
    "\n",
    "print(f\"Precision: {precision:.4f}\")\n",
    "print(f\"Recall:    {recall:.4f}\")\n",
    "print(f\"F1-Score:  {f1:.4f}\")\n",
    "\n",
    "# Optional: detailed classification report\n",
    "print(\"\\nClassification Report:\\n\", classification_report(y_test, y_pred))"
   ]
  },
  {
   "cell_type": "code",
   "execution_count": 38,
   "id": "53a79958-9c58-4161-80c8-127971a0de30",
   "metadata": {},
   "outputs": [
    {
     "data": {
      "image/png": "[encoded data removed]",
      "text/plain": [
       "<Figure size 800x600 with 2 Axes>"
      ]
     },
     "metadata": {},
     "output_type": "display_data"
    }
   ],
   "source": [
    "#29.  Write a Python program to train a Decision Tree Classifier and visualize the confusion matrix using seaborn.\n",
    "#Ans.\n",
    "import seaborn as sns\n",
    "import matplotlib.pyplot as plt\n",
    "from sklearn.model_selection import train_test_split\n",
    "from sklearn.metrics import confusion_matrix\n",
    "\n",
    "# Load dataset\n",
    "data = load_iris()\n",
    "X = data.data\n",
    "y = data.target\n",
    "class_names = data.target_names\n",
    "\n",
    "# Split into train and test\n",
    "X_train, X_test, y_train, y_test = train_test_split(X, y, test_size=0.3, random_state=42)\n",
    "\n",
    "# Train Decision Tree Classifier\n",
    "clf = DecisionTreeClassifier(random_state=42)\n",
    "clf.fit(X_train, y_train)\n",
    "\n",
    "# Predict on test data\n",
    "y_pred = clf.predict(X_test)\n",
    "\n",
    "# Compute confusion matrix\n",
    "cm = confusion_matrix(y_test, y_pred)\n",
    "\n",
    "# Visualize confusion matrix using seaborn heatmap\n",
    "plt.figure(figsize=(8,6))\n",
    "sns.heatmap(cm, annot=True, fmt='d', cmap='Blues', xticklabels=class_names, yticklabels=class_names)\n",
    "plt.xlabel('Predicted label')\n",
    "plt.ylabel('True label')\n",
    "plt.title('Confusion Matrix for Decision Tree Classifier')\n",
    "plt.show()"
   ]
  },
  {
   "cell_type": "code",
   "execution_count": 39,
   "id": "bcba4d33-9c49-42b4-a94d-51623ff9b3f1",
   "metadata": {},
   "outputs": [
    {
     "name": "stdout",
     "output_type": "stream",
     "text": [
      "Best parameters: {'max_depth': 4, 'min_samples_split': 10}\n",
      "              precision    recall  f1-score   support\n",
      "\n",
      "           0       1.00      1.00      1.00        19\n",
      "           1       1.00      1.00      1.00        13\n",
      "           2       1.00      1.00      1.00        13\n",
      "\n",
      "    accuracy                           1.00        45\n",
      "   macro avg       1.00      1.00      1.00        45\n",
      "weighted avg       1.00      1.00      1.00        45\n",
      "\n"
     ]
    }
   ],
   "source": [
    "#30. Write a Python program to train a Decision Tree Classifier and use GridSearchCV to find the optimal values for max_depth and \n",
    "#    min_samples_split.\n",
    "#Ans.\n",
    "from sklearn.model_selection import GridSearchCV, train_test_split\n",
    "from sklearn.metrics import classification_report\n",
    "\n",
    "# Load sample dataset (Iris)\n",
    "data = load_iris()\n",
    "X = data.data\n",
    "y = data.target\n",
    "\n",
    "# Split data into train and test sets\n",
    "X_train, X_test, y_train, y_test = train_test_split(X, y, test_size=0.3, random_state=42)\n",
    "\n",
    "# Initialize Decision Tree Classifier\n",
    "dt = DecisionTreeClassifier(random_state=42)\n",
    "\n",
    "# Define the hyperparameters grid to search\n",
    "param_grid = {\n",
    "    'max_depth': [2, 3, 4, 5, 6, None],\n",
    "    'min_samples_split': [2, 5, 10, 15]\n",
    "}\n",
    "\n",
    "# Initialize GridSearchCV\n",
    "grid_search = GridSearchCV(estimator=dt, param_grid=param_grid, cv=5, n_jobs=-1, scoring='accuracy')\n",
    "\n",
    "# Fit GridSearchCV to the training data\n",
    "grid_search.fit(X_train, y_train)\n",
    "\n",
    "# Print the best parameters found\n",
    "print(\"Best parameters:\", grid_search.best_params_)\n",
    "\n",
    "# Use the best estimator to predict the test set\n",
    "best_dt = grid_search.best_estimator_\n",
    "y_pred = best_dt.predict(X_test)\n",
    "\n",
    "# Evaluate the performance\n",
    "print(classification_report(y_test, y_pred))"
   ]
  }
 ],
 "metadata": {
  "kernelspec": {
   "display_name": "Python 3 (ipykernel)",
   "language": "python",
   "name": "python3"
  },
  "language_info": {
   "codemirror_mode": {
    "name": "ipython",
    "version": 3
   },
   "file_extension": ".py",
   "mimetype": "text/x-python",
   "name": "python",
   "nbconvert_exporter": "python",
   "pygments_lexer": "ipython3",
   "version": "3.12.4"
  }
 },
 "nbformat": 4,
 "nbformat_minor": 5
}
