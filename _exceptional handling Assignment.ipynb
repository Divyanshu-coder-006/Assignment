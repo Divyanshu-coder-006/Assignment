{
 "cells": [
  {
   "cell_type": "markdown",
   "id": "09c1668c-5e82-4869-9bc0-7e22618c8e0f",
   "metadata": {},
   "source": [
    "# Files, exceptional handling Assignment"
   ]
  },
  {
   "cell_type": "code",
   "execution_count": 1,
   "id": "18c07aed-553c-492a-bb0b-1df9fc8c5af8",
   "metadata": {},
   "outputs": [],
   "source": [
    "#1.  What is the difference between interpreted and compiled languages?\n",
    "#Ans. Interpreted Languages (like Python):\n",
    "#Execution: The interpreter reads the source code and executes each line individually. \n",
    "#Translation: No explicit compilation step. The interpreter translates and executes code concurrently. \n",
    "#Speed: Generally slower than compiled languages because of the on-the-fly translation. \n",
    "#Debugging: Easier to debug as errors are detected during execution, line by line. \n",
    "#Portability: Can be more platform-independent if the interpreter is available on different operating systems. \n",
    "\n",
    "#Compiled Languages (like C++):\n",
    "#Execution:The compiled code (machine code or bytecode) is executed directly by the system. \n",
    "#Translation:The compiler translates the entire source code into machine code beforehand. \n",
    "#Speed:Generally faster than interpreted languages because the translation happens only once. \n",
    "#Debugging:Errors are detected during the compilation phase, which can be more challenging to debug. \n",
    "#Portability:Less platform-independent, as the compiled code is specific to the target machine. "
   ]
  },
  {
   "cell_type": "code",
   "execution_count": 2,
   "id": "0e191aea-ee44-4e6d-a48c-38c9aac9bbe4",
   "metadata": {},
   "outputs": [],
   "source": [
    "#2.  What is exception handling in Python?\n",
    "#Ans. Exception handling in Python is a mechanism to manage errors that occur during the execution of a program. These errors, known as exceptions,\n",
    "#     can disrupt the normal flow of the program. Exception handling allows the program to gracefully recover from these errors instead of crashing."
   ]
  },
  {
   "cell_type": "code",
   "execution_count": 3,
   "id": "86b64dce-eb53-47bb-be34-5a357b0acf6e",
   "metadata": {},
   "outputs": [],
   "source": [
    "#3.  What is the purpose of the finally block in exception handling?\n",
    "#Ans. The finally block in Python's exception handling mechanism serves to define a section of code that executes regardless of whether an exception\n",
    "#     occurs within the try block. Its primary purpose is to ensure that essential cleanup actions, such as releasing resources or closing files, are\n",
    "#     always performed."
   ]
  },
  {
   "cell_type": "code",
   "execution_count": 4,
   "id": "e3eae66a-7cad-4554-a786-4a71af18df49",
   "metadata": {},
   "outputs": [],
   "source": [
    "#4.  What is logging in Python?\n",
    "#Ans. Logging in Python is a built-in module that provides a flexible framework for emitting log messages from Python programs. It allows developers\n",
    "#     to track events, debug issues, and monitor the health of their applications. "
   ]
  },
  {
   "cell_type": "code",
   "execution_count": 5,
   "id": "6677b5ab-4524-4a4f-b8e2-933eefb561fd",
   "metadata": {},
   "outputs": [],
   "source": [
    "#5.  What is the significance of the __del__ method in Python?\n",
    "#Ans. The __del__ method in Python is a special method, also known as a destructor, called when an object is about to be destroyed. It is invoked \n",
    "#     automatically by Python's garbage collector when an object's reference count drops to zero, indicating it is no longer in use."
   ]
  },
  {
   "cell_type": "code",
   "execution_count": 7,
   "id": "7d9a1168-f510-4c87-b875-9270c4386f10",
   "metadata": {},
   "outputs": [
    {
     "name": "stdout",
     "output_type": "stream",
     "text": [
      "4.0\n",
      "4.0\n"
     ]
    }
   ],
   "source": [
    "#6.  What is the difference between import and from ... import in Python?\n",
    "#Ans. In Python, both import and from ... import are used to bring code from other modules into your current script, but they do so in slightly\n",
    "#     different ways.\n",
    "#import module_name:\n",
    "#This statement imports the entire module, making it available under the name module_name.\n",
    "#To access items (functions, classes, variables) within the module, you use the dot notation: module_name.item_name.\n",
    "#It keeps the module's namespace separate, which can help avoid naming conflicts, especially in larger projects.\n",
    "\n",
    "#from module_name import item_name:\n",
    "#This statement imports specific items (functions, classes, variables) from the module directly into your current namespace.\n",
    "#You can use the imported items directly without needing to prefix them with module_name.\n",
    "#It can make your code more concise and readable, but it also has the potential for naming conflicts if you import multiple items with the same name\n",
    "#from different modules.\n",
    "\n",
    "#Example:\n",
    "# Using 'import'\n",
    "import math\n",
    "print(math.sqrt(16))\n",
    "\n",
    "# Using 'from ... import'\n",
    "from math import sqrt\n",
    "print(sqrt(16))"
   ]
  },
  {
   "cell_type": "code",
   "execution_count": 8,
   "id": "75b161fa-fd99-49eb-9491-c2eee6a9a4a6",
   "metadata": {},
   "outputs": [
    {
     "name": "stdin",
     "output_type": "stream",
     "text": [
      "Enter a number:  7\n"
     ]
    },
    {
     "name": "stdout",
     "output_type": "stream",
     "text": [
      "1.4285714285714286\n",
      "The file was not found.\n"
     ]
    },
    {
     "name": "stdin",
     "output_type": "stream",
     "text": [
      "Enter a number:  9\n"
     ]
    },
    {
     "name": "stdout",
     "output_type": "stream",
     "text": [
      "1.1111111111111112\n",
      "ValueError caught: Errors (1 sub-exception)\n",
      "TypeError caught: Errors (1 sub-exception)\n"
     ]
    }
   ],
   "source": [
    "#7.  How can you handle multiple exceptions in Python?\n",
    "#Ans. In Python, multiple exceptions can be handled using several methods within a try...except block. These methods allow for specific responses to\n",
    "#     different error types, enhancing the robustness of your code.\n",
    "#1. Using a tuple of exceptions:\n",
    "#You can group multiple exception types within a single except clause by listing them in a tuple. This approach is useful when the same handling logic\n",
    "#applies to different exceptions.\n",
    "try:\n",
    "    # Code that might raise an exception\n",
    "    result = 10 / int(input(\"Enter a number: \"))\n",
    "    print(result)\n",
    "except (ZeroDivisionError, ValueError) as e:\n",
    "    print(f\"An error occurred: {e}\")\n",
    "\n",
    "#2. Multiple except blocks:\n",
    "#You can use separate except blocks for each exception type, allowing for customized handling of different errors.\n",
    "try:\n",
    "    # Code that might raise an exception\n",
    "    file = open(\"myfile.txt\", \"r\")\n",
    "    content = file.read()\n",
    "    print(content)\n",
    "except FileNotFoundError:\n",
    "    print(\"The file was not found.\")\n",
    "except PermissionError:\n",
    "    print(\"You don't have the permission to access the file.\")\n",
    "except Exception as e:\n",
    "    print(f\"An unexpected error occurred: {e}\")\n",
    "\n",
    "#3. Using a parent exception:\n",
    "#You can handle multiple exceptions by catching their parent exception class. For example, catching Exception will handle most exceptions.\n",
    "try:\n",
    "    # Code that might raise an exception\n",
    "    result = 10 / int(input(\"Enter a number: \"))\n",
    "    print(result)\n",
    "except Exception as e:\n",
    "    print(f\"An error occurred: {e}\")\n",
    "\n",
    "#4. except* for Exception Groups (Python 3.11+):\n",
    "#Python 3.11 introduced the except* syntax for handling ExceptionGroup instances, which can contain multiple exceptions.\n",
    "try:\n",
    "    raise ExceptionGroup(\"Errors\", [ValueError(\"Invalid input\"), TypeError(\"Wrong type\")])\n",
    "except* ValueError as e:\n",
    "    print(f\"ValueError caught: {e}\")\n",
    "except* TypeError as e:\n",
    "    print(f\"TypeError caught: {e}\")"
   ]
  },
  {
   "cell_type": "code",
   "execution_count": 9,
   "id": "e1b27468-5dd7-41bb-8491-6063785d4ce8",
   "metadata": {},
   "outputs": [],
   "source": [
    "#8.  What is the purpose of the with statement when handling files in Python?\n",
    "#Ans. The with statement in Python is used for resource management, particularly when dealing with files. It guarantees that resources are properly\n",
    "#     handled, even if errors occur during the execution of the code block.\n",
    "#     When working with files, the with statement ensures that the file is automatically closed after its suite finishes, regardless of whether the\n",
    "#     program encounters an exception or not. This is achieved through a mechanism called \"context management\". The with statement wraps the execution \n",
    "#    of a block of code with methods defined by a context manager. "
   ]
  },
  {
   "cell_type": "code",
   "execution_count": 10,
   "id": "ad667e04-2f98-486f-94f4-ddf31c4068d5",
   "metadata": {},
   "outputs": [],
   "source": [
    "#9.  What is the difference between multithreading and multiprocessing?\n",
    "#Ans.  the difference between multithreading and multiprocessing in Python:\n",
    "#Multithreading\n",
    "#Definition:\n",
    "#Multithreading involves running multiple threads within a single process. These threads share the same memory space.\n",
    "#Concurrency:\n",
    "#Threads are managed by the operating system, which rapidly switches between them, creating the illusion of simultaneous execution. This is known as \n",
    "#concurrency.\n",
    "#Global Interpreter Lock (GIL):\n",
    "#Python's GIL allows only one thread to execute Python bytecode at a time within a single process. This limits the ability of multithreading to achieve\n",
    "#true parallelism for CPU-bound tasks.\n",
    "#Use Cases:\n",
    "#Multithreading is suitable for I/O-bound tasks, such as network requests or file operations, where threads can wait for external operations without\n",
    "#consuming CPU resources.\n",
    "#Advantages:\n",
    "#Lower memory overhead compared to multiprocessing.\n",
    "#Easier communication between threads due to shared memory.\n",
    "#Improved responsiveness for I/O-bound tasks.\n",
    "#Disadvantages:\n",
    "#Limited parallelism for CPU-bound tasks due to the GIL.\n",
    "#Can be more complex to debug and manage due to shared memory.\n",
    "#Potential for race conditions and deadlocks if not properly synchronized.\n",
    "\n",
    "#Multiprocessing\n",
    "#Definition:\n",
    "#Multiprocessing involves running multiple processes, each with its own memory space.\n",
    "#Parallelism:\n",
    "#Processes can run truly in parallel on multi-core CPUs, utilizing multiple cores simultaneously.\n",
    "#GIL Avoidance:\n",
    "#Multiprocessing bypasses the GIL limitation, allowing for true parallel execution of CPU-bound tasks.\n",
    "#Use Cases:\n",
    "#Multiprocessing is ideal for CPU-bound tasks, such as complex calculations, data processing, or image manipulation, where parallel execution can \n",
    "#significantly improve performance.\n",
    "#Advantages:\n",
    "#True parallelism for CPU-bound tasks.\n",
    "#Avoids GIL limitations.\n",
    "#More robust as processes are isolated from each other.\n",
    "#Disadvantages:\n",
    "#Higher memory overhead compared to multithreading.\n",
    "#More complex inter-process communication (IPC) due to separate memory spaces.\n",
    "#Slower process creation compared to thread creation. "
   ]
  },
  {
   "cell_type": "code",
   "execution_count": 11,
   "id": "46af564e-77b6-4999-8b68-0f3b3ab6d4bf",
   "metadata": {},
   "outputs": [],
   "source": [
    "#10.  What are the advantages of using logging in a program?\n",
    "#Ans. Logging provides significant advantages in program development and maintenance, primarily by enabling efficient debugging, performance monitoring,\n",
    "#    and security tracking. It helps developers gain insights into program behavior, identify issues, and make informed decisions about code optimization\n",
    "#    and system health. "
   ]
  },
  {
   "cell_type": "code",
   "execution_count": 12,
   "id": "e26a0394-9033-4e55-8073-f0e43f112739",
   "metadata": {},
   "outputs": [],
   "source": [
    "#11.  What is memory management in Python?\n",
    "#Ans. Memory management in Python is the process of allocating and deallocating memory for objects during the execution of a program. Python uses a\n",
    "#     private heap to store all objects and data structures, which is managed by the Python memory manager."
   ]
  },
  {
   "cell_type": "code",
   "execution_count": 13,
   "id": "b82da686-5c55-46fb-a886-4a2ca3d64533",
   "metadata": {},
   "outputs": [],
   "source": [
    "#12.  What are the basic steps involved in exception handling in Python?\n",
    "#Ans. the basic steps involved in exception handling in Python:\n",
    "#try Block:\n",
    "#This block contains the code that might raise an exception. The program attempts to execute this code.\n",
    "#except Block:\n",
    "#If an exception occurs within the try block, the program immediately jumps to the except block. This block contains the code that handles the exception.\n",
    "#There can be multiple except blocks to handle different types of exceptions.\n",
    "#else Block:\n",
    "#This optional block is executed if no exceptions occur in the try block. It is placed after all except blocks.\n",
    "#finally Block:\n",
    "#This optional block is always executed, regardless of whether an exception occurred or not. It is typically used for cleanup operations (e.g., closing\n",
    "#files or releasing resources). "
   ]
  },
  {
   "cell_type": "code",
   "execution_count": 14,
   "id": "ebbbc9d5-bfd0-4907-8515-770c0cafabf5",
   "metadata": {},
   "outputs": [],
   "source": [
    "#13.  Why is memory management important in Python?\n",
    "#Ans. Memory management is crucial in Python for several reasons:\n",
    "#Efficiency: Efficient memory management ensures that programs utilize memory resources effectively, avoiding unnecessary consumption and improving\n",
    "             #overall performance. This leads to faster processing and reduced resource requirements, such as RAM usage.\n",
    "#Automatic Handling: Python automates memory management, relieving developers from manual allocation and deallocation tasks. This simplifies the coding\n",
    "                    #process and reduces the risk of memory-related errors like memory leaks.\n",
    "#Garbage Collection: Python employs a garbage collector that automatically reclaims memory occupied by objects no longer in use. This prevents memory\n",
    "                    #leaks, where allocated memory is never released, leading to performance issues.\n",
    "#Object Management: Python's memory manager allocates space for new objects and removes unused objects to free up space. This dynamic memory allocation\n",
    "                   #allows Python programs to adapt to varying data needs.\n",
    "#Avoiding Conflicts: Memory management prevents conflicts between different parts of a program by ensuring that variables and objects do not overwrite\n",
    "                    #each other's memory space.\n",
    "#Stability: Proper memory management contributes to system stability by preventing programs from crashing due to memory-related issues.\n",
    "\n",
    "#In summary, memory management in Python is essential for writing efficient, stable, and reliable programs. It allows developers to focus on the logic \n",
    "#of their code without being burdened by manual memory management tasks."
   ]
  },
  {
   "cell_type": "code",
   "execution_count": 1,
   "id": "8dfef97d-46ed-41b4-b10e-d274baa07ef0",
   "metadata": {},
   "outputs": [],
   "source": [
    "#14.  What is the role of try and except in exception handling?\n",
    "#Ans.  Try and except statements are used for exception handling, which is a mechanism for gracefully handling errors or exceptional situations that\n",
    "#      may occur during program execution. The try block contains code that might potentially raise an exception, while the except block contains code\n",
    "#      that is executed when an exception occurs within the try block, allowing the program to continue running even if an error is encountered. "
   ]
  },
  {
   "cell_type": "code",
   "execution_count": 2,
   "id": "6bc61baa-9f76-4c40-a3eb-510f3cd254d5",
   "metadata": {},
   "outputs": [],
   "source": [
    "#15.  How does Python's garbage collection system work?\n",
    "#Ans. Python's garbage collection automatically cleans up any unused objects based on reference counting and object allocation and deallocation, meaning\n",
    "#     users won't have to clean these objects manually. This also helps periodically clear up memory space to help a program run more smoothly."
   ]
  },
  {
   "cell_type": "code",
   "execution_count": 3,
   "id": "7e1ef877-fe3f-4352-86a7-8885de27eb41",
   "metadata": {},
   "outputs": [],
   "source": [
    "#16.  What is the purpose of the else block in exception handling?\n",
    "#Ans. In Python's exception handling, the else block serves a specific purpose: it executes only when the try block completes successfully without \n",
    "#    raising any exceptions. This provides a way to separate the normal flow of code from error handling, making the code clearer and more readable."
   ]
  },
  {
   "cell_type": "code",
   "execution_count": 4,
   "id": "48229a5b-ca7a-4544-8329-a57dc8fb45e9",
   "metadata": {},
   "outputs": [],
   "source": [
    "#17.  What are the common logging levels in Python?\n",
    "#Ans. the common logging levels, ordered from least to most severe:\n",
    "#DEBUG (10):\n",
    "#Used for detailed information that is primarily useful for diagnosing problems. This level is typically used during development and debugging phases,\n",
    "#providing granular insights into the program's state.\n",
    "#INFO (20):\n",
    "#Indicates that the application is functioning as expected. This level is useful for tracking the normal flow of the program and confirming that key\n",
    "#operations are being executed correctly.\n",
    "#WARNING (30):\n",
    "#Signals that something unexpected has occurred or a potential problem might arise in the future. While the application may still function, warnings\n",
    "#should be investigated to prevent more serious issues.\n",
    "#ERROR (40):\n",
    "#Indicates a significant issue that has prevented certain functions from executing. Errors require attention and may lead to unexpected behavior or\n",
    "#partial failures. \n",
    "#CRITICAL (50):\n",
    "#A severe error that suggests the program may be unable to continue running. Critical errors often indicate a major problem that needs immediate\n",
    "#resolution. \n",
    "#NOTSET (0):\n",
    "#This is the default level of a logger, meaning all messages will be passed to the handlers.\n",
    "#Each level is associated with a numeric value, allowing you to set a threshold for which messages are logged. For example, if the logging level is set\n",
    "#to WARNING, only WARNING, ERROR, and CRITICAL messages will be recorded, while DEBUG and INFO messages will be ignored."
   ]
  },
  {
   "cell_type": "code",
   "execution_count": 5,
   "id": "02945b9e-b2dc-4e73-b2f5-3567fd167247",
   "metadata": {},
   "outputs": [],
   "source": [
    "#18.  What is the difference between os.fork() and multiprocessing in Python?\n",
    "#Ans. os.fork() and multiprocessing are both used for creating new processes in Python, but they differ significantly in their implementation and usage.\n",
    "#os.fork()\n",
    "#Low-Level System Call:\n",
    "#os.fork() is a direct interface to the operating system's fork() system call, available on Unix-like systems.\n",
    "#Process Duplication:\n",
    "#It creates a new process (child process) that is an exact copy of the calling process (parent process), including memory space, open file descriptors,\n",
    "#etc.\n",
    "#Shared Resources:\n",
    "#The child process initially shares the parent's memory space, but changes made by one process do not affect the other due to copy-on-write semantics.\n",
    "#Limited Portability:\n",
    "#os.fork() is not available on Windows.\n",
    "#Potential Issues:\n",
    "#Can be problematic in multithreaded applications due to potential deadlocks and inconsistent states in the child process.\n",
    "\n",
    "#multiprocessing\n",
    "#High-Level Module:\n",
    "#The multiprocessing module provides a higher-level interface for creating and managing processes in a more portable and user-friendly way.\n",
    "#Process Creation:\n",
    "#It uses different start methods (e.g., fork, spawn, forkserver) to create new processes.\n",
    "#fork: Similar to os.fork(), it duplicates the parent process, but it is not recommended in multithreaded applications.\n",
    "#spawn: Starts a new Python interpreter process and runs the target function in that process. Safer but slower.\n",
    "#forkserver: Starts a server process that forks new processes on demand.\n",
    "#Separate Memory Space:\n",
    "#Processes created with multiprocessing have their own memory space, which prevents data corruption.\n",
    "#Data Sharing:\n",
    "#It provides mechanisms for inter-process communication (IPC), such as pipes, queues, and shared memory, allowing processes to exchange data safely.\n",
    "#Cross-Platform:\n",
    "#multiprocessing is available on both Unix-like systems and Windows, making it more portable.\n",
    "#Multithreading Support:\n",
    "#It handles multithreading issues more gracefully than os.fork()."
   ]
  },
  {
   "cell_type": "code",
   "execution_count": 6,
   "id": "c87176f9-5f6b-484d-ba25-e53b1d758eac",
   "metadata": {},
   "outputs": [],
   "source": [
    "#19.  What is the importance of closing a file in Python?\n",
    "#Ans. When you open a file in Python, the operating system allocates system resources, such as memory and file handles, to manage the file. These\n",
    "#     resources are limited, and if you don't close the file properly, they can remain occupied, leading to various issues.\n",
    "#     Closing files in Python is an essential practice that helps maintain data integrity, prevent resource leaks, and ensure the reliability of your\n",
    "#     applications."
   ]
  },
  {
   "cell_type": "code",
   "execution_count": 7,
   "id": "6348c428-4cf6-4c36-b880-95c20944db9d",
   "metadata": {},
   "outputs": [],
   "source": [
    "#20.  What is the difference between file.read() and file.readline() in Python?\n",
    "#Ans. file.read() and file.readline() are both methods used to read data from a file in Python, but they differ in how much data they read at once.\n",
    "#file.read():\n",
    "#Reads the entire content of the file as a single string. \n",
    "#If a size argument is provided (e.g., file.read(10)), it reads up to that many bytes or characters.\n",
    "#Can be inefficient for large files because it loads the entire file into memory. \n",
    "\n",
    "#file.readline():\n",
    "#Reads a single line from the file, including the newline character (\\n) at the end of the line.\n",
    "#If there are no more lines to read, it returns an empty string. \n",
    "#Is more memory-efficient for large files because it reads the file line by line."
   ]
  },
  {
   "cell_type": "code",
   "execution_count": 8,
   "id": "4e31959b-fd60-4751-8b2e-8edc6ade896c",
   "metadata": {},
   "outputs": [],
   "source": [
    "#21.  What is the logging module in Python used for?\n",
    "#Ans. The logging module in Python is a versatile tool used to track events and record information during program execution. It allows developers to\n",
    "#    identify errors, debug issues, and monitor the health of their applications. "
   ]
  },
  {
   "cell_type": "code",
   "execution_count": 9,
   "id": "6e0b230b-257f-4e2c-8c98-5181ebaa6502",
   "metadata": {},
   "outputs": [],
   "source": [
    "#22.  What is the os module in Python used for in file handling?\n",
    "#Ans. The os module in Python is used for interacting with the operating system, which includes file and directory manipulation. It provides functions\n",
    "#     to perform tasks like creating directories, removing files and directories, checking file existence, renaming files, and working with paths. "
   ]
  },
  {
   "cell_type": "code",
   "execution_count": 10,
   "id": "536ee48a-5a1b-46d8-876c-6948dfd37084",
   "metadata": {},
   "outputs": [],
   "source": [
    "#23.  What are the challenges associated with memory management in Python?\n",
    "#Ans. Python's memory management, while largely automatic, presents several challenges:\n",
    "#1. Memory Leaks:\n",
    "#Circular references, where objects refer to each other, can prevent garbage collection, leading to memory leaks.\n",
    "#Unreleased resources like file handles or sockets can also cause leaks.\n",
    "\n",
    "#2. Garbage Collection Overhead:\n",
    "#Python's garbage collector, while helpful, can introduce performance overhead.\n",
    "#The garbage collector may not always be able to free memory promptly, leading to potential delays.\n",
    "\n",
    "#3. Reference Counting Issues:\n",
    "#Reference counting, Python's primary memory management technique, can be inefficient with complex data structures and many object\n",
    "#allocations/deallocations.\n",
    "#It also has limitations in multithreaded environments.\n",
    "\n",
    "#4. Dynamic Memory Allocation Challenges:\n",
    "#Dynamic allocation, while flexible, can lead to memory fragmentation.\n",
    "#Python's dynamic memory management can be less customizable than in languages like C/C++.\n",
    "\n",
    "#5. Memory Bloat:\n",
    "#Loading large datasets or using inefficient data structures can cause memory bloat.\n",
    "#Failure to deallocate unused memory can also lead to increased memory usage.\n",
    "\n",
    "#6. Performance Issues:\n",
    "#Excessive memory usage can slow down program execution.\n",
    "#Memory errors can occur when dealing with large datasets or inefficient code. \n",
    "\n",
    "#7. Limited Control:\n",
    "#Python's automatic memory management provides less control than manual memory management in other languages.\n",
    "#This can make it harder to optimize memory usage in specific scenarios.\n",
    "\n",
    "#8. Debugging Difficulties:\n",
    "#Memory issues can be difficult to debug due to Python's high-level nature.\n",
    "#Memory profiling tools are needed to identify and fix memory leaks.\n",
    "\n",
    "#9. Multithreading/Multiprocessing Complexities:\n",
    "#Multithreading can introduce race conditions and deadlocks related to memory management.\n",
    "#Multiprocessing can be resource-intensive, as each process requires its own memory space. \n",
    "\n",
    "#10. Memory Overhead: \n",
    "#Python's memory overhead can be significant for large-scale data processing or long-running services."
   ]
  },
  {
   "cell_type": "code",
   "execution_count": 13,
   "id": "eede17b1-9f9e-4a93-b565-35b85cd1f053",
   "metadata": {},
   "outputs": [],
   "source": [
    "#24.  How do you raise an exception manually in Python?\n",
    "#Ans. In Python, exceptions can be raised manually using the raise statement. This allows developers to signal that an error or exceptional condition\n",
    "#     has occurred during the execution of their code.\n",
    "\n",
    "# Example \n",
    "def divide_numbers(a, b):\n",
    "    if b == 0:\n",
    "        raise ZeroDivisionError(\"Cannot divide by zero\")\n",
    "    return a / b"
   ]
  },
  {
   "cell_type": "code",
   "execution_count": 15,
   "id": "b5fd0458-dea8-4755-9526-eefcc956d6a3",
   "metadata": {},
   "outputs": [],
   "source": [
    "#25.  Why is it important to use multithreading in certain applications?\n",
    "#Ans. Multithreading is important in certain applications, especially in Python, for several reasons:\n",
    "#1. Improved Responsiveness:\n",
    "#When a program performs a lengthy operation, such as downloading a file or processing a large dataset, multithreading allows other parts of the\n",
    "#application to remain responsive.\n",
    "#For instance, in a GUI application, the user interface can remain interactive while background tasks are running in separate threads.\n",
    "\n",
    "#2. Enhanced Performance:\n",
    "#Multithreading enables concurrent execution of multiple tasks within a single process. \n",
    "#This is particularly beneficial for I/O-bound operations, where the program spends a significant amount of time waiting for external resources, such as\n",
    "#network requests or file reads. \n",
    "#By using multiple threads, the program can perform other tasks while waiting for I/O operations to complete.\n",
    "\n",
    "#3. Efficient Resource Utilization:\n",
    "#Multithreading allows for better utilization of system resources, especially in multi-core processors.\n",
    "#Multiple threads can run concurrently, taking advantage of the available CPU cores and improving overall performance.\n",
    "\n",
    "#4. Simplified Code: \n",
    "#Complex tasks can be divided into smaller, more manageable threads that can be executed independently.\n",
    "#This can make the code easier to read, understand, and maintain.\n",
    "\n",
    "#5. Better User Experience:\n",
    "#By performing time-consuming tasks in the background, multithreading can improve the user experience of applications.\n",
    "#Users can continue to interact with the application without experiencing delays or freezes.\n",
    "\n",
    "#6. Concurrency:\n",
    "#Multithreading enables the concurrent execution of multiple tasks within a single process, making it possible to perform multiple operations seemingly\n",
    "#simultaneously.\n",
    "\n",
    "#7. Shared Memory:\n",
    "#Threads within the same process share the same memory space, which makes it easier for them to communicate and share data."
   ]
  },
  {
   "cell_type": "markdown",
   "id": "75c53ca7-0121-41cf-9605-75c1d3c156e9",
   "metadata": {},
   "source": [
    "# Practical Questions"
   ]
  },
  {
   "cell_type": "code",
   "execution_count": 16,
   "id": "87f48494-cd98-4681-9ca5-34016bd41782",
   "metadata": {},
   "outputs": [],
   "source": [
    "#1.  How can you open a file for writing in Python and write a string to it?\n",
    "#Ans.\n",
    "with open(\"example.txt\", \"w\") as file:\n",
    "    file.write(\"This is a string written to the file.\")"
   ]
  },
  {
   "cell_type": "code",
   "execution_count": 17,
   "id": "d9849dfd-ab0e-4d26-8647-4374d278b6fd",
   "metadata": {},
   "outputs": [
    {
     "name": "stdout",
     "output_type": "stream",
     "text": [
      "This is a string written to the file."
     ]
    }
   ],
   "source": [
    "#2.  Write a Python program to read the contents of a file and print each line.\n",
    "#Ans.\n",
    "def print_file_lines(filepath):\n",
    "    \"\"\"Reads a file and prints each line.\n",
    "\n",
    "    Args:\n",
    "        filepath: The path to the file to read.\n",
    "    \"\"\"\n",
    "    try:\n",
    "        with open(filepath, 'r') as file:\n",
    "            for line in file:\n",
    "                print(line, end='')\n",
    "    except FileNotFoundError:\n",
    "        print(f\"Error: File not found at {filepath}\")\n",
    "    except Exception as e:\n",
    "        print(f\"An error occurred: {e}\")\n",
    "\n",
    "\n",
    "if __name__ == \"__main__\":\n",
    "    file_path = \"example.txt\"  # Replace with your file path\n",
    "    print_file_lines(file_path)"
   ]
  },
  {
   "cell_type": "code",
   "execution_count": 19,
   "id": "0ccf568d-8dd6-4324-9f13-17aed596d3de",
   "metadata": {},
   "outputs": [
    {
     "name": "stdout",
     "output_type": "stream",
     "text": [
      "File not found.\n"
     ]
    }
   ],
   "source": [
    "#3.  How would you handle a case where the file doesn't exist while trying to open it for reading?\n",
    "#Ans.\n",
    "try:\n",
    "    with open(\"my_file.txt\", \"r\") as file:\n",
    "        content = file.read()\n",
    "        print(content)\n",
    "except FileNotFoundError:\n",
    "    print(\"File not found.\")"
   ]
  },
  {
   "cell_type": "code",
   "execution_count": 20,
   "id": "d00b9235-e74b-4a6f-bd8c-5a8b301961bd",
   "metadata": {},
   "outputs": [
    {
     "name": "stdout",
     "output_type": "stream",
     "text": [
      "Error: Source file 'input.txt' not found.\n"
     ]
    }
   ],
   "source": [
    "#4.  Write a Python script that reads from one file and writes its content to another file.\n",
    "#Ans.\n",
    "def copy_file(source_file, destination_file):\n",
    "    try:\n",
    "        with open(source_file, 'r') as infile, open(destination_file, 'w') as outfile:\n",
    "            for line in infile:\n",
    "                outfile.write(line)\n",
    "        print(f\"Successfully copied content from '{source_file}' to '{destination_file}'\")\n",
    "    except FileNotFoundError:\n",
    "        print(f\"Error: Source file '{source_file}' not found.\")\n",
    "    except Exception as e:\n",
    "        print(f\"An error occurred: {e}\")\n",
    "\n",
    "if __name__ == \"__main__\":\n",
    "    source_file = \"input.txt\"\n",
    "    destination_file = \"output.txt\"\n",
    "    copy_file(source_file, destination_file)"
   ]
  },
  {
   "cell_type": "code",
   "execution_count": 21,
   "id": "4743779b-38e2-42b1-b3da-f3e1ac278731",
   "metadata": {},
   "outputs": [
    {
     "name": "stdout",
     "output_type": "stream",
     "text": [
      "Error: Division by zero!\n",
      "Result: None\n",
      "Result: 5.0\n"
     ]
    }
   ],
   "source": [
    "#5.  How would you catch and handle division by zero error in Python?\n",
    "#Ans.\n",
    "def safe_divide(a, b):\n",
    "    try:\n",
    "        result = a / b\n",
    "        return result\n",
    "    except ZeroDivisionError:\n",
    "        print(\"Error: Division by zero!\")\n",
    "        return None\n",
    "\n",
    "# Example usage\n",
    "numerator = 10\n",
    "denominator = 0\n",
    "result = safe_divide(numerator, denominator)\n",
    "print(f\"Result: {result}\")\n",
    "\n",
    "numerator = 10\n",
    "denominator = 2\n",
    "result = safe_divide(numerator, denominator)\n",
    "print(f\"Result: {result}\")"
   ]
  },
  {
   "cell_type": "code",
   "execution_count": 22,
   "id": "e3c3e916-d093-4d56-b6a6-e7dc50df90f2",
   "metadata": {},
   "outputs": [
    {
     "name": "stdout",
     "output_type": "stream",
     "text": [
      "Error occurred. Check the log file for details.\n",
      "The result is: 5.0\n"
     ]
    }
   ],
   "source": [
    "#6. Write a Python program that logs an error message to a log file when a division by zero exception occurs.\n",
    "#Ans.\n",
    "import logging\n",
    "\n",
    "# Configure logging to write to a file\n",
    "logging.basicConfig(filename='division_error.log', level=logging.ERROR,\n",
    "                    format='%(asctime)s - %(levelname)s - %(message)s')\n",
    "\n",
    "def divide_numbers(numerator, denominator):\n",
    "    \"\"\"\n",
    "    Divides two numbers and logs an error if division by zero occurs.\n",
    "\n",
    "    Args:\n",
    "      numerator: The number to be divided.\n",
    "      denominator: The number to divide by.\n",
    "\n",
    "    Returns:\n",
    "      The result of the division, or None if division by zero occurs.\n",
    "    \"\"\"\n",
    "    try:\n",
    "        result = numerator / denominator\n",
    "        return result\n",
    "    except ZeroDivisionError:\n",
    "        logging.error(f\"Division by zero occurred with numerator: {numerator} and denominator: {denominator}\")\n",
    "        return None\n",
    "\n",
    "# Example usage\n",
    "numerator = 10\n",
    "denominator = 0\n",
    "result = divide_numbers(numerator, denominator)\n",
    "\n",
    "if result is None:\n",
    "    print(\"Error occurred. Check the log file for details.\")\n",
    "else:\n",
    "    print(f\"The result is: {result}\")\n",
    "\n",
    "numerator = 10\n",
    "denominator = 2\n",
    "result = divide_numbers(numerator, denominator)\n",
    "\n",
    "if result is None:\n",
    "    print(\"Error occurred. Check the log file for details.\")\n",
    "else:\n",
    "    print(f\"The result is: {result}\")"
   ]
  },
  {
   "cell_type": "code",
   "execution_count": 24,
   "id": "bc516fb9-5c33-4c2f-a9da-13204123dd0e",
   "metadata": {},
   "outputs": [],
   "source": [
    "#7.  How do you log information at different levels (INFO, ERROR, WARNING) in Python using the logging module?\n",
    "#Ans.\n",
    "import logging\n",
    "\n",
    "logging.basicConfig(level=logging.INFO, format='%(asctime)s - %(levelname)s - %(message)s')\n",
    "\n",
    "logging.debug(\"This is a debug message (will not be displayed).\")\n",
    "logging.info(\"This is an informational message.\")\n",
    "logging.warning(\"This is a warning message.\")\n",
    "logging.error(\"This is an error message.\")\n",
    "logging.critical(\"This is a critical message.\")"
   ]
  },
  {
   "cell_type": "code",
   "execution_count": 25,
   "id": "b3d7ac7b-3137-44b8-9521-29dfd6b5ba27",
   "metadata": {},
   "outputs": [
    {
     "name": "stdout",
     "output_type": "stream",
     "text": [
      "File content:\n",
      "This is a string written to the file.\n",
      "Error: File 'nonexistent_file.txt' not found.\n"
     ]
    }
   ],
   "source": [
    "#8.  Write a program to handle a file opening error using exception handling.\n",
    "#Ans.\n",
    "def read_file(filename):\n",
    "    try:\n",
    "        with open(filename, 'r') as file:\n",
    "            content = file.read()\n",
    "            print(\"File content:\")\n",
    "            print(content)\n",
    "    except FileNotFoundError:\n",
    "        print(f\"Error: File '{filename}' not found.\")\n",
    "    except Exception as e:\n",
    "        print(f\"An unexpected error occurred: {e}\")\n",
    "\n",
    "# Example usage:\n",
    "read_file(\"example.txt\")\n",
    "read_file(\"nonexistent_file.txt\")"
   ]
  },
  {
   "cell_type": "code",
   "execution_count": 31,
   "id": "cb6fed22-7448-40f0-ac2d-64e8e11ca68e",
   "metadata": {},
   "outputs": [
    {
     "name": "stdout",
     "output_type": "stream",
     "text": [
      "['This is a string written to the file.']\n"
     ]
    }
   ],
   "source": [
    "#9.  How can you read a file line by line and store its content in a list in Python?\n",
    "#Ans.\n",
    "lines = []\n",
    "with open(\"example.txt\", \"r\") as file:\n",
    "    for line in file:\n",
    "        lines.append(line.strip()) # To remove the newline character\n",
    "print(lines)"
   ]
  },
  {
   "cell_type": "code",
   "execution_count": 32,
   "id": "ad4a93ce-ee80-46bc-a044-8ba42d5719b9",
   "metadata": {},
   "outputs": [],
   "source": [
    "#10.  How can you append data to an existing file in Python?\n",
    "#Ans.\n",
    "with open('your_file.txt', 'a') as file:\n",
    "    file.write(\"First line to append.\\n\")\n",
    "    file.write(\"Second line to append.\\n\")\n",
    "    lines_to_append = [\"Third line.\\n\", \"Fourth line.\\n\"]\n",
    "    file.writelines(lines_to_append)"
   ]
  },
  {
   "cell_type": "code",
   "execution_count": 33,
   "id": "0bd35ef7-2f0d-438e-a7d2-676b6f38796a",
   "metadata": {},
   "outputs": [
    {
     "name": "stdout",
     "output_type": "stream",
     "text": [
      "Error: Key 'd' not found in the dictionary.\n"
     ]
    }
   ],
   "source": [
    "#11.  Write a Python program that uses a try-except block to handle an error when attempting to access a dictionary key that doesn't exist.\n",
    "#Ans.\n",
    "my_dict = {\"a\": 1, \"b\": 2, \"c\": 3}\n",
    "\n",
    "try:\n",
    "    value = my_dict[\"d\"]\n",
    "    print(value)\n",
    "except KeyError:\n",
    "    print(\"Error: Key 'd' not found in the dictionary.\")"
   ]
  },
  {
   "cell_type": "code",
   "execution_count": 35,
   "id": "8ba44494-9bf5-47bd-91dd-92d53ad8f5e6",
   "metadata": {},
   "outputs": [
    {
     "name": "stdout",
     "output_type": "stream",
     "text": [
      "The result of 10 / 2 is: 5.0\n",
      "Division successful\n",
      "End of operation\n",
      "Error: Cannot divide by zero.\n",
      "End of operation\n",
      "Error: Invalid input. Please provide numbers.\n",
      "End of operation\n",
      "The result of 10 / 5 is: 2.0\n",
      "Division successful\n",
      "End of operation\n"
     ]
    }
   ],
   "source": [
    "#12.  Write a program that demonstrates using multiple except blocks to handle different types of exceptions.\n",
    "#Ans.\n",
    "def divide(x, y):\n",
    "    try:\n",
    "        result = x / y\n",
    "        print(f\"The result of {x} / {y} is: {result}\")\n",
    "    except ZeroDivisionError:\n",
    "        print(\"Error: Cannot divide by zero.\")\n",
    "    except TypeError:\n",
    "        print(\"Error: Invalid input. Please provide numbers.\")\n",
    "    except Exception as e:\n",
    "        print(f\"An unexpected error occurred: {e}\")\n",
    "    else:\n",
    "      print(\"Division successful\")\n",
    "    finally:\n",
    "      print(\"End of operation\")\n",
    "\n",
    "# Test cases\n",
    "divide(10, 2)\n",
    "divide(10, 0)\n",
    "divide(10, \"a\")\n",
    "divide(10, 5)"
   ]
  },
  {
   "cell_type": "code",
   "execution_count": 36,
   "id": "7a8aca67-9c03-4615-9a7f-80d12b1d8ab4",
   "metadata": {},
   "outputs": [
    {
     "name": "stdout",
     "output_type": "stream",
     "text": [
      "File 'my_file.txt' does not exist.\n"
     ]
    }
   ],
   "source": [
    "#13.  How would you check if a file exists before attempting to read it in Python?\n",
    "#Ans.\n",
    "file_path = \"my_file.txt\"\n",
    "\n",
    "try:\n",
    "    with open(file_path, 'r') as file:\n",
    "        contents = file.read()\n",
    "        print(contents)\n",
    "except FileNotFoundError:\n",
    "    print(f\"File '{file_path}' does not exist.\")"
   ]
  },
  {
   "cell_type": "code",
   "execution_count": 37,
   "id": "ef662fde-915e-4e69-abc9-2df29f6cc5ab",
   "metadata": {},
   "outputs": [],
   "source": [
    "#14.  Write a program that uses the logging module to log both informational and error messages.\n",
    "#Ans.\n",
    "import logging\n",
    "\n",
    "# Configure logging\n",
    "logging.basicConfig(level=logging.DEBUG, \n",
    "                    format='%(asctime)s - %(levelname)s - %(message)s',\n",
    "                    filename='app.log',\n",
    "                    filemode='w')\n",
    "\n",
    "# Create a logger\n",
    "logger = logging.getLogger(__name__)\n",
    "\n",
    "def divide(x, y):\n",
    "    \"\"\"Divides two numbers and logs the operation.\"\"\"\n",
    "    logger.info(f\"Dividing {x} by {y}\")\n",
    "    try:\n",
    "        result = x / y\n",
    "        logger.info(f\"Result: {result}\")\n",
    "        return result\n",
    "    except ZeroDivisionError:\n",
    "        logger.error(\"Cannot divide by zero!\")\n",
    "        return None\n",
    "\n",
    "if __name__ == \"__main__\":\n",
    "    divide(10, 2)\n",
    "    divide(5, 0)"
   ]
  },
  {
   "cell_type": "code",
   "execution_count": 38,
   "id": "a35f1c10-e047-443a-84d9-83857aa8c363",
   "metadata": {},
   "outputs": [
    {
     "name": "stdout",
     "output_type": "stream",
     "text": [
      "This is a string written to the file.\n"
     ]
    }
   ],
   "source": [
    "#15.  Write a Python program that prints the content of a file and handles the case when the file is empty.\n",
    "#Ans.\n",
    "def print_file_content(filename):\n",
    "    \"\"\"Prints the content of a file. Handles empty files.\"\"\"\n",
    "    try:\n",
    "        with open(filename, 'r') as file:\n",
    "            content = file.read()\n",
    "            if content:\n",
    "                print(content)\n",
    "            else:\n",
    "                print(\"The file is empty.\")\n",
    "    except FileNotFoundError:\n",
    "        print(f\"Error: The file '{filename}' was not found.\")\n",
    "\n",
    "# Example usage:\n",
    "file_path = \"example.txt\" # Replace with your file path\n",
    "print_file_content(file_path)"
   ]
  },
  {
   "cell_type": "code",
   "execution_count": 41,
   "id": "4473a47c-406f-40b0-9142-89bdf0753bae",
   "metadata": {},
   "outputs": [
    {
     "ename": "SyntaxError",
     "evalue": "invalid syntax (3448004587.py, line 4)",
     "output_type": "error",
     "traceback": [
      "\u001b[1;36m  Cell \u001b[1;32mIn[41], line 4\u001b[1;36m\u001b[0m\n\u001b[1;33m    pip install memory_profiler\u001b[0m\n\u001b[1;37m        ^\u001b[0m\n\u001b[1;31mSyntaxError\u001b[0m\u001b[1;31m:\u001b[0m invalid syntax\n"
     ]
    }
   ],
   "source": [
    "#16.  Demonstrate how to use memory profiling to check the memory usage of a small program.\n",
    "#Ans.Here's how to use memory profiling in Python to check the memory usage of a small program:\n",
    "#1. Install memory_profiler:\n",
    "pip install memory_profiler\n",
    "#2. Decorate the function you want to profile:\n",
    "#Import the profile decorator from memory_profiler.\n",
    "#Apply the profile decorator to the function you want to analyze. \n",
    "from memory_profiler import profile\n",
    "\n",
    "@profile\n",
    "def my_function():\n",
    "    a = [1] * 1000000\n",
    "    b = [2] * 2000000\n",
    "    c = a + b\n",
    "    return c\n",
    "\n",
    "if __name__ == '__main__':\n",
    "    my_function()\n",
    "\n",
    "#3. Run the script with the -m memory_profiler flag:\n",
    "#Execute your Python script from the command line using the following command:\n",
    "python -m memory_profiler your_script_name.py\n",
    "#Replace your_script_name.py with the actual name of your Python file.\n",
    "\n",
    "#4. Analyze the output:\n",
    "#The output will show a line-by-line breakdown of memory usage within the decorated function.\n",
    "#The report includes:\n",
    "#Line #: The line number in your code.\n",
    "#Mem usage: The memory usage at that line (in MiB).\n",
    "#Increment: The change in memory usage from the previous line.\n",
    "#Line Contents: The corresponding line of code."
   ]
  },
  {
   "cell_type": "code",
   "execution_count": 44,
   "id": "8bb0ce80-abb9-472e-bbff-0b57d9192fd3",
   "metadata": {},
   "outputs": [
    {
     "name": "stdout",
     "output_type": "stream",
     "text": [
      "Numbers written to numbers.txt\n"
     ]
    }
   ],
   "source": [
    "#17.  Write a Python program to create and write a list of numbers to a file, one number per line.\n",
    "#Ans.\n",
    "# Define the list of numbers\n",
    "numbers = [10, 20, 30, 40, 50]\n",
    "\n",
    "# Specify the filename\n",
    "filename = \"numbers.txt\"\n",
    "\n",
    "# Open the file in write mode\n",
    "with open(filename, 'w') as file:\n",
    "    for number in numbers:\n",
    "        file.write(f\"{number}\\n\")\n",
    "\n",
    "print(f\"Numbers written to {filename}\")"
   ]
  },
  {
   "cell_type": "code",
   "execution_count": 45,
   "id": "174aa5f0-a09a-486b-9260-5f75bb8589aa",
   "metadata": {},
   "outputs": [],
   "source": [
    "#18.  How would you implement a basic logging setup that logs to a file with rotation after 1MB?\n",
    "#Ans.\n",
    "import logging\n",
    "from logging.handlers import RotatingFileHandler\n",
    "\n",
    "# Set up the logger\n",
    "logger = logging.getLogger('my_logger')\n",
    "logger.setLevel(logging.DEBUG)  # You can change this level as needed\n",
    "\n",
    "# Create a rotating file handler\n",
    "handler = RotatingFileHandler(\n",
    "    'my_app.log',      # Log file name\n",
    "    maxBytes=1_000_000,  # 1MB\n",
    "    backupCount=5       # Keep up to 5 old log files\n",
    ")\n",
    "\n",
    "# Set a logging format\n",
    "formatter = logging.Formatter('%(asctime)s - %(name)s - %(levelname)s - %(message)s')\n",
    "handler.setFormatter(formatter)\n",
    "\n",
    "# Add the handler to the logger\n",
    "logger.addHandler(handler)\n",
    "\n",
    "# Example usage\n",
    "logger.info('This is an informational message.')\n",
    "logger.error('This is an error message.')\n"
   ]
  },
  {
   "cell_type": "code",
   "execution_count": 46,
   "id": "7cf48bef-5fed-422e-b767-f5f093de2ba0",
   "metadata": {},
   "outputs": [
    {
     "name": "stdout",
     "output_type": "stream",
     "text": [
      "Caught an IndexError: list index out of range\n"
     ]
    }
   ],
   "source": [
    "#19.  Write a program that handles both IndexError and KeyError using a try-except block.\n",
    "#Ans.\n",
    "def handle_errors():\n",
    "    my_list = [10, 20, 30]\n",
    "    my_dict = {'a': 1, 'b': 2}\n",
    "\n",
    "    try:\n",
    "        # Intentionally accessing an out-of-range index\n",
    "        print(\"Accessing list element:\", my_list[5])\n",
    "\n",
    "        # Intentionally accessing a non-existent key\n",
    "        print(\"Accessing dictionary value:\", my_dict['z'])\n",
    "\n",
    "    except IndexError as ie:\n",
    "        print(\"Caught an IndexError:\", ie)\n",
    "\n",
    "    except KeyError as ke:\n",
    "        print(\"Caught a KeyError:\", ke)\n",
    "\n",
    "# Run the function\n",
    "handle_errors()"
   ]
  },
  {
   "cell_type": "code",
   "execution_count": 47,
   "id": "95d0b6e0-2dae-483d-a1cd-af433db62beb",
   "metadata": {},
   "outputs": [
    {
     "name": "stdout",
     "output_type": "stream",
     "text": [
      "File contents:\n",
      "This is a string written to the file.\n"
     ]
    }
   ],
   "source": [
    "#20.  How would you open a file and read its contents using a context manager in Python?\n",
    "#Ans.\n",
    "# Open and read a file using a context manager\n",
    "file_path = 'example.txt'  # Replace with your actual file path\n",
    "\n",
    "try:\n",
    "    with open(file_path, 'r') as file:\n",
    "        contents = file.read()\n",
    "        print(\"File contents:\")\n",
    "        print(contents)\n",
    "except FileNotFoundError:\n",
    "    print(f\"The file '{file_path}' was not found.\")\n"
   ]
  },
  {
   "cell_type": "code",
   "execution_count": 48,
   "id": "d4653a0f-acd3-4b9e-b89b-55e32cca820c",
   "metadata": {},
   "outputs": [
    {
     "name": "stdout",
     "output_type": "stream",
     "text": [
      "The word 'example' appears 0 times in the file.\n"
     ]
    }
   ],
   "source": [
    "#21.  Write a Python program that reads a file and prints the number of occurrences of a specific word.\n",
    "#Ans.\n",
    "def count_word_occurrences(filename, word):\n",
    "    \"\"\"\n",
    "    Reads a file and counts the number of occurrences of a specific word.\n",
    "\n",
    "    Args:\n",
    "        filename (str): The path to the file.\n",
    "        word (str): The word to search for.\n",
    "\n",
    "    Returns:\n",
    "        int: The number of times the word appears in the file.\n",
    "    \"\"\"\n",
    "    try:\n",
    "        with open(filename, 'r') as file:\n",
    "            content = file.read().lower()\n",
    "            word_count = content.split().count(word.lower())\n",
    "            return word_count\n",
    "    except FileNotFoundError:\n",
    "        return 0\n",
    "\n",
    "# Example usage:\n",
    "filename = \"example.txt\"\n",
    "word_to_count = \"example\"\n",
    "\n",
    "count = count_word_occurrences(filename, word_to_count)\n",
    "\n",
    "print(f\"The word '{word_to_count}' appears {count} times in the file.\")"
   ]
  },
  {
   "cell_type": "code",
   "execution_count": 49,
   "id": "9e39280d-9914-4250-b195-3323e00c641e",
   "metadata": {},
   "outputs": [
    {
     "name": "stdout",
     "output_type": "stream",
     "text": [
      "The file 'example.txt' is not empty.\n",
      "File contents:\n",
      "This is a string written to the file.\n"
     ]
    }
   ],
   "source": [
    "#22.  How can you check if a file is empty before attempting to read its contents?\n",
    "#Ans.\n",
    "import os\n",
    "\n",
    "file_path = \"example.txt\"\n",
    "\n",
    "try:\n",
    "    file_size = os.path.getsize(file_path)\n",
    "\n",
    "    if file_size == 0:\n",
    "        print(f\"The file '{file_path}' is empty.\")\n",
    "    else:\n",
    "        print(f\"The file '{file_path}' is not empty.\")\n",
    "        # Proceed with reading the file contents here\n",
    "        with open(file_path, \"r\") as f:\n",
    "            file_contents = f.read()\n",
    "            print(f\"File contents:\\n{file_contents}\")\n",
    "\n",
    "except FileNotFoundError:\n",
    "    print(f\"The file '{file_path}' does not exist.\")\n",
    "except Exception as e:\n",
    "    print(f\"An error occurred: {e}\")"
   ]
  },
  {
   "cell_type": "code",
   "execution_count": 51,
   "id": "7c384928-9eb2-4cfd-af16-1dd60c87a6dd",
   "metadata": {},
   "outputs": [
    {
     "name": "stdout",
     "output_type": "stream",
     "text": [
      "File content:\n",
      " This is a string written to the file.\n"
     ]
    }
   ],
   "source": [
    "#23.  Write a Python program that writes to a log file when an error occurs during file handling.\n",
    "#Ans.\n",
    "import logging\n",
    "\n",
    "# Configure logging to write to a file\n",
    "logging.basicConfig(filename='file_handling_errors.log', level=logging.ERROR,\n",
    "                    format='%(asctime)s - %(levelname)s - %(message)s')\n",
    "\n",
    "def process_file(filename):\n",
    "    \"\"\"Opens and attempts to read a file, logging errors.\"\"\"\n",
    "    try:\n",
    "        with open(filename, 'r') as file:\n",
    "            content = file.read()\n",
    "            print(\"File content:\\n\", content)\n",
    "    except FileNotFoundError:\n",
    "        logging.error(f\"File not found: {filename}\")\n",
    "    except PermissionError:\n",
    "        logging.error(f\"Permission error accessing file: {filename}\")\n",
    "    except Exception as e:\n",
    "        logging.error(f\"An unexpected error occurred: {e}\")\n",
    "\n",
    "if __name__ == \"__main__\":\n",
    "    process_file(\"example.txt\") # Example with a file that  exist\n",
    "    process_file(\"test.txt\") # Example with a file that might not exists"
   ]
  }
 ],
 "metadata": {
  "kernelspec": {
   "display_name": "Python 3 (ipykernel)",
   "language": "python",
   "name": "python3"
  },
  "language_info": {
   "codemirror_mode": {
    "name": "ipython",
    "version": 3
   },
   "file_extension": ".py",
   "mimetype": "text/x-python",
   "name": "python",
   "nbconvert_exporter": "python",
   "pygments_lexer": "ipython3",
   "version": "3.12.4"
  }
 },
 "nbformat": 4,
 "nbformat_minor": 5
}
