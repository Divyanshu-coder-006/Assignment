{
 "cells": [
  {
   "cell_type": "markdown",
   "id": "9549bf60-9ae4-42b4-801a-92326e83c92e",
   "metadata": {},
   "source": [
    "# Data Structure"
   ]
  },
  {
   "cell_type": "code",
   "execution_count": 44,
   "id": "23684ebc-d427-4600-ab00-f3811043a6d7",
   "metadata": {},
   "outputs": [
    {
     "data": {
      "text/plain": [
       "'a  odb'"
      ]
     },
     "execution_count": 44,
     "metadata": {},
     "output_type": "execute_result"
    }
   ],
   "source": [
    "## Discuss string slicing and provide examples.\n",
    "\n",
    "#Ans. String slicing is a method of extracting a particular portion of a string.\n",
    "   #  string[a:b:y] #where 'a' is included and 'b' is excluded.\n",
    "   #  where 'y' is the step(interval b/w characters)\n",
    " #Example \n",
    "string1=\"I am a good boy\"\n",
    "string1[2:-1:2]"
   ]
  },
  {
   "cell_type": "code",
   "execution_count": 40,
   "id": "eadbffee-17b5-4e8c-878d-f141bdd5dfd0",
   "metadata": {},
   "outputs": [
    {
     "data": {
      "text/plain": [
       "'Divya'"
      ]
     },
     "execution_count": 40,
     "metadata": {},
     "output_type": "execute_result"
    }
   ],
   "source": [
    "string2=\"Divyanshu\"\n",
    "string2[0:5]"
   ]
  },
  {
   "cell_type": "code",
   "execution_count": null,
   "id": "2725ce8a-520e-40a4-ba35-98e3bdfe9049",
   "metadata": {},
   "outputs": [],
   "source": []
  }
 ],
 "metadata": {
  "kernelspec": {
   "display_name": "Python 3 (ipykernel)",
   "language": "python",
   "name": "python3"
  },
  "language_info": {
   "codemirror_mode": {
    "name": "ipython",
    "version": 3
   },
   "file_extension": ".py",
   "mimetype": "text/x-python",
   "name": "python",
   "nbconvert_exporter": "python",
   "pygments_lexer": "ipython3",
   "version": "3.12.4"
  }
 },
 "nbformat": 4,
 "nbformat_minor": 5
}
