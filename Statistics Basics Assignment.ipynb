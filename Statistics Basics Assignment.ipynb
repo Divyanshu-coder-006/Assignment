{
 "cells": [
  {
   "cell_type": "markdown",
   "id": "77037ae4-7550-4bca-8f5d-aa3296469435",
   "metadata": {},
   "source": [
    "# Statistics Basics Assignment"
   ]
  },
  {
   "cell_type": "code",
   "execution_count": 1,
   "id": "48a1af80-7085-44c5-9515-8b5d6887266d",
   "metadata": {},
   "outputs": [],
   "source": [
    "#1.  Explain the different types of data (qualitative and quantitative) and provide examples of each. Discuss nominal, ordinal,\n",
    "#    interval, and ratio scales.\n",
    "#Ans. In statistics, data is broadly classified as qualitative (categorical) or quantitative (numerical). Qualitative data describes qualities, while\n",
    "#     quantitative data measures quantities. Within these categories, data can be further classified by its measurement scale: nominal, ordinal,\n",
    "#     interval, and ratio. \n",
    "#1. Qualitative Data:\n",
    "#Definition:\n",
    "#Qualitative data describes qualities or characteristics that cannot be numerically measured. It's often descriptive and textual. \n",
    "#Examples:\n",
    "#Nominal Data: Categories with no inherent order. Examples include:\n",
    "#Hair color (brown, blonde, black) \n",
    "#Gender (male, female, other) \n",
    "#Marital status (single, married, widowed) \n",
    "#Ordinal Data: Categories with a natural order or ranking, but the difference between categories is not necessarily equal. Examples include:\n",
    "#Educational levels (high school, bachelor's, master's, PhD) \n",
    "#Movie ratings (1-5 stars) \n",
    "#Survey responses (strongly agree, agree, neutral, disagree, strongly disagree) \n",
    "#2. Quantitative Data:\n",
    "#Definition: Quantitative data represents numerical values that can be measured. \n",
    "#Examples:\n",
    "#Interval Data: Data that can be categorized, ranked, and has equal intervals between values, but there's no true zero. Examples include:\n",
    "#Temperature in Celsius or Fahrenheit \n",
    "#Year \n",
    "#Ratio Data: Data that can be categorized, ranked, has equal intervals, and a true zero point. Examples include:\n",
    "#Height \n",
    "#Weight \n",
    "#Age \n",
    "#Income \n",
    "#Distance "
   ]
  },
  {
   "cell_type": "code",
   "execution_count": 2,
   "id": "eed6f721-95a0-4503-aa60-e5291565ab31",
   "metadata": {},
   "outputs": [],
   "source": [
    "#2.  What are the measures of central tendency, and when should you use each? Discuss the mean, median, and mode with examples and\n",
    "#    situations where each is appropriate.\n",
    "#Ans. Measures of central tendency (mean, median, and mode) describe the \"typical\" value in a dataset. The mean is the average, the median is the\n",
    "#     middle value when sorted, and the mode is the most frequent value. Each is useful in different situations and data types. \n",
    "\n",
    "#1. Mean (Average):\n",
    "#Definition: The sum of all values in a dataset divided by the number of values. \n",
    "#When to use:\n",
    "#When data is relatively evenly distributed (symmetrical). \n",
    "#When you want a general average and are not concerned about extreme values (outliers). \n",
    "#Example: Average salary of employees in a company, average test scores in a class. \n",
    "\n",
    "#2. Median:\n",
    "#Definition: The middle value in a sorted dataset. \n",
    "#When to use:\n",
    "#When data is skewed (not symmetrical) or has outliers. \n",
    "#When you want a value that is not affected by extreme values. \n",
    "#Example: Median income in a city, median house price in a neighborhood. \n",
    "\n",
    "#3. Mode:\n",
    "#Definition: The value that appears most frequently in a dataset. \n",
    "#When to use:\n",
    "#For qualitative (categorical) data (like colors or types of fruits). \n",
    "#When you want to know the most common value, even if it's not the \"average\". \n",
    "#Example: Most popular brand of smartphone, most common eye color in a group. "
   ]
  },
  {
   "cell_type": "code",
   "execution_count": 3,
   "id": "02ae1e15-ed9c-43d0-8687-44d4849a7514",
   "metadata": {},
   "outputs": [],
   "source": [
    "#3.  Explain the concept of dispersion. How do variance and standard deviation measure the spread of data?\n",
    "#Ans. Dispersion:\n",
    "#     Essentially, dispersion describes how much the data values differ from each other and from the central tendency (mean) of the dataset. A large\n",
    "#     dispersion indicates that the data points are widely scattered, while a small dispersion suggests the data is clustered close to the mean. \n",
    "\n",
    "#     Variance:\n",
    "#     Variance calculates the average of the squared differences between each data point and the mean. Squaring the differences ensures that both\n",
    "#     positive and negative deviations from the mean contribute to the overall measure of spread. A higher variance indicates a greater spread of \n",
    "#     data around the mean. \n",
    "\n",
    "#    Standard Deviation:\n",
    "#    The standard deviation is the square root of the variance. It represents the average distance of each data point from the mean, expressed in the\n",
    "#    same units as the original data. Therefore, it's easier to interpret and understand than variance. A higher standard deviation indicates that the\n",
    "#    data is more spread out from the mean. "
   ]
  },
  {
   "cell_type": "code",
   "execution_count": 4,
   "id": "3d2a1b5f-50f7-4bc0-b614-7dd4097e6e11",
   "metadata": {},
   "outputs": [],
   "source": [
    "#4.  What is a box plot, and what can it tell you about the distribution of data?\n",
    "#Ans. A box plot (also called a box-and-whisker plot) is a graphical representation of data's distribution, particularly useful for visualizing the\n",
    "#    median, quartiles, and potential outliers. It shows the five-number summary: the minimum, first quartile (Q1), median (Q2), third quartile (Q3),\n",
    "#   and maximum. The box itself encompasses the interquartile range (IQR), the area between the first and third quartiles. Whiskers extend from the\n",
    "#   box to the minimum and maximum values, and individual points may represent outliers. \n",
    "\n",
    "#What a box plot tells about data:\n",
    "#Central Tendency:\n",
    "#The median (middle line in the box) represents the center of the data. \n",
    "#Spread:\n",
    "#The IQR (the box itself) shows how spread out the middle 50% of the data is. \n",
    "#Symmetry/Skewness:\n",
    "#If the median is roughly in the middle of the box, the data is relatively symmetrical. If the median is shifted towards one end of the box, the data\n",
    "#is skewed. \n",
    "#Outliers:\n",
    "#Points outside the whiskers (often marked as individual points) indicate values that are significantly different from the rest of the data. \n",
    "#Data Comparison:\n",
    "#Box plots are particularly effective for comparing the distributions of multiple groups on the same graph. "
   ]
  },
  {
   "cell_type": "code",
   "execution_count": 5,
   "id": "d2c1c396-2f52-4033-b6c3-ad9d310abbfd",
   "metadata": {},
   "outputs": [],
   "source": [
    "#5.  Discuss the role of random sampling in making inferences about populations.\n",
    "#Ans. Random sampling plays a crucial role in making valid inferences about populations in statistics. It helps ensure a representative sample,\n",
    "#     minimizing bias, and allows for generalizations about the population based on sample data. By randomly selecting individuals, researchers can\n",
    "#    create a sample that reflects the diversity of the population, increasing the reliability and validity of their findings. "
   ]
  },
  {
   "cell_type": "code",
   "execution_count": 6,
   "id": "b79270f7-57e0-41d5-958b-c34e4c9515b1",
   "metadata": {},
   "outputs": [],
   "source": [
    "#6.  Explain the concept of skewness and its types. How does skewness affect the interpretation of data?\n",
    "#Ans. Skewness, in statistics, is a measure of the asymmetry of a probability distribution. It describes how the distribution is skewed to the left\n",
    "#     or right relative to its mean. There are two main types of skewness: positive (right) and negative (left). Skewness significantly impacts how\n",
    "#     we interpret data, especially when analyzing averages and making inferences about populations. "
   ]
  },
  {
   "cell_type": "code",
   "execution_count": 7,
   "id": "4d005c1f-a373-4c1e-888e-7c45dba7081e",
   "metadata": {},
   "outputs": [],
   "source": [
    "#7.  What is the interquartile range (IQR), and how is it used to detect outliers?\n",
    "#Ans. The Interquartile Range (IQR) is a measure of statistical dispersion that represents the range within which the middle 50% of a dataset falls.\n",
    "#     It's calculated as the difference between the third quartile (Q3) and the first quartile (Q1). The IQR is commonly used to identify outliers by\n",
    "#     establishing upper and lower boundaries based on the IQR value. "
   ]
  },
  {
   "cell_type": "code",
   "execution_count": 8,
   "id": "0fcef9b4-c986-40c1-bfea-7cfb9d81e890",
   "metadata": {},
   "outputs": [],
   "source": [
    "#8.  Discuss the conditions under which the binomial distribution is used.\n",
    "#Ans. The binomial distribution is used in statistics when a fixed number of independent trials, each with only two possible outcomes (success or\n",
    "#     failure), are conducted, and the probability of success remains constant across all trials. Essentially, it models the probability of obtaining\n",
    "#    a certain number of successes in a series of repeated, independent trials where each trial has the same probability of success. "
   ]
  },
  {
   "cell_type": "code",
   "execution_count": 9,
   "id": "8bbe61fa-76b4-430b-8534-3d24bb761d92",
   "metadata": {},
   "outputs": [],
   "source": [
    "#9.  Explain the properties of the normal distribution and the empirical rule (68-95-99.7 rule).\n",
    "#Ans. Properties of the Normal Distribution\n",
    "#The normal distribution, also known as the Gaussian distribution, is a continuous probability distribution that is symmetric about its mean. It is\n",
    "#one of the most important distributions in statistics due to its natural occurrence in many real-world phenomena.\n",
    "\n",
    "#Key Properties:\n",
    "#Bell-Shaped Curve:\n",
    "#The graph of the normal distribution is bell-shaped and symmetric around the mean (μ).\n",
    "\n",
    "#Symmetry:\n",
    "#The left and right sides of the curve are mirror images. This means:\n",
    "#Mean = Median = Mode\n",
    "\n",
    "#Defined by Two Parameters:\n",
    "#Mean (μ): Determines the center of the distribution.\n",
    "#Standard Deviation (σ): Determines the spread or dispersion of the distribution.\n",
    "\n",
    "#Total Area Under the Curve:\n",
    "#Equals 1, representing the total probability.\n",
    "\n",
    "#Asymptotic:\n",
    "#The tails of the distribution extend infinitely in both directions, never touching the x-axis.\n",
    "\n",
    "#Unimodal:\n",
    "#There is only one peak or mode.\n",
    "#The Empirical Rule (68-95-99.7 Rule)\n",
    "#The empirical rule describes how data is distributed in a normal distribution in terms of standard deviations from the mean:\n",
    "\n",
    "#According to the Rule:\n",
    "#68% of the data falls within 1 standard deviation (μ ± 1σ)\n",
    "\n",
    "#95% of the data falls within 2 standard deviations (μ ± 2σ)\n",
    "\n",
    "#99.7% of the data falls within 3 standard deviations (μ ± 3σ)\n",
    "\n",
    "#Interpretation:\n",
    "#Most data in a normal distribution lies close to the mean.\n",
    "#The further from the mean, the rarer the values.\n",
    "#This rule is useful for identifying outliers and understanding variability in datasets."
   ]
  },
  {
   "cell_type": "code",
   "execution_count": 14,
   "id": "4fff05e7-c62f-495e-aa6e-27216660cc59",
   "metadata": {},
   "outputs": [
    {
     "name": "stdout",
     "output_type": "stream",
     "text": [
      "Probability of receiving exactly 5 calls in 2 hours (scipy): 0.1606\n",
      "Probability of receiving exactly 5 calls in 2 hours (manual): 0.1606\n"
     ]
    }
   ],
   "source": [
    "#10.  Provide a real-life example of a Poisson process and calculate the probability for a specific event.\n",
    "#Ans.Scenario:\n",
    "#A call center receives an average of 3 calls per hour. This follows a Poisson process since:\n",
    "#Calls occur independently.\n",
    "#The average rate is constant.\n",
    "#Two calls don’t happen at exactly the same time.\n",
    "\n",
    "#Question:\n",
    "#What is the probability that exactly 5 calls are received in 2 hours?\n",
    "import math\n",
    "from scipy.stats import poisson\n",
    "\n",
    "# Given values\n",
    "rate_per_hour = 3  # λ per hour\n",
    "time_hours = 2\n",
    "lambda_total = rate_per_hour * time_hours  # λ for 2 hours\n",
    "k = 5  # number of calls\n",
    "\n",
    "# Method 1: Using scipy\n",
    "prob_scipy = poisson.pmf(k, lambda_total)\n",
    "\n",
    "# Method 2: Manually using Poisson formula\n",
    "prob_manual = (math.exp(-lambda_total) * lambda_total**k) / math.factorial(k)\n",
    "\n",
    "print(f\"Probability of receiving exactly 5 calls in 2 hours (scipy): {prob_scipy:.4f}\")\n",
    "print(f\"Probability of receiving exactly 5 calls in 2 hours (manual): {prob_manual:.4f}\")\n",
    "# Interpretation:\n",
    "#There’s about a 16.06% chance that exactly 5 calls will be received in a 2-hour window, given the average call rate is 3 calls per hour."
   ]
  },
  {
   "cell_type": "code",
   "execution_count": 11,
   "id": "5ca16020-dbb3-4fe4-9153-9b862abced59",
   "metadata": {},
   "outputs": [],
   "source": [
    "#11.  Explain what a random variable is and differentiate between discrete and continuous random variables.\n",
    "#Ans. In statistics, a random variable is a numerical outcome of a random phenomenon. It can be classified as either discrete or continuous, depending\n",
    "#     on whether its values are countable or can fall within a continuous range. \n",
    "#Discrete Random Variables:\n",
    "#A discrete random variable is one that can only take on a finite or countably infinite number of values. These values are distinct and separate, not \n",
    "#continuous.\n",
    "#Examples:\n",
    "#The number of heads when flipping a coin three times (can only be 0, 1, 2, or 3).\n",
    "#The number of cars passing a certain point on a highway in an hour.\n",
    "\n",
    "#Continuous Random Variables:\n",
    "#A continuous random variable can take on any value within a specified range or interval. The values are infinitely dense and can be any real number\n",
    "#within that range.\n",
    "#Examples:\n",
    "#The height of a student.\n",
    "#The weight of an object."
   ]
  },
  {
   "cell_type": "code",
   "execution_count": 12,
   "id": "5f08e769-f2d8-4c20-96f2-cf9c00085f76",
   "metadata": {},
   "outputs": [
    {
     "name": "stdout",
     "output_type": "stream",
     "text": [
      "Covariance Matrix:\n",
      "           Math  Physics\n",
      "Math     182.50   131.25\n",
      "Physics  131.25   101.50\n",
      "\n",
      "Correlation Matrix:\n",
      "            Math  Physics\n",
      "Math     1.00000  0.96435\n",
      "Physics  0.96435  1.00000\n",
      "\n",
      "Covariance between Math and Physics: 131.25\n",
      "Correlation between Math and Physics: 0.9643503813483006\n"
     ]
    }
   ],
   "source": [
    "#12.  Provide an example dataset, calculate both covariance and correlation, and interpret the results.\n",
    "#Ans. \n",
    "import numpy as np\n",
    "import pandas as pd\n",
    "\n",
    "# Example dataset\n",
    "data = {\n",
    "    'Math': [85, 95, 80, 70, 60],\n",
    "    'Physics': [82, 89, 84, 70, 65]\n",
    "}\n",
    "\n",
    "# Create a DataFrame\n",
    "df = pd.DataFrame(data)\n",
    "\n",
    "# Calculate covariance matrix\n",
    "cov_matrix = df.cov()\n",
    "\n",
    "# Calculate correlation matrix\n",
    "corr_matrix = df.corr()\n",
    "\n",
    "# Extract specific values\n",
    "cov_value = cov_matrix.loc['Math', 'Physics']\n",
    "corr_value = corr_matrix.loc['Math', 'Physics']\n",
    "\n",
    "print(\"Covariance Matrix:\")\n",
    "print(cov_matrix)\n",
    "\n",
    "print(\"\\nCorrelation Matrix:\")\n",
    "print(corr_matrix)\n",
    "\n",
    "print(f\"\\nCovariance between Math and Physics: {cov_value}\")\n",
    "print(f\"Correlation between Math and Physics: {corr_value}\")"
   ]
  }
 ],
 "metadata": {
  "kernelspec": {
   "display_name": "Python 3 (ipykernel)",
   "language": "python",
   "name": "python3"
  },
  "language_info": {
   "codemirror_mode": {
    "name": "ipython",
    "version": 3
   },
   "file_extension": ".py",
   "mimetype": "text/x-python",
   "name": "python",
   "nbconvert_exporter": "python",
   "pygments_lexer": "ipython3",
   "version": "3.12.4"
  }
 },
 "nbformat": 4,
 "nbformat_minor": 5
}
