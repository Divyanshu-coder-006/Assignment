{
 "cells": [
  {
   "cell_type": "markdown",
   "id": "2dc3da04-c355-4974-9feb-4b6ad9053b2e",
   "metadata": {},
   "source": [
    "# OOPS  Assignment  Questions"
   ]
  },
  {
   "cell_type": "code",
   "execution_count": 4,
   "id": "e3141b72-8982-40b0-8b90-31b533194800",
   "metadata": {},
   "outputs": [],
   "source": [
    "#1.  What are the five key concepts of Object-Oriented Programming (OOP)?\n",
    "#Ans. The five key concepts of Object-Oriented Programming (OOP) are: Abstraction, Encapsulation, Inheritance, Polymorphism, and\n",
    "#     Classes/Objects. \n",
    "#     These concepts provide a structured approach to software development, making code more reusable, maintainable, and easier to \n",
    "#     understand. "
   ]
  },
  {
   "cell_type": "code",
   "execution_count": 5,
   "id": "6f92cf96-9e70-497a-96ec-5f8060ed6f85",
   "metadata": {},
   "outputs": [
    {
     "name": "stdout",
     "output_type": "stream",
     "text": [
      "Make: Tata\n",
      "Model: Curvv EV\n",
      "Year: 2024\n"
     ]
    }
   ],
   "source": [
    "#2.  Write a Python class for a `Car` with attributes for `make`, `model`, and `year`. Include a method to display the car's information.\n",
    "#Ans. creating a Python class for a Car:\n",
    "class Car:\n",
    "    def __init__(self, make, model, year):\n",
    "        \"\"\"\n",
    "        Initializes a Car object.\n",
    "\n",
    "        Args:\n",
    "            make (str): The make of the car.\n",
    "            model (str): The model of the car.\n",
    "            year (int): The year the car was manufactured.\n",
    "        \"\"\"\n",
    "        self.make = make\n",
    "        self.model = model\n",
    "        self.year = year\n",
    "\n",
    "    def display_info(self):\n",
    "        \"\"\"Displays the car's information.\"\"\"\n",
    "        print(f\"Make: {self.make}\")\n",
    "        print(f\"Model: {self.model}\")\n",
    "        print(f\"Year: {self.year}\")\n",
    "\n",
    "# Example usage:\n",
    "my_car = Car(\"Tata\", \"Curvv EV\", 2024)\n",
    "my_car.display_info()"
   ]
  },
  {
   "cell_type": "code",
   "execution_count": 6,
   "id": "80eb820f-9371-465d-997f-4e4122896fbf",
   "metadata": {},
   "outputs": [
    {
     "name": "stdout",
     "output_type": "stream",
     "text": [
      "Buddy says woof!\n",
      "78.53975\n"
     ]
    }
   ],
   "source": [
    "#3.  Explain the difference between instance methods and class methods. Provide an example of each.\n",
    "#Ans. Instance Methods\n",
    "#     Instance methods operate on a specific instance (object) of a class. They have access to the instance's attributes and can modify them. They are\n",
    "#     called using an object of the class.\n",
    "# Example:\n",
    "class Dog:\n",
    "    def __init__(self, name):\n",
    "        self.name = name\n",
    "\n",
    "    def bark(self):\n",
    "        return f\"{self.name} says woof!\"\n",
    "\n",
    "my_dog = Dog(\"Buddy\")\n",
    "print(my_dog.bark()) # Output: Buddy says woof!\n",
    "\n",
    "#  Class Methods\n",
    "#   Class methods are bound to the class and not the instance of the class. They have access to the class itself through the cls parameter, but not to\n",
    "#  specific instance attributes. They can modify class-level attributes and are called using the class name or an instance of the class. \n",
    "# Example:\n",
    "class Circle:\n",
    "    pi = 3.14159\n",
    "\n",
    "    def __init__(self, radius):\n",
    "        self.radius = radius\n",
    "\n",
    "    @classmethod\n",
    "    def area(cls, radius):\n",
    "        return cls.pi * radius * radius\n",
    "\n",
    "print(Circle.area(5)) # Output: 78.53975"
   ]
  },
  {
   "cell_type": "code",
   "execution_count": 7,
   "id": "6e5b3fc8-4d4f-4e53-a674-e181f6c9f41d",
   "metadata": {},
   "outputs": [
    {
     "name": "stdout",
     "output_type": "stream",
     "text": [
      "2\n",
      "5\n",
      "9\n"
     ]
    }
   ],
   "source": [
    "#4.  How does Python implement method overloading? Give an example.\n",
    "#Ans. Python does not directly support method overloading in the same way as some other languages like Java or C++. Method overloading refers to the\n",
    "#     ability to have multiple methods with the same name but different signatures (different number or types of arguments) within the same class. \n",
    "#     However, Python achieves a similar effect through default arguments and variable-length argument lists.Here's how method overloading can be \n",
    "#    implemented in Python, along with an example:\n",
    "class Calculator:\n",
    "    def add(self, x, y=None, z=None):\n",
    "        if y is not None and z is not None:\n",
    "            return x + y + z\n",
    "        elif y is not None:\n",
    "            return x + y\n",
    "        else:\n",
    "            return x\n",
    "\n",
    "calc = Calculator()\n",
    "\n",
    "print(calc.add(2))      \n",
    "print(calc.add(2, 3))    \n",
    "print(calc.add(2, 3, 4)) "
   ]
  },
  {
   "cell_type": "code",
   "execution_count": 8,
   "id": "2521fd7a-89dc-49bb-8bab-96dbfe1d2bf9",
   "metadata": {},
   "outputs": [
    {
     "name": "stdout",
     "output_type": "stream",
     "text": [
      "10\n",
      "This is a public method.\n",
      "10\n",
      "This is a protected method.\n",
      "10\n",
      "This is a private method.\n"
     ]
    }
   ],
   "source": [
    "#5. What are the three types of access modifiers in Python? How are they denoted?\n",
    "#Ans.  There are three main types of access modifiers in Python: \n",
    "# Public:\n",
    "#>>Denotation: No specific prefix.\n",
    "#>>Accessibility: Public members are accessible from anywhere, both inside and outside the class.\n",
    "class MyClass:\n",
    "    def __init__(self, value):\n",
    "        self.public_attribute = value\n",
    "\n",
    "    def public_method(self):\n",
    "        return \"This is a public method.\"\n",
    "\n",
    "obj = MyClass(10)\n",
    "print(obj.public_attribute)  # Output: 10\n",
    "print(obj.public_method())   # Output: This is a public method.\n",
    "\n",
    "#Protected:\n",
    "#>>Denotation: Single underscore prefix _.\n",
    "#>>Accessibility: Protected members are intended to be accessed within the class and its subclasses (child classes). However, in Python, this is just\n",
    "#  a naming convention and does not strictly prevent access from outside the class.\n",
    "class MyClass:\n",
    "    def __init__(self, value):\n",
    "        self._protected_attribute = value\n",
    "\n",
    "    def _protected_method(self):\n",
    "        return \"This is a protected method.\"\n",
    "\n",
    "obj = MyClass(10)\n",
    "print(obj._protected_attribute)  # Output: 10 (Still accessible, but discouraged)\n",
    "print(obj._protected_method())   # Output: This is a protected method. (Still accessible, but discouraged)\n",
    "\n",
    "#Private:\n",
    "#>>Denotation: Double underscore prefix __.\n",
    "#>>Accessibility: Private members are intended to be accessed only within the class. Python uses name mangling to make it harder (but not impossible)\n",
    "#  to access them from outside the class.\n",
    "class MyClass:\n",
    "    def __init__(self, value):\n",
    "        self.__private_attribute = value\n",
    "\n",
    "    def __private_method(self):\n",
    "        return \"This is a private method.\"\n",
    "        \n",
    "    def get_private_attribute(self):\n",
    "        return self.__private_attribute\n",
    "        \n",
    "    def call_private_method(self):\n",
    "        return self.__private_method()\n",
    "\n",
    "obj = MyClass(10)\n",
    "    #print(obj.__private_attribute)  # Raises AttributeError\n",
    "    #print(obj.__private_method())   # Raises AttributeError\n",
    "print(obj.get_private_attribute())\n",
    "print(obj.call_private_method())"
   ]
  },
  {
   "cell_type": "code",
   "execution_count": 9,
   "id": "0d2a825a-cb61-4d18-b6cc-0510139ac1bf",
   "metadata": {},
   "outputs": [
    {
     "name": "stdout",
     "output_type": "stream",
     "text": [
      "This is a Prius hybrid car.\n",
      "Engine started\n",
      "Battery charging\n"
     ]
    }
   ],
   "source": [
    "#6.  Describe the five types of inheritance in Python. Provide a simple example of multiple inheritance.\n",
    "#Ans. Python supports five types of inheritance:\n",
    "#  Single inheritance: A class inherits from only one parent class.\n",
    "#  Multiple inheritance: A class inherits from multiple parent classes.\n",
    "#  Multilevel inheritance: A class inherits from a parent class, which in turn inherits from another parent class. \n",
    "#  Hierarchical inheritance: Multiple classes inherit from a single parent class.\n",
    "#  Hybrid inheritance: A combination of two or more types of inheritance.\n",
    "\n",
    "#  This is a simple example of multiple inheritance:\n",
    "class Engine:\n",
    "    def start(self):\n",
    "        return \"Engine started\"\n",
    "\n",
    "class ElectricSystem:\n",
    "    def charge(self):\n",
    "        return \"Battery charging\"\n",
    "\n",
    "class HybridCar(Engine, ElectricSystem):\n",
    "    def __init__(self, model):\n",
    "        self.model = model\n",
    "    \n",
    "    def description(self):\n",
    "        return f\"This is a {self.model} hybrid car.\"\n",
    "\n",
    "my_car = HybridCar(\"Prius\")\n",
    "print(my_car.description())\n",
    "print(my_car.start())\n",
    "print(my_car.charge())"
   ]
  },
  {
   "cell_type": "code",
   "execution_count": 10,
   "id": "f606bd31-fa7b-46ba-a03a-e63c13869eac",
   "metadata": {},
   "outputs": [
    {
     "name": "stdout",
     "output_type": "stream",
     "text": [
      "(<class '__main__.D'>, <class '__main__.B'>, <class '__main__.C'>, <class '__main__.A'>, <class 'object'>)\n",
      "[<class '__main__.D'>, <class '__main__.B'>, <class '__main__.C'>, <class '__main__.A'>, <class 'object'>]\n"
     ]
    }
   ],
   "source": [
    "#7. What is the Method Resolution Order (MRO) in Python? How can you retrieve it programmatically?\n",
    "#Ans. In Python, the Method Resolution Order (MRO) defines the order in which base classes are searched when resolving method and attribute access in\n",
    "#     the context of multiple inheritance. It ensures that the correct method is called when a class inherits from multiple classes with potentially \n",
    "#     conflicting method names. Python uses the C3 linearization algorithm to determine the MRO.\n",
    "#    The MRO can be retrieved programmatically using either the __mro__ attribute or the mro() method of a class. Both approaches provide the same \n",
    "#    information, but __mro__ returns a tuple, while mro() returns a list. \n",
    "class A:\n",
    "    pass\n",
    "\n",
    "class B(A):\n",
    "    pass\n",
    "\n",
    "class C(A):\n",
    "    pass\n",
    "\n",
    "class D(B, C):\n",
    "    pass\n",
    "\n",
    "print(D.__mro__)\n",
    "print(D.mro())"
   ]
  },
  {
   "cell_type": "code",
   "execution_count": 11,
   "id": "bab7ffac-1e40-41cc-a347-8ed480de4e26",
   "metadata": {},
   "outputs": [
    {
     "name": "stdout",
     "output_type": "stream",
     "text": [
      "Area of circle: 201.06192982974676\n",
      "Area of rectangle: 21\n"
     ]
    }
   ],
   "source": [
    "#8.  Create an abstract base class `Shape` with an abstract method `area()`. Then create two subclasses `Circle` and `Rectangle` that implement the \n",
    "#    `area()` method.\n",
    "#Ans. \n",
    "from abc import ABC, abstractmethod\n",
    "import math\n",
    "\n",
    "class Shape(ABC):\n",
    "    @abstractmethod\n",
    "    def area(self):\n",
    "        pass\n",
    "\n",
    "class Circle(Shape):\n",
    "    def __init__(self, radius):\n",
    "        self.radius = radius\n",
    "    \n",
    "    def area(self):\n",
    "        return math.pi * self.radius**2\n",
    "\n",
    "class Rectangle(Shape):\n",
    "    def __init__(self, length, width):\n",
    "        self.length = length\n",
    "        self.width = width\n",
    "    \n",
    "    def area(self):\n",
    "        return self.length * self.width\n",
    "\n",
    "# Example usage:\n",
    "circle = Circle(8)\n",
    "rectangle = Rectangle(3, 7)\n",
    "\n",
    "print(f\"Area of circle: {circle.area()}\")\n",
    "print(f\"Area of rectangle: {rectangle.area()}\")"
   ]
  },
  {
   "cell_type": "code",
   "execution_count": 12,
   "id": "4b89d95f-c9d1-4822-89e8-ef978859b49c",
   "metadata": {},
   "outputs": [
    {
     "name": "stdout",
     "output_type": "stream",
     "text": [
      "Area: 78.53981633974483\n",
      "Area: 24\n",
      "Area: 12.0\n"
     ]
    }
   ],
   "source": [
    "#9.  Demonstrate polymorphism by creating a function that can work with different shape objects to calculate and print their areas.\n",
    "#Ans.\n",
    "import math\n",
    "\n",
    "class Shape:\n",
    "    def area(self):\n",
    "        pass\n",
    "\n",
    "class Circle(Shape):\n",
    "    def __init__(self, radius):\n",
    "        self.radius = radius\n",
    "\n",
    "    def area(self):\n",
    "        return math.pi * self.radius**2\n",
    "\n",
    "class Rectangle(Shape):\n",
    "    def __init__(self, length, width):\n",
    "        self.length = length\n",
    "        self.width = width\n",
    "\n",
    "    def area(self):\n",
    "        return self.length * self.width\n",
    "\n",
    "class Triangle(Shape):\n",
    "    def __init__(self, base, height):\n",
    "        self.base = base\n",
    "        self.height = height\n",
    "    \n",
    "    def area(self):\n",
    "        return 0.5 * self.base * self.height\n",
    "\n",
    "def print_area(shape):\n",
    "    print(f\"Area: {shape.area()}\")\n",
    "\n",
    "# Usage\n",
    "circle = Circle(5)\n",
    "rectangle = Rectangle(4, 6)\n",
    "triangle = Triangle(3, 8)\n",
    "\n",
    "print_area(circle)    \n",
    "print_area(rectangle) \n",
    "print_area(triangle)"
   ]
  },
  {
   "cell_type": "code",
   "execution_count": 13,
   "id": "9e8ef041-dfaf-4a07-8780-fd521bc47f13",
   "metadata": {},
   "outputs": [
    {
     "name": "stdout",
     "output_type": "stream",
     "text": [
      "Account Number: 1234567890\n",
      "Initial Balance: $1000\n",
      "Deposited $500. New balance: $1500\n",
      "Insufficient funds or invalid withdrawal amount.\n",
      "Insufficient funds or invalid withdrawal amount.\n",
      "Final Balance: $1500\n"
     ]
    }
   ],
   "source": [
    "#10. Implement encapsulation in a `BankAccount` class with private attributes for `balance` and `account_number`. Include methods for deposit, \n",
    "#    withdrawal, and balance inquiry.\n",
    "#Ans.\n",
    "class BankAccount:\n",
    "    def __init__(self, account_number, initial_balance=0):\n",
    "        self.__account_number = account_number  # Private attribute\n",
    "        self.__balance = initial_balance        # Private attribute\n",
    "\n",
    "    def deposit(self, amount):\n",
    "        if amount > 0:\n",
    "            self.__balance += amount\n",
    "            print(f\"Deposited ${amount}. New balance: ${self.__balance}\")\n",
    "        else:\n",
    "            print(\"Invalid deposit amount.\")\n",
    "\n",
    "    def withdraw(self, amount):\n",
    "        if 0 < amount <= self.__balance:\n",
    "            self.__balance -= amount\n",
    "            print(f\"Withdrew ${amount}. New balance: ${self.__balance}\")\n",
    "        else:\n",
    "            print(\"Insufficient funds or invalid withdrawal amount.\")\n",
    "\n",
    "    def get_balance(self):\n",
    "        return self.__balance\n",
    "\n",
    "    def get_account_number(self):\n",
    "        return self.__account_number\n",
    "\n",
    "# Example usage:\n",
    "account1 = BankAccount(\"1234567890\", 1000)\n",
    "print(f\"Account Number: {account1.get_account_number()}\")\n",
    "print(f\"Initial Balance: ${account1.get_balance()}\")\n",
    "\n",
    "account1.deposit(500)\n",
    "account1.withdraw(2000)\n",
    "account1.withdraw(15000)\n",
    "\n",
    "print(f\"Final Balance: ${account1.get_balance()}\")"
   ]
  },
  {
   "cell_type": "code",
   "execution_count": 14,
   "id": "9b79888e-cb42-467f-80dd-b6e72c0cacf0",
   "metadata": {},
   "outputs": [],
   "source": [
    "#11.  Write a class that overrides the `__str__` and `__add__` magic methods. What will these methods allow you to do?\n",
    "#Ans.\n",
    "class Vector:\n",
    "    \"\"\"\n",
    "    A class representing a 2D vector.\n",
    "    \"\"\"\n",
    "\n",
    "    def __init__(self, x, y):\n",
    "        \"\"\"\n",
    "        Initializes a Vector object with x and y coordinates.\n",
    "        \"\"\"\n",
    "        self.x = x\n",
    "        self.y = y\n",
    "\n",
    "    def __str__(self):\n",
    "        \"\"\"\n",
    "        Returns a string representation of the vector.\n",
    "        \"\"\"\n",
    "        return f\"Vector({self.x}, {self.y})\"\n",
    "\n",
    "    def __add__(self, other):\n",
    "        \"\"\"\n",
    "        Adds two Vector objects.\n",
    "        \"\"\"\n",
    "        if isinstance(other, Vector):\n",
    "            return Vector(self.x + other.x, self.y + other.y)\n",
    "        else:\n",
    "            raise TypeError(\"Can only add Vectors to other Vectors.\")\n",
    "\n",
    "    def __repr__(self):\n",
    "        \"\"\"\n",
    "        Returns a string representation that can be used to recreate the object.\n",
    "        \"\"\"\n",
    "        return f\"Vector({self.x}, {self.y})\"\n",
    "\n",
    "#What __str__ and __add__ allow you to do in an OOP context:\n",
    "#__str__:\n",
    "#Provides a human-readable representation of your object when you use the print() function or when you convert the object to a string using str().\n",
    "#Allows you to control how your object is displayed when you need to show its data in a user-friendly format.\n",
    "#__add__:\n",
    "#Allows you to define custom behavior for the + operator when it's used with your objects.\n",
    "#Enables you to perform addition operations on your objects in a way that's relevant to your class, for example, adding two vector objects together. \n",
    "#Implements operator overloading, which means you can define custom behavior for standard operators (like +, -, *, /, etc.). \n",
    "#In essence, __str__ helps with displaying information, while __add__ (and other operator magic methods) helps with defining how your objects interact\n",
    "#with standard operators. "
   ]
  },
  {
   "cell_type": "code",
   "execution_count": 15,
   "id": "6c40c45e-025e-47c8-9ff6-7a7322d81e7c",
   "metadata": {},
   "outputs": [
    {
     "name": "stdout",
     "output_type": "stream",
     "text": [
      "my_method executed in 1.0045 seconds\n",
      "Slept for 1 seconds\n"
     ]
    }
   ],
   "source": [
    "#12.  Create a decorator that measures and prints the execution time of a function.\n",
    "#Ans.\n",
    "import time\n",
    "from functools import wraps\n",
    "\n",
    "class TimeIt:\n",
    "    def __init__(self, func):\n",
    "        self.func = func\n",
    "        wraps(func)(self)\n",
    "\n",
    "    def __get__(self, instance, owner):\n",
    "        # Bind the method to the instance\n",
    "        return lambda *args, **kwargs: self(instance, *args, **kwargs)\n",
    "\n",
    "    def __call__(self, *args, **kwargs):\n",
    "        start_time = time.time()\n",
    "        result = self.func(*args, **kwargs)\n",
    "        end_time = time.time()\n",
    "        print(f\"{self.func.__name__} executed in {end_time - start_time:.4f} seconds\")\n",
    "        return result\n",
    "\n",
    "class MyClass:\n",
    "    @TimeIt\n",
    "    def my_method(self, n):\n",
    "        time.sleep(n)\n",
    "        return f\"Slept for {n} seconds\"\n",
    "\n",
    "obj = MyClass()\n",
    "print(obj.my_method(1))"
   ]
  },
  {
   "cell_type": "code",
   "execution_count": 16,
   "id": "8af9bf89-c68b-4de2-a99b-8684866bc187",
   "metadata": {},
   "outputs": [],
   "source": [
    "#13. Explain the concept of the Diamond Problem in multiple inheritance. How does Python resolve it?\n",
    "#Ans. The Diamond Problem occurs in object-oriented programming when a class inherits from two or more classes that share a common\n",
    "#     ancestor. This creates ambiguity if the common ancestor has a method that is overridden in the intermediate classes. The problem \n",
    "#     arises when the subclass tries to call the inherited method; it's unclear which version of the method should be executed: the one\n",
    "#     from the original ancestor or the overridden version from one of the intermediate classes.\n",
    "#     Python resolves the Diamond Problem using Method Resolution Order (MRO), specifically the C3 linearization algorithm. MRO defines\n",
    "#     the order in which base classes are searched when looking for a method. In the case of the Diamond Problem, Python's MRO ensures\n",
    "#     that the correct method is called based on the order of inheritance specified in the class definition."
   ]
  },
  {
   "cell_type": "code",
   "execution_count": 17,
   "id": "ab408d09-d2a2-4aab-b127-ebd2e5ced2d4",
   "metadata": {},
   "outputs": [
    {
     "name": "stdout",
     "output_type": "stream",
     "text": [
      "3\n"
     ]
    }
   ],
   "source": [
    "#14. Write a class method that keeps track of the number of instances created from a class.\n",
    "#Ans.\n",
    "class MyClass:\n",
    "    instance_count = 0  # Class variable to track instances\n",
    "\n",
    "    def __init__(self):\n",
    "        MyClass.instance_count += 1  # Increment count on initialization\n",
    "\n",
    "    @classmethod\n",
    "    def get_instance_count(cls):\n",
    "        return cls.instance_count\n",
    "\n",
    "obj1 = MyClass()\n",
    "obj2 = MyClass()\n",
    "obj3 = MyClass()\n",
    "print(MyClass.get_instance_count())  # Output: 3"
   ]
  },
  {
   "cell_type": "code",
   "execution_count": 18,
   "id": "c5e6fd05-8136-4db9-9a92-66e52bee218b",
   "metadata": {},
   "outputs": [
    {
     "name": "stdout",
     "output_type": "stream",
     "text": [
      "2022 is a leap year: False\n",
      "1918 is a leap year: False\n",
      "2000 is a leap year: True\n"
     ]
    }
   ],
   "source": [
    "#15. . Implement a static method in a class that checks if a given year is a leap year.\n",
    "#Ans.\n",
    "class YearChecker:\n",
    "    @staticmethod\n",
    "    def is_leap_year(year):\n",
    "        \"\"\"\n",
    "        Checks if a given year is a leap year.\n",
    "\n",
    "        A year is a leap year if it is divisible by 4, except for years\n",
    "        divisible by 100 but not by 400.\n",
    "        \"\"\"\n",
    "        if year % 4 == 0:\n",
    "            if year % 100 == 0:\n",
    "                return year % 400 == 0\n",
    "            else:\n",
    "                return True\n",
    "        else:\n",
    "            return False\n",
    "\n",
    "# Example usage\n",
    "year1 = 2022\n",
    "year2 = 1918\n",
    "year3 = 2000\n",
    "\n",
    "print(f\"{year1} is a leap year: {YearChecker.is_leap_year(year1)}\")\n",
    "print(f\"{year2} is a leap year: {YearChecker.is_leap_year(year2)}\")\n",
    "print(f\"{year3} is a leap year: {YearChecker.is_leap_year(year3)}\")"
   ]
  }
 ],
 "metadata": {
  "kernelspec": {
   "display_name": "Python 3 (ipykernel)",
   "language": "python",
   "name": "python3"
  },
  "language_info": {
   "codemirror_mode": {
    "name": "ipython",
    "version": 3
   },
   "file_extension": ".py",
   "mimetype": "text/x-python",
   "name": "python",
   "nbconvert_exporter": "python",
   "pygments_lexer": "ipython3",
   "version": "3.12.4"
  }
 },
 "nbformat": 4,
 "nbformat_minor": 5
}
