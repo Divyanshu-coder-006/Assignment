{
 "cells": [
  {
   "cell_type": "markdown",
   "id": "9549bf60-9ae4-42b4-801a-92326e83c92e",
   "metadata": {},
   "source": [
    "# Data Structure"
   ]
  },
  {
   "cell_type": "code",
   "execution_count": 29,
   "id": "23684ebc-d427-4600-ab00-f3811043a6d7",
   "metadata": {},
   "outputs": [
    {
     "data": {
      "text/plain": [
       "'a  odb'"
      ]
     },
     "execution_count": 29,
     "metadata": {},
     "output_type": "execute_result"
    }
   ],
   "source": [
    "##1. Discuss string slicing and provide examples.\n",
    "\n",
    "#Ans. String slicing is a method of extracting a particular portion of a string.\n",
    "   #  string[a:b:y] #where 'a' is included and 'b' is excluded.\n",
    "   #  where 'y' is the step(interval b/w characters)\n",
    " #Example \n",
    "string1=\"I am a good boy\"\n",
    "string1[2:-1:2]"
   ]
  },
  {
   "cell_type": "code",
   "execution_count": 40,
   "id": "eadbffee-17b5-4e8c-878d-f141bdd5dfd0",
   "metadata": {},
   "outputs": [
    {
     "data": {
      "text/plain": [
       "'Divya'"
      ]
     },
     "execution_count": 40,
     "metadata": {},
     "output_type": "execute_result"
    }
   ],
   "source": [
    "string2=\"Divyanshu\"\n",
    "string2[0:5]"
   ]
  },
  {
   "cell_type": "code",
   "execution_count": 30,
   "id": "2725ce8a-520e-40a4-ba35-98e3bdfe9049",
   "metadata": {},
   "outputs": [],
   "source": [
    "##2. Explain the key features of lists in python.\n",
    "\n",
    "#Ans. Lists are mutable and dynamic;list items can be added,removed or changed after the list is defined.\n",
    "   #  Lists are ordered;newly added items will be placed at the end of the list.\n",
    "   #  Lists use zero-based indexing;every list item has an associated index,and the first item's index is zero.\n",
    "   #  Lists allows multiple values to be stored within the same field."
   ]
  },
  {
   "cell_type": "code",
   "execution_count": 32,
   "id": "af942a2d-e961-4e63-86de-9daf00a4786e",
   "metadata": {},
   "outputs": [
    {
     "name": "stdout",
     "output_type": "stream",
     "text": [
      "8\n",
      "15\n"
     ]
    },
    {
     "data": {
      "text/plain": [
       "15"
      ]
     },
     "execution_count": 32,
     "metadata": {},
     "output_type": "execute_result"
    }
   ],
   "source": [
    "##3. Describe how to access,modify and delete elements in a list with examples.\n",
    "\n",
    "#Ans.>> The elements of a list can be accessed in two ways.\n",
    "   #  The first way is via method of multiple assignments,which unpacks a list into its elements and binds each element to a different name.\n",
    "  #Example-\n",
    "L1 = [8, 15]\n",
    "[x,y] = L1\n",
    "print(x)\n",
    "print(y)\n",
    "   # Second method for accessing the elements in a list is by the element indexing.\n",
    "L1[1] "
   ]
  },
  {
   "cell_type": "code",
   "execution_count": 15,
   "id": "19a96753-0b14-4b54-88df-209ca9f5d3f2",
   "metadata": {},
   "outputs": [
    {
     "data": {
      "text/plain": [
       "[4, 15]"
      ]
     },
     "execution_count": 15,
     "metadata": {},
     "output_type": "execute_result"
    }
   ],
   "source": [
    "  # >> The elements of a list can be modified.\n",
    "    # We can assign an element to the list using index to update.\n",
    "L1 = [8, 15]\n",
    "L1[0]= 4\n",
    "L1"
   ]
  },
  {
   "cell_type": "code",
   "execution_count": 26,
   "id": "07739883-3c32-47b7-846f-4f78dc467a4e",
   "metadata": {},
   "outputs": [
    {
     "data": {
      "text/plain": [
       "[4]"
      ]
     },
     "execution_count": 26,
     "metadata": {},
     "output_type": "execute_result"
    }
   ],
   "source": [
    "   # Second method to modify a list is to delete the elements from list.\n",
    "   #>.Remove-Delete the first occurence of the element from the list.\n",
    " # Example. \n",
    "L1 = [4, 15] \n",
    "L1.remove(15)\n",
    "L1"
   ]
  },
  {
   "cell_type": "code",
   "execution_count": 28,
   "id": "ec1d460a-1461-4ddc-a9ce-bcc11cc2fc5a",
   "metadata": {},
   "outputs": [],
   "source": [
    "   #>.Clear-Delete the element from the list using index.\n",
    "L1 = [4, 15]\n",
    "L1.clear()"
   ]
  },
  {
   "cell_type": "code",
   "execution_count": 41,
   "id": "f8d1c358-7e1e-4c24-99b0-7872fcf56c56",
   "metadata": {},
   "outputs": [
    {
     "data": {
      "text/plain": [
       "15"
      ]
     },
     "execution_count": 41,
     "metadata": {},
     "output_type": "execute_result"
    }
   ],
   "source": [
    "   # To delete the elements from the list.\n",
    "L1 = [4, 15]\n",
    "L1.pop(1)"
   ]
  },
  {
   "cell_type": "code",
   "execution_count": 42,
   "id": "ae1a59de-c089-4b91-b4fb-df4529165f99",
   "metadata": {},
   "outputs": [
    {
     "data": {
      "text/plain": [
       "[4]"
      ]
     },
     "execution_count": 42,
     "metadata": {},
     "output_type": "execute_result"
    }
   ],
   "source": [
    "L1"
   ]
  },
  {
   "cell_type": "code",
   "execution_count": 22,
   "id": "a787306f-abbb-44e6-88c0-1c6600d713a2",
   "metadata": {},
   "outputs": [
    {
     "ename": "TypeError",
     "evalue": "'tuple' object does not support item assignment",
     "output_type": "error",
     "traceback": [
      "\u001b[1;31m---------------------------------------------------------------------------\u001b[0m",
      "\u001b[1;31mTypeError\u001b[0m                                 Traceback (most recent call last)",
      "Cell \u001b[1;32mIn[22], line 19\u001b[0m\n\u001b[0;32m     16\u001b[0m       \u001b[38;5;66;03m# Tuples >> Immutable\u001b[39;00m\n\u001b[0;32m     17\u001b[0m \u001b[38;5;66;03m#example.\u001b[39;00m\n\u001b[0;32m     18\u001b[0m a \u001b[38;5;241m=\u001b[39m(\u001b[38;5;241m1\u001b[39m,\u001b[38;5;241m2\u001b[39m,\u001b[38;5;241m3\u001b[39m,\u001b[38;5;241m4\u001b[39m)\n\u001b[1;32m---> 19\u001b[0m a[\u001b[38;5;241m2\u001b[39m]\u001b[38;5;241m=\u001b[39m\u001b[38;5;241m10\u001b[39m  \u001b[38;5;66;03m#>>Type Error\u001b[39;00m\n\u001b[0;32m     20\u001b[0m     \u001b[38;5;66;03m#.Length>>\u001b[39;00m\n\u001b[0;32m     21\u001b[0m       \u001b[38;5;66;03m#.Lists  >> It can be changed i.e., a new element can be added.\u001b[39;00m\n\u001b[0;32m     22\u001b[0m \u001b[38;5;66;03m#example.\u001b[39;00m\n\u001b[0;32m     23\u001b[0m Lis1 \u001b[38;5;241m=\u001b[39m[\u001b[38;5;241m1\u001b[39m,\u001b[38;5;241m2\u001b[39m,\u001b[38;5;241m3\u001b[39m,\u001b[38;5;241m4\u001b[39m]\n",
      "\u001b[1;31mTypeError\u001b[0m: 'tuple' object does not support item assignment"
     ]
    }
   ],
   "source": [
    "##4. Compare the contrast tuples and lists with examples.\n",
    "\n",
    "#Ans. Syntax>>\n",
    "     # Lists enclosed in square brackets.\n",
    "#example.\n",
    "Lis1 =[1,2,3,4]\n",
    "     # Tuples enclosed in round brackets.\n",
    "#example.\n",
    "Tup1 =(5,6)\n",
    "    #.Mutability>>\n",
    "      # Lists >> Mutable\n",
    "#example.\n",
    "a =[1,2,3,4]\n",
    "a[0]= 5\n",
    "a = [5,2,3,4]\n",
    "      # Tuples >> Immutable\n",
    "#example.\n",
    "a =(1,2,3,4)\n",
    "a[2]=10  #>>Type Error\n",
    "    #.Length>>\n",
    "      #.Lists  >> It can be changed i.e., a new element can be added.\n",
    "#example.\n",
    "Lis1 =[1,2,3,4]\n",
    "Lis1.append(9)      \n",
    "      #.Tuples >> Length is fixed i.e.,new elements can't be added.\n",
    "#example.\n",
    "Tup1 =(5,6)\n",
    "Tup1.append[8]"
   ]
  },
  {
   "cell_type": "code",
   "execution_count": 20,
   "id": "7a3e9ea6-4b53-4fd3-af9b-d57564e144a8",
   "metadata": {},
   "outputs": [
    {
     "ename": "TypeError",
     "evalue": "'set' object is not subscriptable",
     "output_type": "error",
     "traceback": [
      "\u001b[1;31m---------------------------------------------------------------------------\u001b[0m",
      "\u001b[1;31mTypeError\u001b[0m                                 Traceback (most recent call last)",
      "Cell \u001b[1;32mIn[20], line 6\u001b[0m\n\u001b[0;32m      1\u001b[0m \u001b[38;5;66;03m##5. Describe the key features of sets and provide examples of their use.\u001b[39;00m\n\u001b[0;32m      2\u001b[0m \n\u001b[0;32m      3\u001b[0m \u001b[38;5;66;03m#Ans.Sets are unordered.\u001b[39;00m\n\u001b[0;32m      4\u001b[0m   \u001b[38;5;66;03m#.example-\u001b[39;00m\n\u001b[0;32m      5\u001b[0m a\u001b[38;5;241m=\u001b[39m{\u001b[38;5;241m1\u001b[39m,\u001b[38;5;241m3\u001b[39m,\u001b[38;5;241m5\u001b[39m,\u001b[38;5;241m7\u001b[39m,\u001b[38;5;241m9\u001b[39m}\n\u001b[1;32m----> 6\u001b[0m a[\u001b[38;5;241m1\u001b[39m] \u001b[38;5;66;03m#>>Type error('set' object is not subscriptable)\u001b[39;00m\n\u001b[0;32m      7\u001b[0m    \u001b[38;5;66;03m#.Set elements are unique.Duplicate elements are not allowed.\u001b[39;00m\n\u001b[0;32m      8\u001b[0m   \u001b[38;5;66;03m#.example-\u001b[39;00m\n\u001b[0;32m      9\u001b[0m b\u001b[38;5;241m=\u001b[39m{\u001b[38;5;241m1\u001b[39m,\u001b[38;5;241m1\u001b[39m,\u001b[38;5;241m2\u001b[39m,\u001b[38;5;241m2\u001b[39m,\u001b[38;5;241m2\u001b[39m,\u001b[38;5;241m3\u001b[39m,\u001b[38;5;241m3\u001b[39m,\u001b[38;5;241m3\u001b[39m,\u001b[38;5;241m3\u001b[39m,\u001b[38;5;241m4\u001b[39m,\u001b[38;5;241m4\u001b[39m,\u001b[38;5;241m4\u001b[39m,\u001b[38;5;241m4\u001b[39m,\u001b[38;5;241m6\u001b[39m,\u001b[38;5;241m6\u001b[39m,\u001b[38;5;241m6\u001b[39m}\n",
      "\u001b[1;31mTypeError\u001b[0m: 'set' object is not subscriptable"
     ]
    }
   ],
   "source": [
    "##5. Describe the key features of sets and provide examples of their use.\n",
    "\n",
    "#Ans.Sets are unordered.\n",
    "  #.example-\n",
    "a={1,3,5,7,9}\n",
    "a[1] #>>Type error('set' object is not subscriptable)\n",
    "   #.Set elements are unique.Duplicate elements are not allowed.\n",
    "  #.example-\n",
    "b={1,1,2,2,2,3,3,3,3,4,4,4,4,6,6,6}\n",
    "b #>> b={1,2,3,4,6}\n",
    "   #.A set itself maybe modified,but the elements contained in the set must be of an immutable type.\n",
    "  #.example-\n",
    "c={1,2,3,(7,8,9),5,6}\n",
    "c= {(7,8,9),1,2,3,5,6}"
   ]
  },
  {
   "cell_type": "code",
   "execution_count": 30,
   "id": "6584418d-a870-49d6-9984-13737fd3c559",
   "metadata": {},
   "outputs": [
    {
     "ename": "TypeError",
     "evalue": "'tuple' object does not support item assignment",
     "output_type": "error",
     "traceback": [
      "\u001b[1;31m---------------------------------------------------------------------------\u001b[0m",
      "\u001b[1;31mTypeError\u001b[0m                                 Traceback (most recent call last)",
      "Cell \u001b[1;32mIn[30], line 6\u001b[0m\n\u001b[0;32m      1\u001b[0m \u001b[38;5;66;03m##6. Discuss the use cases of Tuples and Sets in Python programming.\u001b[39;00m\n\u001b[0;32m      2\u001b[0m \n\u001b[0;32m      3\u001b[0m \u001b[38;5;66;03m#Ans. Tuples are data structure that are used where we don't want to modify the data.Tuples are immutable.\u001b[39;00m\n\u001b[0;32m      4\u001b[0m  \u001b[38;5;66;03m#example-\u001b[39;00m\n\u001b[0;32m      5\u001b[0m EmpId\u001b[38;5;241m=\u001b[39m(\u001b[38;5;241m1\u001b[39m,\u001b[38;5;241m2\u001b[39m,\u001b[38;5;241m3\u001b[39m,\u001b[38;5;241m4\u001b[39m)\n\u001b[1;32m----> 6\u001b[0m EmpId[\u001b[38;5;241m1\u001b[39m]\u001b[38;5;241m=\u001b[39m\u001b[38;5;241m10\u001b[39m  \u001b[38;5;66;03m#>>TypeError\u001b[39;00m\n\u001b[0;32m      7\u001b[0m    \u001b[38;5;66;03m#.Sets are unordered and unique collection of elements.It doesn't allow duplicate elements.\u001b[39;00m\n\u001b[0;32m      8\u001b[0m   \u001b[38;5;66;03m#example-\u001b[39;00m\n\u001b[0;32m      9\u001b[0m b\u001b[38;5;241m=\u001b[39m{\u001b[38;5;241m1\u001b[39m,\u001b[38;5;241m1\u001b[39m,\u001b[38;5;241m2\u001b[39m,\u001b[38;5;241m2\u001b[39m,\u001b[38;5;241m2\u001b[39m,\u001b[38;5;241m3\u001b[39m,\u001b[38;5;241m3\u001b[39m,\u001b[38;5;241m3\u001b[39m,\u001b[38;5;241m3\u001b[39m,\u001b[38;5;241m4\u001b[39m,\u001b[38;5;241m4\u001b[39m,\u001b[38;5;241m4\u001b[39m,\u001b[38;5;241m4\u001b[39m,\u001b[38;5;241m6\u001b[39m,\u001b[38;5;241m6\u001b[39m,\u001b[38;5;241m6\u001b[39m}\n",
      "\u001b[1;31mTypeError\u001b[0m: 'tuple' object does not support item assignment"
     ]
    }
   ],
   "source": [
    "##6. Discuss the use cases of Tuples and Sets in Python programming.\n",
    "\n",
    "#Ans. Tuples are data structure that are used where we don't want to modify the data.Tuples are immutable.\n",
    " #example-\n",
    "EmpId=(1,2,3,4)\n",
    "EmpId[1]=10  #>>TypeError\n",
    "   #.Sets are unordered and unique collection of elements.It doesn't allow duplicate elements.\n",
    "  #example-\n",
    "b={1,1,2,2,2,3,3,3,3,4,4,4,4,6,6,6}\n",
    "b #>> b={1,2,3,4,6}"
   ]
  },
  {
   "cell_type": "code",
   "execution_count": 21,
   "id": "e81c8b0f-ad61-40b7-9b7a-f51e8d6c1f24",
   "metadata": {},
   "outputs": [
    {
     "name": "stdout",
     "output_type": "stream",
     "text": [
      "{'Name': 'Divyanshu', 'email': 'dj@gmail.com', 'Contact': 12345, 'Country': 'India', 'address': '20/2,Ashok Nagar,Delhi'}\n",
      "{'Name': 'Divyanshu', 'Contact': 12345, 'Country': 'Bharat', 'address': '20/2,Ashok Nagar,Delhi'}\n",
      "{'Name': 'Divyanshu', 'Country': 'Bharat', 'address': '20/2,Ashok Nagar,Delhi'}\n"
     ]
    }
   ],
   "source": [
    "##7. Describe how to add,modify and delete items in a dictionary with examples.\n",
    "\n",
    "#Ans. \n",
    "Employ_ID = {'Name' : \"Divyanshu\",\n",
    "             'email' : \"dj@gmail.com\",\n",
    "             'Contact' : 12345,\n",
    "             'Country':\"India\"}\n",
    "type(Employ_ID)\n",
    "   #.To add items-\n",
    "Employ_ID['address'] =\"20/2,Ashok Nagar,Delhi\"\n",
    "print(Employ_ID)\n",
    "   #.To Modify items-\n",
    "Employ_ID['Country'] = \"Bharat\"\n",
    "Employ_ID\n",
    "   #. To delete items-\n",
    "Employ_ID.pop(\"email\")\n",
    "print(Employ_ID)\n",
    "\n",
    "del Employ_ID[\"Contact\"]\n",
    "print(Employ_ID)"
   ]
  },
  {
   "cell_type": "code",
   "execution_count": 29,
   "id": "21ca47e4-e4fa-44db-b705-cdba5cc40c16",
   "metadata": {},
   "outputs": [
    {
     "name": "stdout",
     "output_type": "stream",
     "text": [
      "Divyanshu\n"
     ]
    },
    {
     "data": {
      "text/plain": [
       "3679256714917209853"
      ]
     },
     "execution_count": 29,
     "metadata": {},
     "output_type": "execute_result"
    }
   ],
   "source": [
    "##8. Discuss the importance of Dictionary keys being immutable and provide examples.\n",
    "\n",
    "#Ans. Immutability is essential for keys because it ensures that the dictinary can efficiently look up values based on their keys.\n",
    "Employ_ID = {'Name' : \"Divyanshu\",\n",
    "             'email' : \"dj@gmail.com\",\n",
    "             'Contact' : 12345,\n",
    "             'Country':\"India\"}\n",
    "print(Employ_ID[\"Name\"])\n",
    "    #.If a key was mutable,its hash value could change,making it impossible to find the associated value in the dictionary.\n",
    "Employ_ID = {'Name' : \"Divyanshu\",\n",
    "             'email' : \"dj@gmail.com\",\n",
    "             'Contact' : 12345,\n",
    "             'Country':\"India\"}\n",
    "hash(\"Name\")"
   ]
  },
  {
   "cell_type": "code",
   "execution_count": null,
   "id": "f91660c2-1277-432b-8665-e40164cbf1c7",
   "metadata": {},
   "outputs": [],
   "source": []
  },
  {
   "cell_type": "code",
   "execution_count": null,
   "id": "e8f474b0-c86e-4c40-86ba-0658757dabb5",
   "metadata": {},
   "outputs": [],
   "source": [
    "\n"
   ]
  },
  {
   "cell_type": "code",
   "execution_count": null,
   "id": "b824aff4-6197-4cac-bc0c-a689782a7a21",
   "metadata": {},
   "outputs": [],
   "source": []
  }
 ],
 "metadata": {
  "kernelspec": {
   "display_name": "Python 3 (ipykernel)",
   "language": "python",
   "name": "python3"
  },
  "language_info": {
   "codemirror_mode": {
    "name": "ipython",
    "version": 3
   },
   "file_extension": ".py",
   "mimetype": "text/x-python",
   "name": "python",
   "nbconvert_exporter": "python",
   "pygments_lexer": "ipython3",
   "version": "3.12.4"
  }
 },
 "nbformat": 4,
 "nbformat_minor": 5
}
